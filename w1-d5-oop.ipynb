{
 "cells": [
  {
   "cell_type": "markdown",
   "metadata": {},
   "source": [
    "# Funcional programming (mini intro)"
   ]
  },
  {
   "cell_type": "code",
   "execution_count": 55,
   "metadata": {
    "scrolled": true
   },
   "outputs": [
    {
     "name": "stdout",
     "output_type": "stream",
     "text": [
      "Updating: 'Whatsapp' [v:5 -> v:25]\n",
      "{'apps': [{'name': 'Tinder', 'version': 3}, {'name': 'Whatsapp', 'version': 5}],\n",
      " 'batteryStatus': {'actualValue': 50},\n",
      " 'marca': 'Apple',\n",
      " 'modelo': 'iPhone',\n",
      " 'size': [5, 5, 4],\n",
      " 'specs': {'hdd': '128GB', 'processor': 'A13 Bionic', 'ram': '4GB'},\n",
      " 'version': '11+'}\n",
      "{'apps': [{'name': 'Tinder', 'version': 3},\n",
      "          {'name': 'Whatsapp', 'version': 25}],\n",
      " 'batteryStatus': {'actualValue': 50},\n",
      " 'marca': 'Apple',\n",
      " 'modelo': 'iPhone',\n",
      " 'size': [5, 5, 4],\n",
      " 'specs': {'hdd': '128GB', 'processor': 'A13 Bionic', 'ram': '4GB'},\n",
      " 'version': '11+'}\n"
     ]
    }
   ],
   "source": [
    "import pprint\n",
    "import copy\n",
    "\n",
    "smartphone = {\n",
    "    \"modelo\":\"iPhone\",\n",
    "    \"version\":\"11+\",\n",
    "    \"marca\":\"Apple\",\n",
    "    \"specs\":{\n",
    "        \"ram\":\"4GB\",\n",
    "        \"hdd\":\"128GB\",\n",
    "        \"processor\":\"A13 Bionic\"\n",
    "    },\n",
    "    \"batteryStatus\":{\n",
    "        \"actualValue\":50\n",
    "    },\n",
    "    \"size\":[5,5,4],\n",
    "    \"apps\":[\n",
    "        {\"name\":\"Tinder\", \"version\":3},\n",
    "        {\"name\":\"Whatsapp\",\"version\":5}\n",
    "    ]\n",
    "}\n",
    "\n",
    "def actualizaApp(phone, appName, newVersion):\n",
    "    # Find the index of the selected app\n",
    "    idx = [i for i,e in enumerate(phone[\"apps\"]) if e[\"name\"]==appName]\n",
    "    # Which version is installed\n",
    "    oldVersion = phone[\"apps\"][idx[0]][\"version\"]\n",
    "    # Update the version number\n",
    "    phone[\"apps\"][idx[0]][\"version\"] = newVersion\n",
    "    # Print the change\n",
    "    print(f\"Updating: '{appName}' [v:{oldVersion} -> v:{newVersion}]\")\n",
    "    return phone\n",
    "\n",
    "    #for app in phone[\"apps\"]:\n",
    "    #    if app[\"name\"] == appName:\n",
    "    #        app[\"version\"] = newVersion\n",
    "    \n",
    "    \n",
    "\n",
    "smartphone_updated = actualizaApp(copy.deepcopy(smartphone),\"Whatsapp\",25)\n",
    "pprint.pprint(smartphone)\n",
    "pprint.pprint(smartphone_updated)"
   ]
  },
  {
   "cell_type": "code",
   "execution_count": 56,
   "metadata": {},
   "outputs": [
    {
     "name": "stdout",
     "output_type": "stream",
     "text": [
      "False\n"
     ]
    }
   ],
   "source": [
    "# The reference for the smartphone is different, so we have copied the smartphone data structure\n",
    "print(id(smartphone.copy()) == id(smartphone))"
   ]
  },
  {
   "cell_type": "code",
   "execution_count": 57,
   "metadata": {},
   "outputs": [
    {
     "name": "stdout",
     "output_type": "stream",
     "text": [
      "True\n"
     ]
    }
   ],
   "source": [
    "# But, we have not copied the values of the dict that are references to other structures\n",
    "print(id(smartphone.copy()[\"apps\"]) == id(smartphone[\"apps\"]))"
   ]
  },
  {
   "cell_type": "code",
   "execution_count": 58,
   "metadata": {},
   "outputs": [
    {
     "name": "stdout",
     "output_type": "stream",
     "text": [
      "False\n"
     ]
    }
   ],
   "source": [
    "# By deepcopying the whole data structure, we clone the COMPLETE structure with it's nested data\n",
    "print(id(copy.deepcopy(smartphone)[\"apps\"]) == id(smartphone[\"apps\"]))"
   ]
  },
  {
   "cell_type": "code",
   "execution_count": 60,
   "metadata": {},
   "outputs": [
    {
     "name": "stdout",
     "output_type": "stream",
     "text": [
      "{'apps': [{'name': 'Tinder', 'version': 3}, {'name': 'Whatsapp', 'version': 5}],\n",
      " 'batteryStatus': {'actualValue': 50},\n",
      " 'marca': 'Apple',\n",
      " 'modelo': 'iPhone',\n",
      " 'size': [5, 5, 4],\n",
      " 'specs': {'hdd': '128GB', 'processor': 'A13 Bionic', 'ram': '4GB'},\n",
      " 'version': '11+'}\n",
      "{'apps': [{'name': 'Tinder', 'version': 3}, {'name': 'Whatsapp', 'version': 5}],\n",
      " 'batteryStatus': {'actualValue': 100},\n",
      " 'marca': 'Apple',\n",
      " 'modelo': 'iPhone',\n",
      " 'size': [5, 5, 4],\n",
      " 'specs': {'hdd': '128GB', 'processor': 'A13 Bionic', 'ram': '4GB'},\n",
      " 'version': '11+'}\n"
     ]
    }
   ],
   "source": [
    "def chargeSmartphone(phone):\n",
    "    phone[\"batteryStatus\"][\"actualValue\"] = 100\n",
    "    return phone\n",
    "\n",
    "smartphone_charged = chargeSmartphone(copy.deepcopy(smartphone))\n",
    "pprint.pprint(smartphone)\n",
    "pprint.pprint(smartphone_charged)"
   ]
  },
  {
   "cell_type": "markdown",
   "metadata": {},
   "source": [
    "# Object Oriented programming (intro)"
   ]
  },
  {
   "cell_type": "code",
   "execution_count": 73,
   "metadata": {},
   "outputs": [],
   "source": [
    "# IMPORTANT: Start the class name with an UPPERCASE letter\n",
    "class Smartphone:\n",
    "    # Método constructor\n",
    "    def __init__(self, modName):\n",
    "        # \"model\" is a property assigned from local variable \"modelo\"\n",
    "        self.model = modName"
   ]
  },
  {
   "cell_type": "code",
   "execution_count": 74,
   "metadata": {},
   "outputs": [
    {
     "name": "stdout",
     "output_type": "stream",
     "text": [
      "<__main__.Smartphone object at 0x10aee8850> <class '__main__.Smartphone'>\n",
      "Apple\n"
     ]
    }
   ],
   "source": [
    "# S is an instance of class Smartphone\n",
    "s = Smartphone(\"Apple\")\n",
    "print(s, type(s))\n",
    "print(s.model)"
   ]
  },
  {
   "cell_type": "code",
   "execution_count": 77,
   "metadata": {},
   "outputs": [
    {
     "name": "stdout",
     "output_type": "stream",
     "text": [
      "Apple Samsung\n",
      "True\n"
     ]
    }
   ],
   "source": [
    "s1 = Smartphone(\"Apple\")\n",
    "s2 = Smartphone(\"Samsung\")\n",
    "print(s1.model, s2.model)\n",
    "s3 = s2\n",
    "print(id(s3)==id(s2))"
   ]
  },
  {
   "cell_type": "code",
   "execution_count": 71,
   "metadata": {},
   "outputs": [
    {
     "data": {
      "text/plain": [
       "True"
      ]
     },
     "execution_count": 71,
     "metadata": {},
     "output_type": "execute_result"
    }
   ],
   "source": [
    "type(s1) == Smartphone"
   ]
  },
  {
   "cell_type": "code",
   "execution_count": 72,
   "metadata": {},
   "outputs": [
    {
     "data": {
      "text/plain": [
       "False"
      ]
     },
     "execution_count": 72,
     "metadata": {},
     "output_type": "execute_result"
    }
   ],
   "source": [
    "s1 == Smartphone"
   ]
  },
  {
   "cell_type": "markdown",
   "metadata": {},
   "source": [
    "# Objects, more examples"
   ]
  },
  {
   "cell_type": "code",
   "execution_count": 86,
   "metadata": {},
   "outputs": [],
   "source": [
    "class Smartphone:\n",
    "    def __init__(self, modName):\n",
    "        self.model = modName\n",
    "\n",
    "    def imprimeDatos(self):\n",
    "        print(f\"Smartphone de la marca {self.model}\")"
   ]
  },
  {
   "cell_type": "code",
   "execution_count": 88,
   "metadata": {},
   "outputs": [
    {
     "name": "stdout",
     "output_type": "stream",
     "text": [
      "Smartphone de la marca Apple\n",
      "Smartphone de la marca Samsung\n"
     ]
    }
   ],
   "source": [
    "s1 = Smartphone(\"Apple\")\n",
    "s2 = Smartphone(\"Samsung\")\n",
    "\n",
    "s1.imprimeDatos()\n",
    "s2.imprimeDatos()"
   ]
  },
  {
   "cell_type": "code",
   "execution_count": 101,
   "metadata": {},
   "outputs": [
    {
     "name": "stdout",
     "output_type": "stream",
     "text": [
      "Smartphone Apple->iPhone->11\n",
      "Smartphone Samsung->Galaxy->11plus\n"
     ]
    }
   ],
   "source": [
    "class Smartphone:\n",
    "    def __init__(self, marca, modelo, version):\n",
    "        self.marca = marca\n",
    "        self.modelo = modelo\n",
    "        self.version = version\n",
    "\n",
    "    def imprimeDatos(self):\n",
    "        name = '->'.join(self.getBrandDetails())\n",
    "        print(f\"Smartphone {name}\")\n",
    "        \n",
    "    def getBrandDetails(self):\n",
    "        return [self.marca, self.modelo, self.version]\n",
    "        \n",
    "        \n",
    "s1 = Smartphone(\"Apple\", \"iPhone\", \"11\")\n",
    "s2 = Smartphone(\"Samsung\", \"Galaxy\", \"11plus\")\n",
    "\n",
    "# execute a method from object s1\n",
    "s1.imprimeDatos()\n",
    "\n",
    "# execute a method from object s2\n",
    "s2.imprimeDatos()"
   ]
  },
  {
   "cell_type": "code",
   "execution_count": 100,
   "metadata": {},
   "outputs": [
    {
     "name": "stdout",
     "output_type": "stream",
     "text": [
      "Smartphone HOla->iPhone->11\n"
     ]
    }
   ],
   "source": [
    "s1 = Smartphone(\"Apple\", \"iPhone\", \"11\")\n",
    "s1.marca = \"HOla\"\n",
    "s1.imprimeDatos()"
   ]
  },
  {
   "cell_type": "code",
   "execution_count": 129,
   "metadata": {},
   "outputs": [
    {
     "name": "stdout",
     "output_type": "stream",
     "text": [
      "Smartphone: Apple -> iPhone -> 11\n",
      "\tThere are no apps installed on this device\n"
     ]
    }
   ],
   "source": [
    "class Smartphone:\n",
    "    def __init__(self, marca=\"Apple\", modelo=\"iPhone\", version=\"11\"):\n",
    "        self.marca = marca\n",
    "        self.modelo = modelo\n",
    "        self.version = version\n",
    "        self.apps = []\n",
    "\n",
    "    def installApp(self, appName, version=1):\n",
    "        self.apps.append({\"name\":appName, \"version\":version})\n",
    "        \n",
    "    def updateApp(self, appName, newVersion):\n",
    "        for app in self.apps:\n",
    "            if app[\"name\"] == appName:\n",
    "                print(f'Updated v{app[\"version\"]} -> {newVersion}')\n",
    "                app[\"version\"] = newVersion\n",
    "    \n",
    "    def printApps(self):\n",
    "        if len(self.apps) == 0:\n",
    "            print(\"\\tThere are no apps installed on this device\")\n",
    "        \n",
    "        for app in self.apps:\n",
    "            print(f'\\tName:{app[\"name\"]} version:{app[\"version\"]}')\n",
    "        \n",
    "    def imprimeDatos(self):\n",
    "        name = ' -> '.join(self.getBrandDetails())\n",
    "        print(f\"Smartphone: {name}\")\n",
    "        self.printApps()\n",
    "        \n",
    "        \n",
    "    def getBrandDetails(self):\n",
    "        return [self.marca, self.modelo, self.version]\n",
    "\n",
    "# Create a Smartphone instance\n",
    "s = Smartphone()\n",
    "\n",
    "# print data\n",
    "s.imprimeDatos()"
   ]
  },
  {
   "cell_type": "code",
   "execution_count": 130,
   "metadata": {},
   "outputs": [
    {
     "name": "stdout",
     "output_type": "stream",
     "text": [
      "Smartphone: Apple -> iPhone -> 11\n",
      "\tName:Tinder version:1\n",
      "\tName:Whatsapp version:1\n",
      "\tName:GoogleMaps version:1\n",
      "\tName:Twitter version:1\n",
      "Smartphone: Apple -> iPhone -> 11\n",
      "\tName:Tinder version:1\n",
      "\tName:Whatsapp version:1\n",
      "\tName:GoogleMaps version:1\n",
      "\tName:Twitter version:1\n",
      "\tName:Giphy version:1\n",
      "[{'name': 'Tinder', 'version': 1},\n",
      " {'name': 'Whatsapp', 'version': 1},\n",
      " {'name': 'GoogleMaps', 'version': 1},\n",
      " {'name': 'Twitter', 'version': 1},\n",
      " {'name': 'Giphy', 'version': 1}]\n",
      "Smartphone: Apple -> iPhone -> 11\n",
      "\tName:PEPE version:1\n",
      "\tName:Whatsapp version:1\n",
      "\tName:GoogleMaps version:1\n",
      "\tName:Twitter version:1\n",
      "\tName:Giphy version:1\n",
      "Updated v1 -> 26\n",
      "Smartphone: Apple -> iPhone -> 11\n",
      "\tName:PEPE version:1\n",
      "\tName:Whatsapp version:1\n",
      "\tName:GoogleMaps version:1\n",
      "\tName:Twitter version:26\n",
      "\tName:Giphy version:1\n"
     ]
    }
   ],
   "source": [
    "s = Smartphone()\n",
    "s.installApp(\"Tinder\")\n",
    "s.installApp(\"Whatsapp\")\n",
    "s.installApp(\"GoogleMaps\")\n",
    "s.installApp(\"Twitter\")\n",
    "\n",
    "s.imprimeDatos()\n",
    "\n",
    "s.installApp(\"Giphy\")\n",
    "\n",
    "s.imprimeDatos()\n",
    "\n",
    "pprint.pprint(s.apps)\n",
    "\n",
    "s.apps[0][\"name\"] = \"PEPE\"\n",
    "s.imprimeDatos()\n",
    "\n",
    "s.updateApp(\"Twitter\",26)\n",
    "s.imprimeDatos()\n"
   ]
  },
  {
   "cell_type": "markdown",
   "metadata": {},
   "source": [
    "# Inheritance (herencia) 🔥"
   ]
  },
  {
   "cell_type": "code",
   "execution_count": 177,
   "metadata": {},
   "outputs": [],
   "source": [
    "class Animal:\n",
    "    def __init__(self, nombre, sonido):\n",
    "        self.nombre = nombre\n",
    "        self.sonido = sonido\n",
    "    \n",
    "    def makeSound(self, n=2):\n",
    "        print(f\"{' '.join([self.sonido]*n)}!\")\n",
    "        \n",
    "class Dog(Animal):\n",
    "    def __init__(self, name):\n",
    "        # Call to superconstructor or parent constructor (Animal)\n",
    "        super().__init__(name, \"wow\")\n",
    "        # If we want, we can define more properties after calling super constructor\n",
    "        self.altura = 10"
   ]
  },
  {
   "cell_type": "code",
   "execution_count": 178,
   "metadata": {},
   "outputs": [
    {
     "name": "stdout",
     "output_type": "stream",
     "text": [
      "grrr grrr!\n",
      "wow wow!\n"
     ]
    }
   ],
   "source": [
    "p = Animal(\"Goofy\",\"grrr\")\n",
    "p.makeSound()\n",
    "\n",
    "q = Dog(\"Snoopy\")\n",
    "q.makeSound()"
   ]
  },
  {
   "cell_type": "code",
   "execution_count": 179,
   "metadata": {},
   "outputs": [
    {
     "data": {
      "text/plain": [
       "10"
      ]
     },
     "execution_count": 179,
     "metadata": {},
     "output_type": "execute_result"
    }
   ],
   "source": [
    "q.altura"
   ]
  },
  {
   "cell_type": "code",
   "execution_count": 180,
   "metadata": {},
   "outputs": [
    {
     "name": "stdout",
     "output_type": "stream",
     "text": [
      "<class '__main__.Dog'> <class '__main__.Animal'>\n"
     ]
    }
   ],
   "source": [
    "print(type(q), type(p))"
   ]
  },
  {
   "cell_type": "code",
   "execution_count": 217,
   "metadata": {},
   "outputs": [
    {
     "name": "stdout",
     "output_type": "stream",
     "text": [
      "True\n",
      "True\n",
      "True\n",
      "False\n",
      "False\n"
     ]
    }
   ],
   "source": [
    "print(isinstance(q,Animal))\n",
    "print(isinstance(q,Dog))\n",
    "print(isinstance(p,Animal))\n",
    "print(isinstance(p,Dog))\n",
    "print(isinstance(Animal,Dog))\n"
   ]
  },
  {
   "cell_type": "code",
   "execution_count": 196,
   "metadata": {},
   "outputs": [
    {
     "name": "stdout",
     "output_type": "stream",
     "text": [
      "True\n",
      "True\n",
      "True\n",
      "True\n",
      "True\n",
      "True\n",
      "True\n",
      "True\n"
     ]
    }
   ],
   "source": [
    "print(isinstance([],list))\n",
    "print(isinstance({},dict))\n",
    "print(isinstance([],object))\n",
    "print(isinstance({},object))\n",
    "print(isinstance(3,object))\n",
    "print(isinstance(True,object))\n",
    "print(isinstance(None,object))\n",
    "\n",
    "def hola():\n",
    "    return hola\n",
    "\n",
    "print(isinstance(hola,object))"
   ]
  },
  {
   "cell_type": "code",
   "execution_count": 216,
   "metadata": {},
   "outputs": [
    {
     "name": "stdout",
     "output_type": "stream",
     "text": [
      "True\n",
      "True\n",
      "True\n"
     ]
    }
   ],
   "source": [
    "# https://stackoverflow.com/questions/51318855/isinstance-method-returns-false-answer-in-python-3\n",
    "# https://docs.python.org/3/library/exceptions.html\n",
    "\n",
    "print(issubclass(ValueError,Exception))\n",
    "print(isinstance(ValueError(\"asdf\"),Exception))\n",
    "print(issubclass(BaseException,object))\n"
   ]
  },
  {
   "cell_type": "code",
   "execution_count": 207,
   "metadata": {},
   "outputs": [
    {
     "name": "stdout",
     "output_type": "stream",
     "text": [
      "(<class 'Exception'>,)\n"
     ]
    }
   ],
   "source": [
    "print(ValueError.__bases__)"
   ]
  },
  {
   "cell_type": "code",
   "execution_count": 208,
   "metadata": {},
   "outputs": [
    {
     "name": "stdout",
     "output_type": "stream",
     "text": [
      "(<class '__main__.Animal'>,)\n"
     ]
    }
   ],
   "source": [
    "print(Dog.__bases__)"
   ]
  },
  {
   "cell_type": "code",
   "execution_count": 225,
   "metadata": {},
   "outputs": [
    {
     "name": "stdout",
     "output_type": "stream",
     "text": [
      "Hola\n",
      "Adios\n",
      "Hola\n"
     ]
    }
   ],
   "source": [
    "# Sobrecarga de método\n",
    "\n",
    "class A:\n",
    "    def saluda(self):\n",
    "        print(\"Hola\")\n",
    "    \n",
    "class B(A):\n",
    "    def saluda(self):\n",
    "        print(\"Adios\")\n",
    "\n",
    "    def saluda2(self):\n",
    "        # Instead of calling our own saluda method, we call our parent saluda method\n",
    "        super().saluda()\n",
    "        \n",
    "a = A()\n",
    "b = B()\n",
    "\n",
    "a.saluda()\n",
    "b.saluda()\n",
    "b.saluda2()"
   ]
  },
  {
   "cell_type": "code",
   "execution_count": null,
   "metadata": {},
   "outputs": [],
   "source": []
  }
 ],
 "metadata": {
  "kernelspec": {
   "display_name": "Python 3",
   "language": "python",
   "name": "python3"
  },
  "language_info": {
   "codemirror_mode": {
    "name": "ipython",
    "version": 3
   },
   "file_extension": ".py",
   "mimetype": "text/x-python",
   "name": "python",
   "nbconvert_exporter": "python",
   "pygments_lexer": "ipython3",
   "version": "3.7.5"
  }
 },
 "nbformat": 4,
 "nbformat_minor": 2
}
