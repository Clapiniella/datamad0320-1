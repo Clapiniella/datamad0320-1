{
 "cells": [
  {
   "cell_type": "code",
   "execution_count": 5,
   "metadata": {},
   "outputs": [],
   "source": [
    "import requests\n",
    "from dotenv import load_dotenv\n",
    "import os\n",
    "load_dotenv()\n",
    "apiKey = os.getenv(\"GITHUB_APIKEY\")"
   ]
  },
  {
   "cell_type": "code",
   "execution_count": 6,
   "metadata": {},
   "outputs": [],
   "source": [
    "def getFromGithub(path,queryParams=dict(),apiKey=\"\"):\n",
    "    url = f\"https://api.github.com{path}\"\n",
    "    headers = {\"Authorization\":f\"token {apiKey}\"} if apiKey else {}\n",
    "    res = requests.get(url, params=queryParams, headers=headers)\n",
    "    print(res.status_code, res.url)\n",
    "    return res.json()"
   ]
  },
  {
   "cell_type": "code",
   "execution_count": 9,
   "metadata": {},
   "outputs": [
    {
     "name": "stdout",
     "output_type": "stream",
     "text": [
      "200 https://api.github.com/search/code?q=repo%3Aironhack-datalabs%2Fscavenger+filename%3A.scavengerhunt\n"
     ]
    }
   ],
   "source": [
    "params = {\n",
    "    \"q\":\"repo:ironhack-datalabs/scavenger filename:.scavengerhunt\"\n",
    "}\n",
    "data = getFromGithub(\"/search/code\",queryParams=params,apiKey=apiKey)"
   ]
  },
  {
   "cell_type": "code",
   "execution_count": 20,
   "metadata": {},
   "outputs": [],
   "source": [
    "rawUrl = lambda filename: f\"https://raw.githubusercontent.com/ironhack-datalabs/scavenger/master/{filename}\"\n",
    "\n",
    "allScavengers = list(map(rawUrl,sorted(map(lambda e: e[\"path\"],data[\"items\"]), key=lambda e:e.split(\"/\")[1])))"
   ]
  },
  {
   "cell_type": "code",
   "execution_count": 30,
   "metadata": {},
   "outputs": [
    {
     "data": {
      "text/plain": [
       "['https://raw.githubusercontent.com/ironhack-datalabs/scavenger/master/98750/.0001.scavengerhunt',\n",
       " 'https://raw.githubusercontent.com/ironhack-datalabs/scavenger/master/88596/.0002.scavengerhunt',\n",
       " 'https://raw.githubusercontent.com/ironhack-datalabs/scavenger/master/60224/.0003.scavengerhunt',\n",
       " 'https://raw.githubusercontent.com/ironhack-datalabs/scavenger/master/68848/.0004.scavengerhunt',\n",
       " 'https://raw.githubusercontent.com/ironhack-datalabs/scavenger/master/44639/.0005.scavengerhunt',\n",
       " 'https://raw.githubusercontent.com/ironhack-datalabs/scavenger/master/15024/.0006.scavengerhunt',\n",
       " 'https://raw.githubusercontent.com/ironhack-datalabs/scavenger/master/17020/.0007.scavengerhunt',\n",
       " 'https://raw.githubusercontent.com/ironhack-datalabs/scavenger/master/15534/.0008.scavengerhunt',\n",
       " 'https://raw.githubusercontent.com/ironhack-datalabs/scavenger/master/97881/.0009.scavengerhunt',\n",
       " 'https://raw.githubusercontent.com/ironhack-datalabs/scavenger/master/47830/.0010.scavengerhunt',\n",
       " 'https://raw.githubusercontent.com/ironhack-datalabs/scavenger/master/50896/.0011.scavengerhunt',\n",
       " 'https://raw.githubusercontent.com/ironhack-datalabs/scavenger/master/15534/.0012.scavengerhunt',\n",
       " 'https://raw.githubusercontent.com/ironhack-datalabs/scavenger/master/89338/.0013.scavengerhunt',\n",
       " 'https://raw.githubusercontent.com/ironhack-datalabs/scavenger/master/49418/.0014.scavengerhunt',\n",
       " 'https://raw.githubusercontent.com/ironhack-datalabs/scavenger/master/91701/.0015.scavengerhunt',\n",
       " 'https://raw.githubusercontent.com/ironhack-datalabs/scavenger/master/47222/.0016.scavengerhunt',\n",
       " 'https://raw.githubusercontent.com/ironhack-datalabs/scavenger/master/70985/.0017.scavengerhunt',\n",
       " 'https://raw.githubusercontent.com/ironhack-datalabs/scavenger/master/45525/.0018.scavengerhunt',\n",
       " 'https://raw.githubusercontent.com/ironhack-datalabs/scavenger/master/70751/.0019.scavengerhunt',\n",
       " 'https://raw.githubusercontent.com/ironhack-datalabs/scavenger/master/55685/.0020.scavengerhunt',\n",
       " 'https://raw.githubusercontent.com/ironhack-datalabs/scavenger/master/30351/.0021.scavengerhunt',\n",
       " 'https://raw.githubusercontent.com/ironhack-datalabs/scavenger/master/40303/.0022.scavengerhunt',\n",
       " 'https://raw.githubusercontent.com/ironhack-datalabs/scavenger/master/55417/.0023.scavengerhunt',\n",
       " 'https://raw.githubusercontent.com/ironhack-datalabs/scavenger/master/47222/.0024.scavengerhunt']"
      ]
     },
     "execution_count": 30,
     "metadata": {},
     "output_type": "execute_result"
    }
   ],
   "source": [
    "allScavengers"
   ]
  },
  {
   "cell_type": "code",
   "execution_count": 27,
   "metadata": {},
   "outputs": [],
   "source": [
    "sentence = [requests.get(url).text.strip() for url in allScavengers]"
   ]
  },
  {
   "cell_type": "code",
   "execution_count": 29,
   "metadata": {},
   "outputs": [
    {
     "data": {
      "text/plain": [
       "'In data science, 80 percent of time spent is preparing data, 20 percent of time is spent complaining about the need to prepare data.'"
      ]
     },
     "execution_count": 29,
     "metadata": {},
     "output_type": "execute_result"
    }
   ],
   "source": [
    "' '.join(sentence)"
   ]
  },
  {
   "cell_type": "code",
   "execution_count": null,
   "metadata": {},
   "outputs": [],
   "source": []
  }
 ],
 "metadata": {
  "kernelspec": {
   "display_name": "Python 3",
   "language": "python",
   "name": "python3"
  },
  "language_info": {
   "codemirror_mode": {
    "name": "ipython",
    "version": 3
   },
   "file_extension": ".py",
   "mimetype": "text/x-python",
   "name": "python",
   "nbconvert_exporter": "python",
   "pygments_lexer": "ipython3",
   "version": "3.7.5"
  }
 },
 "nbformat": 4,
 "nbformat_minor": 2
}
