{
 "cells": [
  {
   "cell_type": "code",
   "execution_count": 1,
   "metadata": {},
   "outputs": [],
   "source": [
    "def suma(a,b):\n",
    "    return a+b"
   ]
  },
  {
   "cell_type": "code",
   "execution_count": 2,
   "metadata": {},
   "outputs": [
    {
     "data": {
      "text/plain": [
       "12"
      ]
     },
     "execution_count": 2,
     "metadata": {},
     "output_type": "execute_result"
    }
   ],
   "source": [
    "suma(5,7)"
   ]
  },
  {
   "cell_type": "code",
   "execution_count": 3,
   "metadata": {},
   "outputs": [
    {
     "name": "stdout",
     "output_type": "stream",
     "text": [
      "Hola\n"
     ]
    }
   ],
   "source": [
    "print(\"Hola\")"
   ]
  },
  {
   "cell_type": "code",
   "execution_count": 4,
   "metadata": {},
   "outputs": [],
   "source": [
    "def suma2(a,b):\n",
    "    print(a+b)\n",
    "    return "
   ]
  },
  {
   "cell_type": "code",
   "execution_count": 5,
   "metadata": {},
   "outputs": [
    {
     "name": "stdout",
     "output_type": "stream",
     "text": [
      "12\n"
     ]
    },
    {
     "data": {
      "text/plain": [
       "5"
      ]
     },
     "execution_count": 5,
     "metadata": {},
     "output_type": "execute_result"
    }
   ],
   "source": [
    "a=5\n",
    "suma2(5,7)\n",
    "a"
   ]
  },
  {
   "cell_type": "code",
   "execution_count": 6,
   "metadata": {},
   "outputs": [
    {
     "data": {
      "text/plain": [
       "'Hola Sin nombre'"
      ]
     },
     "execution_count": 6,
     "metadata": {},
     "output_type": "execute_result"
    }
   ],
   "source": [
    "def saluda(nombre=\"Sin nombre\"):\n",
    "    return f\"Hola {nombre}\"\n",
    "\n",
    "saluda(\"pepe\")\n",
    "saluda(\"pepe2\")\n",
    "saluda(\"Luis\")\n",
    "saluda(\"Juan\")\n",
    "saluda()"
   ]
  },
  {
   "cell_type": "code",
   "execution_count": 7,
   "metadata": {},
   "outputs": [
    {
     "name": "stdout",
     "output_type": "stream",
     "text": [
      "nombre:Pepe, lang:es\n",
      "nombre:Juan, lang:en\n",
      "nombre:Juan, lang:laksjdfh\n"
     ]
    }
   ],
   "source": [
    "def saluda(nombre, lang=\"es\"):\n",
    "    print(f\"nombre:{nombre}, lang:{lang}\")\n",
    "    if lang==\"es\":\n",
    "        return f\"¡¡Hola {nombre}!!\" # return \"¡¡Hola \" + nombre + \"!!\"\n",
    "    elif lang==\"en\":\n",
    "        return f\"Hello {nombre}!\"\n",
    "\n",
    "x = saluda(\"Pepe\")\n",
    "saluda(\"Juan\",\"en\")\n",
    "saluda(\"Juan\",\"laksjdfh\")"
   ]
  },
  {
   "cell_type": "code",
   "execution_count": 8,
   "metadata": {},
   "outputs": [
    {
     "name": "stdout",
     "output_type": "stream",
     "text": [
      "nombre:Felipe, lang:es\n",
      "¡¡Hola Felipe!!\n",
      "nombre:Clara, lang:es\n",
      "¡¡Hola Clara!!\n",
      "nombre:Luis, lang:es\n",
      "¡¡Hola Luis!!\n",
      "nombre:Pepe, lang:es\n",
      "¡¡Hola Pepe!!\n"
     ]
    }
   ],
   "source": [
    "nombres = [\"Felipe\",\"Clara\",\"Luis\",\"Pepe\"]\n",
    "for nombre in nombres:\n",
    "    print(saluda(nombre))"
   ]
  },
  {
   "cell_type": "markdown",
   "metadata": {},
   "source": [
    "# POSICIONALES"
   ]
  },
  {
   "cell_type": "code",
   "execution_count": 9,
   "metadata": {},
   "outputs": [
    {
     "name": "stdout",
     "output_type": "stream",
     "text": [
      "nombre:Felipe, lang:es\n",
      "¡¡Hola Felipe!!\n",
      "nombre:Clara, lang:es\n",
      "¡¡Hola Clara!!\n",
      "nombre:Luis, lang:es\n",
      "¡¡Hola Luis!!\n",
      "nombre:Pepe, lang:es\n",
      "¡¡Hola Pepe!!\n"
     ]
    }
   ],
   "source": [
    "def saludaVarios(nombres, lang):\n",
    "    for nombre in nombres:\n",
    "        print(saluda(nombre,lang))\n",
    "        \n",
    "saludaVarios([\"Felipe\",\"Clara\",\"Luis\",\"Pepe\"],\"es\")"
   ]
  },
  {
   "cell_type": "code",
   "execution_count": 10,
   "metadata": {},
   "outputs": [
    {
     "ename": "SyntaxError",
     "evalue": "non-default argument follows default argument (<ipython-input-10-74d04ca63f7c>, line 1)",
     "output_type": "error",
     "traceback": [
      "\u001b[0;36m  File \u001b[0;32m\"<ipython-input-10-74d04ca63f7c>\"\u001b[0;36m, line \u001b[0;32m1\u001b[0m\n\u001b[0;31m    def multiplica(a,b=10,c):\u001b[0m\n\u001b[0m                  ^\u001b[0m\n\u001b[0;31mSyntaxError\u001b[0m\u001b[0;31m:\u001b[0m non-default argument follows default argument\n"
     ]
    }
   ],
   "source": [
    "def multiplica(a,b=10,c):\n",
    "    print(f\"a:{a} b:{b} c:{c}\")\n",
    "    print(a*b*c)\n",
    "    \n",
    "multiplica(5,5)"
   ]
  },
  {
   "cell_type": "markdown",
   "metadata": {},
   "source": [
    "# Keyword arguments"
   ]
  },
  {
   "cell_type": "code",
   "execution_count": 14,
   "metadata": {},
   "outputs": [
    {
     "ename": "NameError",
     "evalue": "name 'az' is not defined",
     "output_type": "error",
     "traceback": [
      "\u001b[0;31m---------------------------------------------------------------------------\u001b[0m",
      "\u001b[0;31mNameError\u001b[0m                                 Traceback (most recent call last)",
      "\u001b[0;32m<ipython-input-14-8c9e673279d0>\u001b[0m in \u001b[0;36m<module>\u001b[0;34m\u001b[0m\n\u001b[1;32m      3\u001b[0m     \u001b[0mprint\u001b[0m\u001b[0;34m(\u001b[0m\u001b[0ma\u001b[0m\u001b[0;34m*\u001b[0m\u001b[0mb\u001b[0m\u001b[0;34m*\u001b[0m\u001b[0mc\u001b[0m\u001b[0;34m)\u001b[0m\u001b[0;34m\u001b[0m\u001b[0;34m\u001b[0m\u001b[0m\n\u001b[1;32m      4\u001b[0m \u001b[0;34m\u001b[0m\u001b[0m\n\u001b[0;32m----> 5\u001b[0;31m \u001b[0mmultiplica\u001b[0m\u001b[0;34m(\u001b[0m\u001b[0;36m5\u001b[0m\u001b[0;34m,\u001b[0m\u001b[0maz\u001b[0m\u001b[0;34m)\u001b[0m \u001b[0;31m# c=10 is a KEYWORD ARGUMENT\u001b[0m\u001b[0;34m\u001b[0m\u001b[0;34m\u001b[0m\u001b[0m\n\u001b[0m",
      "\u001b[0;31mNameError\u001b[0m: name 'az' is not defined"
     ]
    }
   ],
   "source": [
    "def multiplica(a,b=10,c=10):\n",
    "    print(f\"a:{a} b:{b} c:{c}\")\n",
    "    print(a*b*c)\n",
    "    \n",
    "multiplica(5,az) # c=10 is a KEYWORD ARGUMENT"
   ]
  },
  {
   "cell_type": "code",
   "execution_count": 15,
   "metadata": {},
   "outputs": [
    {
     "ename": "TypeError",
     "evalue": "saluda() got an unexpected keyword argument 'lang'",
     "output_type": "error",
     "traceback": [
      "\u001b[0;31m---------------------------------------------------------------------------\u001b[0m",
      "\u001b[0;31mTypeError\u001b[0m                                 Traceback (most recent call last)",
      "\u001b[0;32m<ipython-input-15-b874639d70ca>\u001b[0m in \u001b[0;36m<module>\u001b[0;34m\u001b[0m\n\u001b[0;32m----> 1\u001b[0;31m \u001b[0msaluda\u001b[0m\u001b[0;34m(\u001b[0m\u001b[0mlang\u001b[0m\u001b[0;34m=\u001b[0m\u001b[0;34m\"en\"\u001b[0m\u001b[0;34m,\u001b[0m\u001b[0mnombre\u001b[0m\u001b[0;34m=\u001b[0m\u001b[0;34m\"pepe\"\u001b[0m\u001b[0;34m)\u001b[0m \u001b[0;31m# more KEYWORD ARGUMENTS\u001b[0m\u001b[0;34m\u001b[0m\u001b[0;34m\u001b[0m\u001b[0m\n\u001b[0m",
      "\u001b[0;31mTypeError\u001b[0m: saluda() got an unexpected keyword argument 'lang'"
     ]
    }
   ],
   "source": [
    "saluda(lang=\"en\",nombre=\"pepe\") # more KEYWORD ARGUMENTS"
   ]
  },
  {
   "cell_type": "code",
   "execution_count": 16,
   "metadata": {},
   "outputs": [
    {
     "ename": "TypeError",
     "evalue": "saluda() missing 1 required positional argument: 'edad'",
     "output_type": "error",
     "traceback": [
      "\u001b[0;31m---------------------------------------------------------------------------\u001b[0m",
      "\u001b[0;31mTypeError\u001b[0m                                 Traceback (most recent call last)",
      "\u001b[0;32m<ipython-input-16-e8d9771c31ee>\u001b[0m in \u001b[0;36m<module>\u001b[0;34m\u001b[0m\n\u001b[1;32m      4\u001b[0m \u001b[0;34m\u001b[0m\u001b[0m\n\u001b[1;32m      5\u001b[0m \u001b[0mn\u001b[0m \u001b[0;34m=\u001b[0m \u001b[0;34m[\u001b[0m\u001b[0;34m\"A\"\u001b[0m\u001b[0;34m,\u001b[0m\u001b[0;34m\"B\"\u001b[0m\u001b[0;34m,\u001b[0m\u001b[0;34m\"C\"\u001b[0m\u001b[0;34m]\u001b[0m\u001b[0;34m\u001b[0m\u001b[0;34m\u001b[0m\u001b[0m\n\u001b[0;32m----> 6\u001b[0;31m \u001b[0msaludaVarios\u001b[0m\u001b[0;34m(\u001b[0m\u001b[0mn\u001b[0m\u001b[0;34m)\u001b[0m\u001b[0;34m\u001b[0m\u001b[0;34m\u001b[0m\u001b[0m\n\u001b[0m",
      "\u001b[0;32m<ipython-input-16-e8d9771c31ee>\u001b[0m in \u001b[0;36msaludaVarios\u001b[0;34m(nombres, lang)\u001b[0m\n\u001b[1;32m      1\u001b[0m \u001b[0;32mdef\u001b[0m \u001b[0msaludaVarios\u001b[0m\u001b[0;34m(\u001b[0m\u001b[0mnombres\u001b[0m\u001b[0;34m,\u001b[0m \u001b[0mlang\u001b[0m\u001b[0;34m=\u001b[0m\u001b[0;34m\"es\"\u001b[0m\u001b[0;34m)\u001b[0m\u001b[0;34m:\u001b[0m\u001b[0;34m\u001b[0m\u001b[0;34m\u001b[0m\u001b[0m\n\u001b[1;32m      2\u001b[0m     \u001b[0;32mfor\u001b[0m \u001b[0mnombre\u001b[0m \u001b[0;32min\u001b[0m \u001b[0mnombres\u001b[0m\u001b[0;34m:\u001b[0m\u001b[0;34m\u001b[0m\u001b[0;34m\u001b[0m\u001b[0m\n\u001b[0;32m----> 3\u001b[0;31m         \u001b[0mprint\u001b[0m\u001b[0;34m(\u001b[0m\u001b[0msaluda\u001b[0m\u001b[0;34m(\u001b[0m\u001b[0mnombre\u001b[0m\u001b[0;34m,\u001b[0m\u001b[0mlang\u001b[0m\u001b[0;34m)\u001b[0m\u001b[0;34m)\u001b[0m\u001b[0;34m\u001b[0m\u001b[0;34m\u001b[0m\u001b[0m\n\u001b[0m\u001b[1;32m      4\u001b[0m \u001b[0;34m\u001b[0m\u001b[0m\n\u001b[1;32m      5\u001b[0m \u001b[0mn\u001b[0m \u001b[0;34m=\u001b[0m \u001b[0;34m[\u001b[0m\u001b[0;34m\"A\"\u001b[0m\u001b[0;34m,\u001b[0m\u001b[0;34m\"B\"\u001b[0m\u001b[0;34m,\u001b[0m\u001b[0;34m\"C\"\u001b[0m\u001b[0;34m]\u001b[0m\u001b[0;34m\u001b[0m\u001b[0;34m\u001b[0m\u001b[0m\n",
      "\u001b[0;31mTypeError\u001b[0m: saluda() missing 1 required positional argument: 'edad'"
     ]
    }
   ],
   "source": [
    "def saludaVarios(nombres, lang=\"es\"):\n",
    "    for nombre in nombres:\n",
    "        print(saluda(nombre,lang))\n",
    "\n",
    "n = [\"A\",\"B\",\"C\"]\n",
    "saludaVarios(n)"
   ]
  },
  {
   "cell_type": "code",
   "execution_count": 17,
   "metadata": {},
   "outputs": [
    {
     "name": "stdout",
     "output_type": "stream",
     "text": [
      "nombres:['A', 'B', 'C'],lang:es\n"
     ]
    },
    {
     "ename": "TypeError",
     "evalue": "saluda() missing 1 required positional argument: 'edad'",
     "output_type": "error",
     "traceback": [
      "\u001b[0;31m---------------------------------------------------------------------------\u001b[0m",
      "\u001b[0;31mTypeError\u001b[0m                                 Traceback (most recent call last)",
      "\u001b[0;32m<ipython-input-17-0305bb28ba01>\u001b[0m in \u001b[0;36m<module>\u001b[0;34m\u001b[0m\n\u001b[1;32m      6\u001b[0m         \u001b[0mprint\u001b[0m\u001b[0;34m(\u001b[0m\u001b[0msaluda\u001b[0m\u001b[0;34m(\u001b[0m\u001b[0mnombre\u001b[0m\u001b[0;34m,\u001b[0m\u001b[0mlang\u001b[0m\u001b[0;34m)\u001b[0m\u001b[0;34m)\u001b[0m\u001b[0;34m\u001b[0m\u001b[0;34m\u001b[0m\u001b[0m\n\u001b[1;32m      7\u001b[0m \u001b[0;34m\u001b[0m\u001b[0m\n\u001b[0;32m----> 8\u001b[0;31m \u001b[0msaludaVarios\u001b[0m\u001b[0;34m(\u001b[0m\u001b[0;34m\"A\"\u001b[0m\u001b[0;34m,\u001b[0m\u001b[0;34m\"B\"\u001b[0m\u001b[0;34m,\u001b[0m\u001b[0;34m\"C\"\u001b[0m\u001b[0;34m)\u001b[0m\u001b[0;34m\u001b[0m\u001b[0;34m\u001b[0m\u001b[0m\n\u001b[0m\u001b[1;32m      9\u001b[0m \u001b[0msaludaVarios\u001b[0m\u001b[0;34m(\u001b[0m\u001b[0;34m\"A\"\u001b[0m\u001b[0;34m,\u001b[0m\u001b[0;34m\"B\"\u001b[0m\u001b[0;34m)\u001b[0m\u001b[0;34m\u001b[0m\u001b[0;34m\u001b[0m\u001b[0m\n",
      "\u001b[0;32m<ipython-input-17-0305bb28ba01>\u001b[0m in \u001b[0;36msaludaVarios\u001b[0;34m(n1, n2, n3, lang)\u001b[0m\n\u001b[1;32m      4\u001b[0m     \u001b[0mprint\u001b[0m\u001b[0;34m(\u001b[0m\u001b[0;34mf\"nombres:{nombres},lang:{lang}\"\u001b[0m\u001b[0;34m)\u001b[0m\u001b[0;34m\u001b[0m\u001b[0;34m\u001b[0m\u001b[0m\n\u001b[1;32m      5\u001b[0m     \u001b[0;32mfor\u001b[0m \u001b[0mnombre\u001b[0m \u001b[0;32min\u001b[0m \u001b[0mnombres\u001b[0m\u001b[0;34m:\u001b[0m\u001b[0;34m\u001b[0m\u001b[0;34m\u001b[0m\u001b[0m\n\u001b[0;32m----> 6\u001b[0;31m         \u001b[0mprint\u001b[0m\u001b[0;34m(\u001b[0m\u001b[0msaluda\u001b[0m\u001b[0;34m(\u001b[0m\u001b[0mnombre\u001b[0m\u001b[0;34m,\u001b[0m\u001b[0mlang\u001b[0m\u001b[0;34m)\u001b[0m\u001b[0;34m)\u001b[0m\u001b[0;34m\u001b[0m\u001b[0;34m\u001b[0m\u001b[0m\n\u001b[0m\u001b[1;32m      7\u001b[0m \u001b[0;34m\u001b[0m\u001b[0m\n\u001b[1;32m      8\u001b[0m \u001b[0msaludaVarios\u001b[0m\u001b[0;34m(\u001b[0m\u001b[0;34m\"A\"\u001b[0m\u001b[0;34m,\u001b[0m\u001b[0;34m\"B\"\u001b[0m\u001b[0;34m,\u001b[0m\u001b[0;34m\"C\"\u001b[0m\u001b[0;34m)\u001b[0m\u001b[0;34m\u001b[0m\u001b[0;34m\u001b[0m\u001b[0m\n",
      "\u001b[0;31mTypeError\u001b[0m: saluda() missing 1 required positional argument: 'edad'"
     ]
    }
   ],
   "source": [
    "#def saludaVarios(nombres, lang=\"es\"):\n",
    "def saludaVarios(n1,n2,n3, lang=\"es\"):\n",
    "    nombres = [n1,n2,n3]\n",
    "    print(f\"nombres:{nombres},lang:{lang}\")\n",
    "    for nombre in nombres:\n",
    "        print(saluda(nombre,lang))\n",
    "\n",
    "saludaVarios(\"A\",\"B\",\"C\")\n",
    "saludaVarios(\"A\",\"B\")"
   ]
  },
  {
   "cell_type": "markdown",
   "metadata": {},
   "source": [
    "# N Positionals"
   ]
  },
  {
   "cell_type": "code",
   "execution_count": 18,
   "metadata": {},
   "outputs": [
    {
     "name": "stdout",
     "output_type": "stream",
     "text": [
      "nombres:('A', 'B', 'C', 'D', 'E', 'F', 'G'),lang:en\n"
     ]
    },
    {
     "ename": "TypeError",
     "evalue": "saluda() missing 1 required positional argument: 'edad'",
     "output_type": "error",
     "traceback": [
      "\u001b[0;31m---------------------------------------------------------------------------\u001b[0m",
      "\u001b[0;31mTypeError\u001b[0m                                 Traceback (most recent call last)",
      "\u001b[0;32m<ipython-input-18-f7e5041adb06>\u001b[0m in \u001b[0;36m<module>\u001b[0;34m\u001b[0m\n\u001b[1;32m      4\u001b[0m         \u001b[0mprint\u001b[0m\u001b[0;34m(\u001b[0m\u001b[0msaluda\u001b[0m\u001b[0;34m(\u001b[0m\u001b[0mnombre\u001b[0m\u001b[0;34m,\u001b[0m\u001b[0mlang\u001b[0m\u001b[0;34m)\u001b[0m\u001b[0;34m)\u001b[0m\u001b[0;34m\u001b[0m\u001b[0;34m\u001b[0m\u001b[0m\n\u001b[1;32m      5\u001b[0m \u001b[0;34m\u001b[0m\u001b[0m\n\u001b[0;32m----> 6\u001b[0;31m \u001b[0msaludaVarios\u001b[0m\u001b[0;34m(\u001b[0m\u001b[0;34m\"A\"\u001b[0m\u001b[0;34m,\u001b[0m\u001b[0;34m\"B\"\u001b[0m\u001b[0;34m,\u001b[0m\u001b[0;34m\"C\"\u001b[0m\u001b[0;34m,\u001b[0m\u001b[0;34m\"D\"\u001b[0m\u001b[0;34m,\u001b[0m\u001b[0;34m\"E\"\u001b[0m\u001b[0;34m,\u001b[0m\u001b[0;34m\"F\"\u001b[0m\u001b[0;34m,\u001b[0m\u001b[0;34m\"G\"\u001b[0m\u001b[0;34m,\u001b[0m\u001b[0mlang\u001b[0m\u001b[0;34m=\u001b[0m\u001b[0;34m\"en\"\u001b[0m\u001b[0;34m)\u001b[0m\u001b[0;34m\u001b[0m\u001b[0;34m\u001b[0m\u001b[0m\n\u001b[0m",
      "\u001b[0;32m<ipython-input-18-f7e5041adb06>\u001b[0m in \u001b[0;36msaludaVarios\u001b[0;34m(lang, *nombres)\u001b[0m\n\u001b[1;32m      2\u001b[0m     \u001b[0mprint\u001b[0m\u001b[0;34m(\u001b[0m\u001b[0;34mf\"nombres:{nombres},lang:{lang}\"\u001b[0m\u001b[0;34m)\u001b[0m\u001b[0;34m\u001b[0m\u001b[0;34m\u001b[0m\u001b[0m\n\u001b[1;32m      3\u001b[0m     \u001b[0;32mfor\u001b[0m \u001b[0mnombre\u001b[0m \u001b[0;32min\u001b[0m \u001b[0mnombres\u001b[0m\u001b[0;34m:\u001b[0m\u001b[0;34m\u001b[0m\u001b[0;34m\u001b[0m\u001b[0m\n\u001b[0;32m----> 4\u001b[0;31m         \u001b[0mprint\u001b[0m\u001b[0;34m(\u001b[0m\u001b[0msaluda\u001b[0m\u001b[0;34m(\u001b[0m\u001b[0mnombre\u001b[0m\u001b[0;34m,\u001b[0m\u001b[0mlang\u001b[0m\u001b[0;34m)\u001b[0m\u001b[0;34m)\u001b[0m\u001b[0;34m\u001b[0m\u001b[0;34m\u001b[0m\u001b[0m\n\u001b[0m\u001b[1;32m      5\u001b[0m \u001b[0;34m\u001b[0m\u001b[0m\n\u001b[1;32m      6\u001b[0m \u001b[0msaludaVarios\u001b[0m\u001b[0;34m(\u001b[0m\u001b[0;34m\"A\"\u001b[0m\u001b[0;34m,\u001b[0m\u001b[0;34m\"B\"\u001b[0m\u001b[0;34m,\u001b[0m\u001b[0;34m\"C\"\u001b[0m\u001b[0;34m,\u001b[0m\u001b[0;34m\"D\"\u001b[0m\u001b[0;34m,\u001b[0m\u001b[0;34m\"E\"\u001b[0m\u001b[0;34m,\u001b[0m\u001b[0;34m\"F\"\u001b[0m\u001b[0;34m,\u001b[0m\u001b[0;34m\"G\"\u001b[0m\u001b[0;34m,\u001b[0m\u001b[0mlang\u001b[0m\u001b[0;34m=\u001b[0m\u001b[0;34m\"en\"\u001b[0m\u001b[0;34m)\u001b[0m\u001b[0;34m\u001b[0m\u001b[0;34m\u001b[0m\u001b[0m\n",
      "\u001b[0;31mTypeError\u001b[0m: saluda() missing 1 required positional argument: 'edad'"
     ]
    }
   ],
   "source": [
    "def saludaVarios(*nombres, lang=\"es\"):\n",
    "    print(f\"nombres:{nombres},lang:{lang}\")\n",
    "    for nombre in nombres:\n",
    "        print(saluda(nombre,lang))\n",
    "\n",
    "saludaVarios(\"A\",\"B\",\"C\",\"D\",\"E\",\"F\",\"G\",lang=\"en\")"
   ]
  },
  {
   "cell_type": "code",
   "execution_count": 19,
   "metadata": {},
   "outputs": [
    {
     "name": "stdout",
     "output_type": "stream",
     "text": [
      "a:5 b:6 c:7\n",
      "10 18 28\n"
     ]
    }
   ],
   "source": [
    "def suma(a,b,c):\n",
    "    print(f\"a:{a} b:{b} c:{c}\")\n",
    "    print(a*2,b*3,c*4)\n",
    "\n",
    "data = [5,6,7]\n",
    "suma(data[0],data[1],data[2])"
   ]
  },
  {
   "cell_type": "code",
   "execution_count": 20,
   "metadata": {},
   "outputs": [
    {
     "name": "stdout",
     "output_type": "stream",
     "text": [
      "a:5 b:6 c:7\n",
      "10 18 28\n"
     ]
    },
    {
     "data": {
      "text/plain": [
       "5"
      ]
     },
     "execution_count": 20,
     "metadata": {},
     "output_type": "execute_result"
    }
   ],
   "source": [
    "def suma(a,b,c):\n",
    "    print(f\"a:{a} b:{b} c:{c}\")\n",
    "    print(a*2,b*3,c*4)\n",
    "    return 5\n",
    "\n",
    "data = [5,6,7]\n",
    "z = suma(*data)\n",
    "z"
   ]
  },
  {
   "cell_type": "code",
   "execution_count": 21,
   "metadata": {},
   "outputs": [
    {
     "name": "stdout",
     "output_type": "stream",
     "text": [
      "<class 'list'>\n",
      "(5, 6, 7) <class 'tuple'>\n"
     ]
    },
    {
     "data": {
      "text/plain": [
       "18"
      ]
     },
     "execution_count": 21,
     "metadata": {},
     "output_type": "execute_result"
    }
   ],
   "source": [
    "def suma(*values):\n",
    "    print(values, type(values))\n",
    "    s = 0\n",
    "    for e in values:\n",
    "        s += e\n",
    "    return s\n",
    "\n",
    "data = [5,6,7]\n",
    "print(type(data))\n",
    "suma(*data)"
   ]
  },
  {
   "cell_type": "code",
   "execution_count": 22,
   "metadata": {},
   "outputs": [],
   "source": [
    "def sumaMola(*values):\n",
    "    print(values, type(values))\n",
    "    return sum(values)"
   ]
  },
  {
   "cell_type": "code",
   "execution_count": 23,
   "metadata": {},
   "outputs": [
    {
     "name": "stdout",
     "output_type": "stream",
     "text": [
      "(4, 5, 6, 7, 8) <class 'tuple'>\n",
      "30\n",
      "30\n"
     ]
    }
   ],
   "source": [
    "x = [4,5,6,7,8]\n",
    "print(sumaMola(*x))\n",
    "print(sum(x))\n"
   ]
  },
  {
   "cell_type": "code",
   "execution_count": 24,
   "metadata": {},
   "outputs": [
    {
     "name": "stdout",
     "output_type": "stream",
     "text": [
      "(4, 5, 6, 7, 8, 1, 2, 3) <class 'tuple'>\n"
     ]
    },
    {
     "data": {
      "text/plain": [
       "36"
      ]
     },
     "execution_count": 24,
     "metadata": {},
     "output_type": "execute_result"
    }
   ],
   "source": [
    "y = [1,2,3]\n",
    "x = [4,5,6,7,8]\n",
    "sumaMola(*x,*y)"
   ]
  },
  {
   "cell_type": "code",
   "execution_count": 25,
   "metadata": {},
   "outputs": [
    {
     "name": "stdout",
     "output_type": "stream",
     "text": [
      "(4, 5, 6, 7, 8, 1, 2, 3) <class 'tuple'>\n"
     ]
    },
    {
     "data": {
      "text/plain": [
       "36"
      ]
     },
     "execution_count": 25,
     "metadata": {},
     "output_type": "execute_result"
    }
   ],
   "source": [
    "y = [1,2,3]\n",
    "x = [4,5,6,7,8] + y\n",
    "sumaMola(*x)"
   ]
  },
  {
   "cell_type": "code",
   "execution_count": 26,
   "metadata": {},
   "outputs": [
    {
     "name": "stdout",
     "output_type": "stream",
     "text": [
      "[4, 5, 6, 7, 8, 1, 2, 3] [1, 2, 3]\n",
      "(4, 5, 6, 7, 8, 1, 2, 3, 1, 2, 3) <class 'tuple'>\n"
     ]
    },
    {
     "data": {
      "text/plain": [
       "42"
      ]
     },
     "execution_count": 26,
     "metadata": {},
     "output_type": "execute_result"
    }
   ],
   "source": [
    "y = [1,2,3]\n",
    "x = [4,5,6,7,8,*y]\n",
    "print(x,y)\n",
    "sumaMola(*(x+y))"
   ]
  },
  {
   "cell_type": "code",
   "execution_count": 27,
   "metadata": {},
   "outputs": [
    {
     "data": {
      "text/plain": [
       "2"
      ]
     },
     "execution_count": 27,
     "metadata": {},
     "output_type": "execute_result"
    }
   ],
   "source": [
    "z = [[1,2,3]]\n",
    "z[0][1]"
   ]
  },
  {
   "cell_type": "markdown",
   "metadata": {},
   "source": [
    "# N Kwarg"
   ]
  },
  {
   "cell_type": "code",
   "execution_count": 28,
   "metadata": {},
   "outputs": [
    {
     "name": "stdout",
     "output_type": "stream",
     "text": [
      "Hola eres Pepe Garcia y tienes 25 años\n"
     ]
    }
   ],
   "source": [
    "def saluda(nombre, apellido, edad):\n",
    "    print(f\"Hola eres {nombre} {apellido} y tienes {edad} años\")\n",
    "        \n",
    "alumno = {\n",
    "    \"nombre\":\"Pepe\",\n",
    "    \"apellido\":\"Garcia\",\n",
    "    \"edad\":25\n",
    "}\n",
    "\n",
    "saluda(alumno[\"nombre\"],alumno[\"apellido\"],alumno[\"edad\"])"
   ]
  },
  {
   "cell_type": "code",
   "execution_count": 29,
   "metadata": {},
   "outputs": [
    {
     "name": "stdout",
     "output_type": "stream",
     "text": [
      "Hola eres Pepe Garcia y tienes 25 años\n"
     ]
    }
   ],
   "source": [
    "def saluda(nombre, apellido, edad):\n",
    "    print(f\"Hola eres {nombre} {apellido} y tienes {edad} años\")\n",
    "        \n",
    "alumno = {\n",
    "    \"nombre\":\"Pepe\",\n",
    "    \"apellido\":\"Garcia\",\n",
    "    \"edad\":25\n",
    "}\n",
    "saluda(**alumno)\n",
    "#saluda(nombre=alumno[\"nombre\"],...)"
   ]
  },
  {
   "cell_type": "code",
   "execution_count": 30,
   "metadata": {},
   "outputs": [
    {
     "name": "stdout",
     "output_type": "stream",
     "text": [
      "{'nombre': 'PEPE', 'apellido': 'GARCIA'}\n",
      "{}\n"
     ]
    },
    {
     "ename": "TypeError",
     "evalue": "saluda2() takes 0 positional arguments but 3 were given",
     "output_type": "error",
     "traceback": [
      "\u001b[0;31m---------------------------------------------------------------------------\u001b[0m",
      "\u001b[0;31mTypeError\u001b[0m                                 Traceback (most recent call last)",
      "\u001b[0;32m<ipython-input-30-38b6a59f04fe>\u001b[0m in \u001b[0;36m<module>\u001b[0;34m\u001b[0m\n\u001b[1;32m      4\u001b[0m \u001b[0msaluda2\u001b[0m\u001b[0;34m(\u001b[0m\u001b[0mnombre\u001b[0m\u001b[0;34m=\u001b[0m\u001b[0;34m\"PEPE\"\u001b[0m\u001b[0;34m,\u001b[0m \u001b[0mapellido\u001b[0m\u001b[0;34m=\u001b[0m\u001b[0;34m\"GARCIA\"\u001b[0m\u001b[0;34m)\u001b[0m\u001b[0;34m\u001b[0m\u001b[0;34m\u001b[0m\u001b[0m\n\u001b[1;32m      5\u001b[0m \u001b[0msaluda2\u001b[0m\u001b[0;34m(\u001b[0m\u001b[0;34m)\u001b[0m\u001b[0;34m\u001b[0m\u001b[0;34m\u001b[0m\u001b[0m\n\u001b[0;32m----> 6\u001b[0;31m \u001b[0msaluda2\u001b[0m\u001b[0;34m(\u001b[0m\u001b[0;36m2\u001b[0m\u001b[0;34m,\u001b[0m\u001b[0;36m3\u001b[0m\u001b[0;34m,\u001b[0m\u001b[0;36m4\u001b[0m\u001b[0;34m)\u001b[0m\u001b[0;34m\u001b[0m\u001b[0;34m\u001b[0m\u001b[0m\n\u001b[0m",
      "\u001b[0;31mTypeError\u001b[0m: saluda2() takes 0 positional arguments but 3 were given"
     ]
    }
   ],
   "source": [
    "def saluda2(**xxxx): # This ** captures all kwargs as \"alumno\", \"alumno\" is a dict\n",
    "    print(xxxx)\n",
    "\n",
    "saluda2(nombre=\"PEPE\", apellido=\"GARCIA\")\n",
    "saluda2()\n",
    "saluda2(2,3,4)"
   ]
  },
  {
   "cell_type": "code",
   "execution_count": 31,
   "metadata": {},
   "outputs": [
    {
     "name": "stdout",
     "output_type": "stream",
     "text": [
      "('Pepe', 'Garcia', 25)\n"
     ]
    }
   ],
   "source": [
    "alumno = {\n",
    "    \"nombre\":\"Pepe\",\n",
    "    \"apellido\":\"Garcia\",\n",
    "    \"edad\":25\n",
    "}\n",
    "\n",
    "def imprimelista(*elem):\n",
    "    print(elem)\n",
    "\n",
    "imprimelista(*alumno.values())"
   ]
  },
  {
   "cell_type": "code",
   "execution_count": 32,
   "metadata": {},
   "outputs": [
    {
     "name": "stdout",
     "output_type": "stream",
     "text": [
      "args ->  (1, 2, 3)\n",
      "kwargs ->  {}\n",
      "------\n",
      "args ->  ()\n",
      "kwargs ->  {'a': 5, 'b': 4, 'c': 3}\n",
      "------\n",
      "args ->  (1, 2, 3)\n",
      "kwargs ->  {'a': 5, 'b': 4, 'c': 3}\n",
      "------\n"
     ]
    }
   ],
   "source": [
    "def allfunctions(*args,**kwargs):\n",
    "    print(\"args -> \",args)\n",
    "    print(\"kwargs -> \",kwargs)\n",
    "    print(\"------\")\n",
    "    \n",
    "allfunctions(1,2,3)\n",
    "allfunctions(a=5,b=4,c=3)\n",
    "allfunctions(1,2,3,a=5,b=4,c=3)\n",
    "#allfunctions(a=5,b=4,c=3,1,2,3) THIS IS NOT CORRECT -> positional argument follows keyword argument"
   ]
  },
  {
   "cell_type": "code",
   "execution_count": null,
   "metadata": {},
   "outputs": [],
   "source": []
  },
  {
   "cell_type": "code",
   "execution_count": 33,
   "metadata": {},
   "outputs": [
    {
     "name": "stdout",
     "output_type": "stream",
     "text": [
      "[1, 2, 3, 4]\n",
      "1 2 3 4\n",
      "A B C\n"
     ]
    }
   ],
   "source": [
    "print([1,2,3,4])\n",
    "print(*[1,2,3,4])\n",
    "\n",
    "nombres = [\"A\",\"B\",\"C\"]\n",
    "print(*nombres) # print(nombres[0],nombres[1]....)"
   ]
  },
  {
   "cell_type": "markdown",
   "metadata": {},
   "source": [
    "# Generators"
   ]
  },
  {
   "cell_type": "code",
   "execution_count": 34,
   "metadata": {},
   "outputs": [
    {
     "data": {
      "text/plain": [
       "[0, 1, 2, 3, 4]"
      ]
     },
     "execution_count": 34,
     "metadata": {},
     "output_type": "execute_result"
    }
   ],
   "source": [
    "list(range(5))"
   ]
  },
  {
   "cell_type": "code",
   "execution_count": 35,
   "metadata": {},
   "outputs": [
    {
     "name": "stdout",
     "output_type": "stream",
     "text": [
      "Hola 0\n",
      "Hola 1\n",
      "Hola 2\n",
      "Hola 3\n",
      "Hola 4\n"
     ]
    }
   ],
   "source": [
    "def generaRango(n=10):\n",
    "    for i in range(n):\n",
    "        print(f\"Hola {i}\")\n",
    "\n",
    "generaRango(5)"
   ]
  },
  {
   "cell_type": "code",
   "execution_count": 36,
   "metadata": {},
   "outputs": [
    {
     "data": {
      "text/plain": [
       "'Hola 0'"
      ]
     },
     "execution_count": 36,
     "metadata": {},
     "output_type": "execute_result"
    }
   ],
   "source": [
    "def generaRango(n=10):\n",
    "    for i in range(n):\n",
    "        return f\"Hola {i}\"\n",
    "\n",
    "generaRango(5)"
   ]
  },
  {
   "cell_type": "code",
   "execution_count": 37,
   "metadata": {},
   "outputs": [
    {
     "name": "stdout",
     "output_type": "stream",
     "text": [
      "Hola 0\n",
      "Hola 1\n",
      "Hola 2\n",
      "Hola 3\n",
      "Hola 4\n"
     ]
    }
   ],
   "source": [
    "def generaRango(n=10):\n",
    "    for i in range(n):\n",
    "        yield f\"Hola {i}\"\n",
    "\n",
    "for e in generaRango(5):\n",
    "    print(e)"
   ]
  },
  {
   "cell_type": "code",
   "execution_count": 38,
   "metadata": {},
   "outputs": [
    {
     "data": {
      "text/plain": [
       "['Hola 0', 'Hola 1', 'Hola 2', 'Hola 3', 'Hola 4']"
      ]
     },
     "execution_count": 38,
     "metadata": {},
     "output_type": "execute_result"
    }
   ],
   "source": [
    "list(generaRango(5))"
   ]
  },
  {
   "cell_type": "code",
   "execution_count": 39,
   "metadata": {},
   "outputs": [
    {
     "name": "stdout",
     "output_type": "stream",
     "text": [
      "<generator object generaRango at 0x10a3ad3d0>\n"
     ]
    },
    {
     "data": {
      "text/plain": [
       "'Hola 4'"
      ]
     },
     "execution_count": 39,
     "metadata": {},
     "output_type": "execute_result"
    }
   ],
   "source": [
    "gen = generaRango(5)\n",
    "print(gen)\n",
    "gen.__next__()\n",
    "gen.__next__()\n",
    "gen.__next__()\n",
    "gen.__next__()\n",
    "gen.__next__()"
   ]
  },
  {
   "cell_type": "code",
   "execution_count": 40,
   "metadata": {},
   "outputs": [
    {
     "data": {
      "text/plain": [
       "range(0, 1000000000)"
      ]
     },
     "execution_count": 40,
     "metadata": {},
     "output_type": "execute_result"
    }
   ],
   "source": [
    "range(1000000000) # QUIZ PARA MAÑANA -> MEMORIA RAM!!!!"
   ]
  },
  {
   "cell_type": "code",
   "execution_count": 41,
   "metadata": {},
   "outputs": [],
   "source": [
    "#list(range(1000000000)) # THIS NEVER ENDS AND CONSUMES ALL RAM MEMORY"
   ]
  },
  {
   "cell_type": "code",
   "execution_count": 48,
   "metadata": {},
   "outputs": [
    {
     "name": "stdout",
     "output_type": "stream",
     "text": [
      "Hola PEPE\n",
      "Adios PEPE\n"
     ]
    }
   ],
   "source": [
    "h = \"Hola\"\n",
    "\n",
    "# This function has side effects (función impura)\n",
    "def suma(x):\n",
    "    print(f\"{h} {x}\")\n",
    "\n",
    "suma(\"PEPE\")\n",
    "h = \"Adios\"\n",
    "suma(\"PEPE\")"
   ]
  },
  {
   "cell_type": "code",
   "execution_count": 51,
   "metadata": {},
   "outputs": [
    {
     "data": {
      "text/plain": [
       "4.792645464694059"
      ]
     },
     "execution_count": 51,
     "metadata": {},
     "output_type": "execute_result"
    }
   ],
   "source": [
    "import random\n",
    "\n",
    "# PURA Y DETERMINISTA\n",
    "def hola():\n",
    "    print(\"Hola\")\n",
    "\n",
    "# PURA Y NO DETERMINISTA\n",
    "def generateN(x):\n",
    "    return random.random()*x\n",
    "\n",
    "generateN(10)\n",
    "\n"
   ]
  },
  {
   "cell_type": "code",
   "execution_count": 43,
   "metadata": {},
   "outputs": [
    {
     "data": {
      "text/plain": [
       "'Marinero de luces Pepe'"
      ]
     },
     "execution_count": 43,
     "metadata": {},
     "output_type": "execute_result"
    }
   ],
   "source": [
    "def saludador(nombre, micantante=\"maluma\"):\n",
    "    def maluma():\n",
    "        return \"Maluma baby \" + nombre\n",
    "    def pitbul():\n",
    "        return \"Dale \" + nombre\n",
    "    def pantoja():\n",
    "        return \"Marinero de luces \" + nombre\n",
    "\n",
    "    if micantante == \"maluma\":\n",
    "        return maluma\n",
    "    elif micantante == \"pitbul\":\n",
    "        return pitbul\n",
    "    else:\n",
    "        return pantoja\n",
    "\n",
    "saludador(\"Pepe\",\"asdf\")()"
   ]
  },
  {
   "cell_type": "code",
   "execution_count": 42,
   "metadata": {},
   "outputs": [],
   "source": [
    "# Luis: Que algunos hablen ingles y otros español"
   ]
  },
  {
   "cell_type": "code",
   "execution_count": null,
   "metadata": {},
   "outputs": [],
   "source": []
  }
 ],
 "metadata": {
  "kernelspec": {
   "display_name": "Python 3",
   "language": "python",
   "name": "python3"
  },
  "language_info": {
   "codemirror_mode": {
    "name": "ipython",
    "version": 3
   },
   "file_extension": ".py",
   "mimetype": "text/x-python",
   "name": "python",
   "nbconvert_exporter": "python",
   "pygments_lexer": "ipython3",
   "version": "3.7.5"
  }
 },
 "nbformat": 4,
 "nbformat_minor": 2
}
