{
 "cells": [
  {
   "cell_type": "markdown",
   "metadata": {},
   "source": [
    " ## `lambda`, the [cool](https://www.youtube.com/watch?v=iyLdoQGBchQ&t=10) functions"
   ]
  },
  {
   "cell_type": "code",
   "execution_count": 9,
   "metadata": {},
   "outputs": [
    {
     "data": {
      "text/plain": [
       "'Hola'"
      ]
     },
     "execution_count": 9,
     "metadata": {},
     "output_type": "execute_result"
    }
   ],
   "source": [
    "# Ternary operator\n",
    "a=5\n",
    "b = \"Hola\" if a == 5 else \"Adios\"\n",
    "b"
   ]
  },
  {
   "cell_type": "code",
   "execution_count": 10,
   "metadata": {},
   "outputs": [
    {
     "data": {
      "text/plain": [
       "'Hola'"
      ]
     },
     "execution_count": 10,
     "metadata": {},
     "output_type": "execute_result"
    }
   ],
   "source": [
    "# b=\"Hola\" siempre que la condición sea True, sino b=False\n",
    "a=5\n",
    "b = (a==5) and \"Hola\"\n",
    "b"
   ]
  },
  {
   "cell_type": "code",
   "execution_count": 11,
   "metadata": {},
   "outputs": [
    {
     "data": {
      "text/plain": [
       "12"
      ]
     },
     "execution_count": 11,
     "metadata": {},
     "output_type": "execute_result"
    }
   ],
   "source": [
    "def suma(a,b):\n",
    "    return a+b\n",
    "\n",
    "suma(5,7)"
   ]
  },
  {
   "cell_type": "code",
   "execution_count": 12,
   "metadata": {},
   "outputs": [
    {
     "data": {
      "text/plain": [
       "<function __main__.suma(a, b)>"
      ]
     },
     "execution_count": 12,
     "metadata": {},
     "output_type": "execute_result"
    }
   ],
   "source": [
    "suma"
   ]
  },
  {
   "cell_type": "code",
   "execution_count": 16,
   "metadata": {},
   "outputs": [
    {
     "data": {
      "text/plain": [
       "12"
      ]
     },
     "execution_count": 16,
     "metadata": {},
     "output_type": "execute_result"
    }
   ],
   "source": [
    "x = lambda a,b: a+b\n",
    "x(5,7)"
   ]
  },
  {
   "cell_type": "code",
   "execution_count": 17,
   "metadata": {},
   "outputs": [
    {
     "data": {
      "text/plain": [
       "<function __main__.<lambda>(a, b)>"
      ]
     },
     "execution_count": 17,
     "metadata": {},
     "output_type": "execute_result"
    }
   ],
   "source": [
    "x"
   ]
  },
  {
   "cell_type": "code",
   "execution_count": 21,
   "metadata": {},
   "outputs": [
    {
     "name": "stdout",
     "output_type": "stream",
     "text": [
      "Hola Pepe\n",
      "No eres pepe\n"
     ]
    }
   ],
   "source": [
    "saluda = lambda name: f\"Hola {name}\" if name == \"Pepe\" else \"No eres pepe\"\n",
    "\n",
    "print(saluda(\"Pepe\"))\n",
    "print(saluda(\"juan\"))"
   ]
  },
  {
   "cell_type": "code",
   "execution_count": 23,
   "metadata": {},
   "outputs": [
    {
     "data": {
      "text/plain": [
       "5"
      ]
     },
     "execution_count": 23,
     "metadata": {},
     "output_type": "execute_result"
    }
   ],
   "source": [
    "y = lambda: 5\n",
    "y()"
   ]
  },
  {
   "cell_type": "code",
   "execution_count": 29,
   "metadata": {},
   "outputs": [
    {
     "data": {
      "text/plain": [
       "'Hola Pepe, Hola Juan, Hola Marta'"
      ]
     },
     "execution_count": 29,
     "metadata": {},
     "output_type": "execute_result"
    }
   ],
   "source": [
    "# función variádica (multiples parametros) que usa una comprehension list para saludar\n",
    "saludaTodos = lambda *nombres: ', '.join([f\"Hola {n}\" for n in nombres])\n",
    "\n",
    "saludaTodos(\"Pepe\",\"Juan\",\"Marta\")"
   ]
  },
  {
   "cell_type": "code",
   "execution_count": 51,
   "metadata": {},
   "outputs": [
    {
     "data": {
      "text/plain": [
       "'PEPE, JUAN, MARTA'"
      ]
     },
     "execution_count": 51,
     "metadata": {},
     "output_type": "execute_result"
    }
   ],
   "source": [
    "# Patron callback con lambdas\n",
    "\n",
    "# Recorrer una lista y ejecutar la función saludo, ???? \n",
    "saludaTodos = lambda fn,*nombres: ', '.join([fn(n) for n in nombres])\n",
    "\n",
    "\n",
    "# Saludar a una persona\n",
    "saludo = lambda nombre,lang=\"es\": f\"Hola {nombre}!\" if lang==\"es\" else f\"Hi {nombre}\"\n",
    "\n",
    "# Ejecuta, pasando una función callback conocida \"saludo\" como parametro\n",
    "saludaTodos(saludo,\"Pepe\",\"Juan\",\"Marta\")\n",
    "\n",
    "# Ejecuta definiendo el callback directamente en la llamada\n",
    "saludaTodos(lambda _:\"Holi\",\"Pepe\",\"Juan\",\"Marta\")\n",
    "saludaTodos(lambda n:n.upper(),\"Pepe\",\"Juan\",\"Marta\")"
   ]
  },
  {
   "cell_type": "code",
   "execution_count": 56,
   "metadata": {},
   "outputs": [
    {
     "data": {
      "text/plain": [
       "'Hola holita vecinito Pepe, Hola holita vecinito Juan, Hola holita vecinito Marta'"
      ]
     },
     "execution_count": 56,
     "metadata": {},
     "output_type": "execute_result"
    }
   ],
   "source": [
    "def saludame(nombre):\n",
    "    return f\"Hola holita vecinito {nombre}\"\n",
    "\n",
    "saludaTodos(saludame,\"Pepe\",\"Juan\",\"Marta\")\n"
   ]
  },
  {
   "cell_type": "code",
   "execution_count": 58,
   "metadata": {},
   "outputs": [
    {
     "data": {
      "text/plain": [
       "'Hi Pepe, Hi Juan, Hi Marta'"
      ]
     },
     "execution_count": 58,
     "metadata": {},
     "output_type": "execute_result"
    }
   ],
   "source": [
    "# A function that returns a function (HOF) (https://en.wikipedia.org/wiki/Higher-order_function)\n",
    "saludame = lambda lang: lambda n: f\"Hola holita vecinito {n}\" if lang==\"es\" else f\"Hi {n}\"\n",
    "\n",
    "saludaTodos(saludame(\"en\"),\"Pepe\",\"Juan\",\"Marta\")"
   ]
  },
  {
   "cell_type": "code",
   "execution_count": null,
   "metadata": {},
   "outputs": [],
   "source": []
  },
  {
   "cell_type": "markdown",
   "metadata": {},
   "source": [
    "## Map `[\"🥕\",\"✈️\",\"🚲\"] -> withSwag -> [\"🍔\",\"🚀\",\"🚴\"]`"
   ]
  },
  {
   "cell_type": "code",
   "execution_count": 65,
   "metadata": {},
   "outputs": [
    {
     "data": {
      "text/plain": [
       "[1, 4, 9, 16]"
      ]
     },
     "execution_count": 65,
     "metadata": {},
     "output_type": "execute_result"
    }
   ],
   "source": [
    "a = [1,2,3,4]\n",
    "list(map(lambda x:x**2,a))"
   ]
  },
  {
   "cell_type": "code",
   "execution_count": 63,
   "metadata": {},
   "outputs": [
    {
     "data": {
      "text/plain": [
       "['Hola 1', 'Hola 2', 'Hola 3', 'Hola 4']"
      ]
     },
     "execution_count": 63,
     "metadata": {},
     "output_type": "execute_result"
    }
   ],
   "source": [
    "a = [1,2,3,4]\n",
    "list(map(lambda x:f\"Hola {x}\",a))"
   ]
  },
  {
   "cell_type": "code",
   "execution_count": 72,
   "metadata": {},
   "outputs": [
    {
     "data": {
      "text/plain": [
       "11"
      ]
     },
     "execution_count": 72,
     "metadata": {},
     "output_type": "execute_result"
    }
   ],
   "source": [
    "hotels = [\n",
    "    {\"name\":\"Ritz\",\"stars\":5},\n",
    "    {\"name\":\"Palace\",\"stars\":4},\n",
    "    {\"name\":\"Pension Puri\",\"stars\":2},\n",
    "]\n",
    "\n",
    "# Suma todas las estrellas \n",
    "sum(map(lambda h: h[\"stars\"], hotels))\n",
    "#sum([h[\"stars\"] for h in hotels])"
   ]
  },
  {
   "cell_type": "code",
   "execution_count": 69,
   "metadata": {},
   "outputs": [
    {
     "data": {
      "text/plain": [
       "'Ritz-Palace-Pension Puri'"
      ]
     },
     "execution_count": 69,
     "metadata": {},
     "output_type": "execute_result"
    }
   ],
   "source": [
    "'-'.join(map(lambda h: h[\"name\"], hotels))"
   ]
  },
  {
   "cell_type": "code",
   "execution_count": null,
   "metadata": {},
   "outputs": [],
   "source": []
  },
  {
   "cell_type": "code",
   "execution_count": null,
   "metadata": {},
   "outputs": [],
   "source": []
  },
  {
   "cell_type": "markdown",
   "metadata": {},
   "source": [
    "## Filter `[\"🤓\",\"🤓\",\"😎\",\"🤓\",\"🤓\"] -> onlyParty -> [\"😎\"]`"
   ]
  },
  {
   "cell_type": "code",
   "execution_count": 75,
   "metadata": {},
   "outputs": [
    {
     "data": {
      "text/plain": [
       "['😎', '⭐️']"
      ]
     },
     "execution_count": 75,
     "metadata": {},
     "output_type": "execute_result"
    }
   ],
   "source": [
    "people = [\"🤓\",\"🤓\",\"😎\",\"🤓\",\"⭐️\",\"🤓\"]\n",
    "\n",
    "list(filter(lambda x: x==\"😎\" or x==\"⭐️\", people))"
   ]
  },
  {
   "cell_type": "code",
   "execution_count": 76,
   "metadata": {},
   "outputs": [
    {
     "data": {
      "text/plain": [
       "[{'name': 'Palace', 'stars': 4}, {'name': 'Pension Puri', 'stars': 2}]"
      ]
     },
     "execution_count": 76,
     "metadata": {},
     "output_type": "execute_result"
    }
   ],
   "source": [
    "hotels = [\n",
    "    {\"name\":\"Ritz\",\"stars\":5},\n",
    "    {\"name\":\"Palace\",\"stars\":4},\n",
    "    {\"name\":\"Pension Puri\",\"stars\":2},\n",
    "]\n",
    "list(filter(lambda x: x[\"name\"].startswith(\"P\"), hotels))"
   ]
  },
  {
   "cell_type": "code",
   "execution_count": 77,
   "metadata": {},
   "outputs": [
    {
     "data": {
      "text/plain": [
       "[]"
      ]
     },
     "execution_count": 77,
     "metadata": {},
     "output_type": "execute_result"
    }
   ],
   "source": [
    "list(filter(lambda x: False,[1,2,3,4]))"
   ]
  },
  {
   "cell_type": "code",
   "execution_count": 81,
   "metadata": {},
   "outputs": [
    {
     "data": {
      "text/plain": [
       "[1, 2, 3, 4]"
      ]
     },
     "execution_count": 81,
     "metadata": {},
     "output_type": "execute_result"
    }
   ],
   "source": [
    "list(filter(lambda x: True,[1,2,3,4]))"
   ]
  },
  {
   "cell_type": "code",
   "execution_count": 82,
   "metadata": {},
   "outputs": [
    {
     "data": {
      "text/plain": [
       "[True, True, True, True]"
      ]
     },
     "execution_count": 82,
     "metadata": {},
     "output_type": "execute_result"
    }
   ],
   "source": [
    "list(map(lambda x: True,[1,2,3,4]))"
   ]
  },
  {
   "cell_type": "code",
   "execution_count": 83,
   "metadata": {},
   "outputs": [
    {
     "name": "stdout",
     "output_type": "stream",
     "text": [
      "Hola 1\n",
      "Hola 2\n",
      "Hola 3\n",
      "Hola 4\n"
     ]
    },
    {
     "data": {
      "text/plain": [
       "[None, None, None, None]"
      ]
     },
     "execution_count": 83,
     "metadata": {},
     "output_type": "execute_result"
    }
   ],
   "source": [
    "def hola(x):\n",
    "    print(f\"Hola {x}\")\n",
    "    \n",
    "list(map(hola,[1,2,3,4]))"
   ]
  },
  {
   "cell_type": "code",
   "execution_count": null,
   "metadata": {},
   "outputs": [],
   "source": []
  },
  {
   "cell_type": "markdown",
   "metadata": {},
   "source": [
    "## Reduce -> `[\"🤓\",\"🤓\",\"😎\",\"🤓\"] -> together -> 👨‍👩‍👧‍👦`"
   ]
  },
  {
   "cell_type": "code",
   "execution_count": 86,
   "metadata": {},
   "outputs": [
    {
     "name": "stdout",
     "output_type": "stream",
     "text": [
      "ACC[1] E[2]\n",
      "ACC[Hola] E[3]\n",
      "ACC[Hola] E[4]\n"
     ]
    },
    {
     "data": {
      "text/plain": [
       "'Hola'"
      ]
     },
     "execution_count": 86,
     "metadata": {},
     "output_type": "execute_result"
    }
   ],
   "source": [
    "from functools import reduce\n",
    "\n",
    "def reducer(acc,e):\n",
    "    print(f\"ACC[{acc}] E[{e}]\")\n",
    "    return \"Hola\"\n",
    "\n",
    "reduce(reducer,[1,2,3,4])\n"
   ]
  },
  {
   "cell_type": "code",
   "execution_count": 87,
   "metadata": {},
   "outputs": [
    {
     "name": "stdout",
     "output_type": "stream",
     "text": [
      "ACC[1] E[2]\n",
      "ACC[3] E[3]\n",
      "ACC[6] E[4]\n"
     ]
    },
    {
     "data": {
      "text/plain": [
       "10"
      ]
     },
     "execution_count": 87,
     "metadata": {},
     "output_type": "execute_result"
    }
   ],
   "source": [
    "# If the reduce has no initializer value \n",
    "# callback function will be executed N-1 times (N is the number of list elements)\n",
    "def reducer(acc,e):\n",
    "    print(f\"ACC[{acc}] E[{e}]\")\n",
    "    return acc+e\n",
    "\n",
    "reduce(reducer,[1,2,3,4])"
   ]
  },
  {
   "cell_type": "code",
   "execution_count": 88,
   "metadata": {},
   "outputs": [
    {
     "name": "stdout",
     "output_type": "stream",
     "text": [
      "ACC[0] E[1]\n",
      "ACC[1] E[2]\n",
      "ACC[3] E[3]\n",
      "ACC[6] E[4]\n"
     ]
    },
    {
     "data": {
      "text/plain": [
       "10"
      ]
     },
     "execution_count": 88,
     "metadata": {},
     "output_type": "execute_result"
    }
   ],
   "source": [
    "def reducer(acc,e):\n",
    "    print(f\"ACC[{acc}] E[{e}]\")\n",
    "    return acc+e\n",
    "\n",
    "reduce(reducer,[1,2,3,4],0)"
   ]
  },
  {
   "cell_type": "code",
   "execution_count": 91,
   "metadata": {},
   "outputs": [
    {
     "name": "stdout",
     "output_type": "stream",
     "text": [
      "ACC[0] E[1]\n",
      "ACC[0.25] E[2]\n",
      "ACC[0.75] E[3]\n",
      "ACC[1.5] E[4]\n"
     ]
    },
    {
     "data": {
      "text/plain": [
       "2.5"
      ]
     },
     "execution_count": 91,
     "metadata": {},
     "output_type": "execute_result"
    }
   ],
   "source": [
    "#(1+2+3+4)/4 = 1/4 + 2/4 + 3/4 +4/4\n",
    "\n",
    "a = [1,2,3,4]\n",
    "def reducer(acc,e):\n",
    "    print(f\"ACC[{acc}] E[{e}]\")\n",
    "    return acc + e/len(a)\n",
    "\n",
    "reduce(reducer,a,0)"
   ]
  },
  {
   "cell_type": "code",
   "execution_count": 93,
   "metadata": {},
   "outputs": [
    {
     "data": {
      "text/plain": [
       "2.5"
      ]
     },
     "execution_count": 93,
     "metadata": {},
     "output_type": "execute_result"
    }
   ],
   "source": [
    "reducer = lambda a: (lambda acc,e: acc+e/len(a),a)\n",
    "reduce(*reducer([1,2,3,4]),0)"
   ]
  },
  {
   "cell_type": "code",
   "execution_count": 96,
   "metadata": {},
   "outputs": [
    {
     "data": {
      "text/plain": [
       "2.5"
      ]
     },
     "execution_count": 96,
     "metadata": {},
     "output_type": "execute_result"
    }
   ],
   "source": [
    "reduce(*(lambda a:(lambda acc,e:acc+e/len(a),a))([1,2,3,4]),0)"
   ]
  },
  {
   "cell_type": "code",
   "execution_count": 101,
   "metadata": {
    "scrolled": true
   },
   "outputs": [
    {
     "name": "stdout",
     "output_type": "stream",
     "text": [
      "ACC[0] E[{'name': 'Ritz', 'stars': 5}]\n",
      "ACC[5] E[{'name': 'Palace', 'stars': 4}]\n",
      "ACC[9] E[{'name': 'Pension Puri', 'stars': 2}]\n"
     ]
    },
    {
     "data": {
      "text/plain": [
       "11"
      ]
     },
     "execution_count": 101,
     "metadata": {},
     "output_type": "execute_result"
    }
   ],
   "source": [
    "hotels = [\n",
    "    {\"name\":\"Ritz\",\"stars\":5},\n",
    "    {\"name\":\"Palace\",\"stars\":4},\n",
    "    {\"name\":\"Pension Puri\",\"stars\":2},\n",
    "]\n",
    "\n",
    "def fn(acc,e):\n",
    "    print(f\"ACC[{acc}] E[{e}]\")\n",
    "    return acc + e[\"stars\"]\n",
    "\n",
    "reduce(fn, hotels, 0)"
   ]
  },
  {
   "cell_type": "code",
   "execution_count": 103,
   "metadata": {},
   "outputs": [
    {
     "data": {
      "text/plain": [
       "'Hola hola'"
      ]
     },
     "execution_count": 103,
     "metadata": {},
     "output_type": "execute_result"
    }
   ],
   "source": [
    "(lambda x: f\"Hola {x}\")(\"hola\")"
   ]
  },
  {
   "cell_type": "code",
   "execution_count": null,
   "metadata": {},
   "outputs": [],
   "source": []
  }
 ],
 "metadata": {
  "kernelspec": {
   "display_name": "Python 3",
   "language": "python",
   "name": "python3"
  },
  "language_info": {
   "codemirror_mode": {
    "name": "ipython",
    "version": 3
   },
   "file_extension": ".py",
   "mimetype": "text/x-python",
   "name": "python",
   "nbconvert_exporter": "python",
   "pygments_lexer": "ipython3",
   "version": "3.7.5"
  }
 },
 "nbformat": 4,
 "nbformat_minor": 2
}
