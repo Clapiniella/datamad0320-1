{
 "cells": [
  {
   "cell_type": "code",
   "execution_count": 1,
   "metadata": {},
   "outputs": [
    {
     "name": "stdout",
     "output_type": "stream",
     "text": [
      "Requirement already satisfied: pymongo in /usr/local/lib/python3.7/site-packages (3.7.2)\r\n"
     ]
    }
   ],
   "source": [
    "!pip3 install pymongo"
   ]
  },
  {
   "cell_type": "code",
   "execution_count": 10,
   "metadata": {},
   "outputs": [
    {
     "name": "stdout",
     "output_type": "stream",
     "text": [
      "mongodb://localhost/datamad0320\n"
     ]
    }
   ],
   "source": [
    "from pymongo import MongoClient\n",
    "\n",
    "dbName = \"datamad0320\"\n",
    "mongodbURL = f\"mongodb://localhost/{dbName}\"\n",
    "print(mongodbURL)\n",
    "client = MongoClient(mongodbURL, connectTimeoutMS=2000,serverSelectionTimeoutMS=2000)\n",
    "db = client.get_database()"
   ]
  },
  {
   "cell_type": "code",
   "execution_count": 16,
   "metadata": {},
   "outputs": [],
   "source": [
    "cur = db.list_collections()"
   ]
  },
  {
   "cell_type": "code",
   "execution_count": 17,
   "metadata": {},
   "outputs": [
    {
     "name": "stdout",
     "output_type": "stream",
     "text": [
      "{'name': 'companies', 'type': 'collection', 'options': {}, 'info': {'readOnly': False, 'uuid': UUID('7e184b68-86d8-44c9-ba2c-1a431488941f')}, 'idIndex': {'v': 2, 'key': {'_id': 1}, 'name': '_id_', 'ns': 'datamad0320.companies'}}\n"
     ]
    }
   ],
   "source": [
    "for collection in cur:\n",
    "    print(collection)"
   ]
  },
  {
   "cell_type": "markdown",
   "metadata": {},
   "source": [
    "# Making queries"
   ]
  },
  {
   "cell_type": "code",
   "execution_count": 25,
   "metadata": {},
   "outputs": [
    {
     "name": "stdout",
     "output_type": "stream",
     "text": [
      "Digg\n",
      "Zoho\n"
     ]
    }
   ],
   "source": [
    "cursor = db.companies.find({\"$or\":[{\"founded_year\":2004},{\"founded_year\":2005}]})\n",
    "for i,company in enumerate(cursor):\n",
    "    if i >= 2:\n",
    "        break\n",
    "    print(company[\"name\"])\n"
   ]
  },
  {
   "cell_type": "code",
   "execution_count": 27,
   "metadata": {},
   "outputs": [
    {
     "name": "stdout",
     "output_type": "stream",
     "text": [
      "Digg\n",
      "Zoho\n",
      "Wetpaint\n"
     ]
    }
   ],
   "source": [
    "query = {\"$or\":[{\"founded_year\":2004},{\"founded_year\":2005}]}\n",
    "for c in db.companies.find(query).limit(3):\n",
    "    print(c[\"name\"])"
   ]
  },
  {
   "cell_type": "code",
   "execution_count": 32,
   "metadata": {},
   "outputs": [
    {
     "data": {
      "text/plain": [
       "{'$or': [{'founded_year': 2004}, {'founded_year': 2005}]}"
      ]
     },
     "execution_count": 32,
     "metadata": {},
     "output_type": "execute_result"
    }
   ],
   "source": [
    "def byNextNYears(yearStart,numYears=2):\n",
    "    years = list(range(yearStart,yearStart+numYears))\n",
    "    query = {\"$or\":[{\"founded_year\":year} for year in years]}\n",
    "    return query\n",
    "\n",
    "byNextNYears(2004)"
   ]
  },
  {
   "cell_type": "code",
   "execution_count": 33,
   "metadata": {},
   "outputs": [
    {
     "name": "stdout",
     "output_type": "stream",
     "text": [
      "Digg\n",
      "Zoho\n",
      "Wetpaint\n"
     ]
    }
   ],
   "source": [
    "for c in db.companies.find(byNextNYears(2004)).limit(3):\n",
    "    print(c[\"name\"])"
   ]
  },
  {
   "cell_type": "code",
   "execution_count": 39,
   "metadata": {},
   "outputs": [
    {
     "name": "stdout",
     "output_type": "stream",
     "text": [
      "Facebook\n",
      "FaceTec\n",
      "Face Your Manga\n",
      "Facebookster\n",
      "Facebook Causes Application\n",
      "FaceKoo\n",
      "FacebookLicious!\n",
      "FaceTime Strategy\n"
     ]
    }
   ],
   "source": [
    "import re\n",
    "searchre = re.compile(\"^Face.*\")\n",
    "cur = db.companies.find({\"name\":searchre})\n",
    "for c in cur:\n",
    "    print(c[\"name\"])"
   ]
  },
  {
   "cell_type": "code",
   "execution_count": 41,
   "metadata": {},
   "outputs": [
    {
     "data": {
      "text/plain": [
       "[{'_id': ObjectId('52cdef7c4bab8bd675297d8e'), 'name': 'Facebook'},\n",
       " {'_id': ObjectId('52cdef7c4bab8bd675298334'), 'name': 'FaceTec'},\n",
       " {'_id': ObjectId('52cdef7d4bab8bd675299497'), 'name': 'Face Your Manga'},\n",
       " {'_id': ObjectId('52cdef7d4bab8bd675299d49'), 'name': 'Facebookster'},\n",
       " {'_id': ObjectId('52cdef7d4bab8bd67529a054'),\n",
       "  'name': 'Facebook Causes Application'},\n",
       " {'_id': ObjectId('52cdef7d4bab8bd67529a1b9'), 'name': 'FaceKoo'},\n",
       " {'_id': ObjectId('52cdef7f4bab8bd67529c4a8'), 'name': 'FacebookLicious!'},\n",
       " {'_id': ObjectId('52cdef7f4bab8bd67529c661'), 'name': 'FaceTime Strategy'}]"
      ]
     },
     "execution_count": 41,
     "metadata": {},
     "output_type": "execute_result"
    }
   ],
   "source": [
    "list(db.companies.find({\"name\":searchre},{\"name\":1}))"
   ]
  },
  {
   "cell_type": "code",
   "execution_count": 43,
   "metadata": {},
   "outputs": [
    {
     "data": {
      "text/plain": [
       "['Facebook',\n",
       " 'FaceTec',\n",
       " 'Face Your Manga',\n",
       " 'Facebookster',\n",
       " 'Facebook Causes Application',\n",
       " 'FaceKoo',\n",
       " 'FacebookLicious!',\n",
       " 'FaceTime Strategy']"
      ]
     },
     "execution_count": 43,
     "metadata": {},
     "output_type": "execute_result"
    }
   ],
   "source": [
    "list(map( lambda doc: doc[\"name\"] ,db.companies.find({\"name\":searchre},{\"name\":1,\"_id\":0})))"
   ]
  },
  {
   "cell_type": "code",
   "execution_count": 47,
   "metadata": {},
   "outputs": [
    {
     "data": {
      "text/plain": [
       "[{'_id': ObjectId('52cdef7c4bab8bd675297d8e'), 'name': 'Facebook'},\n",
       " {'_id': ObjectId('52cdef7c4bab8bd675298334'), 'name': 'FaceTec'},\n",
       " {'_id': ObjectId('52cdef7d4bab8bd675299497'), 'name': 'Face Your Manga'},\n",
       " {'_id': ObjectId('52cdef7d4bab8bd675299d49'), 'name': 'Facebookster'},\n",
       " {'_id': ObjectId('52cdef7d4bab8bd67529a054'),\n",
       "  'name': 'Facebook Causes Application'},\n",
       " {'_id': ObjectId('52cdef7d4bab8bd67529a1b9'), 'name': 'FaceKoo'},\n",
       " {'_id': ObjectId('52cdef7f4bab8bd67529c4a8'), 'name': 'FacebookLicious!'},\n",
       " {'_id': ObjectId('52cdef7f4bab8bd67529c661'), 'name': 'FaceTime Strategy'}]"
      ]
     },
     "execution_count": 47,
     "metadata": {},
     "output_type": "execute_result"
    }
   ],
   "source": [
    "list(db.companies.find({\"name\":searchre},{\"name\":1}))"
   ]
  },
  {
   "cell_type": "code",
   "execution_count": 49,
   "metadata": {},
   "outputs": [
    {
     "data": {
      "text/plain": [
       "[{'_id': ObjectId('52cdef7d4bab8bd675299497'), 'name': 'Face Your Manga'},\n",
       " {'_id': ObjectId('52cdef7d4bab8bd675299d49'), 'name': 'Facebookster'},\n",
       " {'_id': ObjectId('52cdef7d4bab8bd67529a054'),\n",
       "  'name': 'Facebook Causes Application'}]"
      ]
     },
     "execution_count": 49,
     "metadata": {},
     "output_type": "execute_result"
    }
   ],
   "source": [
    "list(db.companies.find({\"name\":searchre},{\"name\":1}).skip(2).limit(3))"
   ]
  },
  {
   "cell_type": "code",
   "execution_count": 51,
   "metadata": {},
   "outputs": [
    {
     "data": {
      "text/plain": [
       "{'_id': ObjectId('52cdef7c4bab8bd675297d8e'), 'name': 'Facebook'}"
      ]
     },
     "execution_count": 51,
     "metadata": {},
     "output_type": "execute_result"
    }
   ],
   "source": [
    "db.companies.find_one({\"name\":searchre},{\"name\":1})"
   ]
  },
  {
   "cell_type": "code",
   "execution_count": 56,
   "metadata": {},
   "outputs": [
    {
     "name": "stdout",
     "output_type": "stream",
     "text": [
      "CPU times: user 2 µs, sys: 0 ns, total: 2 µs\n",
      "Wall time: 561 µs\n"
     ]
    },
    {
     "data": {
      "text/plain": [
       "752"
      ]
     },
     "execution_count": 56,
     "metadata": {},
     "output_type": "execute_result"
    }
   ],
   "source": [
    "%time\n",
    "len(list(db.companies.find({\"founded_year\":2004},{\"name\":1})))"
   ]
  },
  {
   "cell_type": "code",
   "execution_count": 57,
   "metadata": {},
   "outputs": [
    {
     "name": "stdout",
     "output_type": "stream",
     "text": [
      "CPU times: user 2 µs, sys: 1e+03 ns, total: 3 µs\n",
      "Wall time: 7.15 µs\n"
     ]
    },
    {
     "name": "stderr",
     "output_type": "stream",
     "text": [
      "/usr/local/lib/python3.7/site-packages/ipykernel_launcher.py:2: DeprecationWarning: count is deprecated. Use Collection.count_documents instead.\n",
      "  \n"
     ]
    },
    {
     "data": {
      "text/plain": [
       "752"
      ]
     },
     "execution_count": 57,
     "metadata": {},
     "output_type": "execute_result"
    }
   ],
   "source": [
    "%time\n",
    "db.companies.find({\"founded_year\":2004},{\"name\":1}).count()"
   ]
  },
  {
   "cell_type": "code",
   "execution_count": 67,
   "metadata": {},
   "outputs": [
    {
     "data": {
      "text/plain": [
       "[{'_id': ObjectId('52cdef7d4bab8bd675298c34'), 'name': 'zebraspot design'},\n",
       " {'_id': ObjectId('52cdef7c4bab8bd6752981dd'), 'name': 'yoonew'},\n",
       " {'_id': ObjectId('52cdef7e4bab8bd67529a985'), 'name': 'webwork'},\n",
       " {'_id': ObjectId('52cdef7e4bab8bd67529bc37'), 'name': 't3leads'},\n",
       " {'_id': ObjectId('52cdef7c4bab8bd675297e2e'), 'name': 'stylediary'}]"
      ]
     },
     "execution_count": 67,
     "metadata": {},
     "output_type": "execute_result"
    }
   ],
   "source": [
    "from pymongo import ASCENDING, DESCENDING\n",
    "list(db.companies.find({\"founded_year\":2004},{\"name\":1}).sort([\n",
    "   ('name', DESCENDING)\n",
    "]).limit(5))"
   ]
  },
  {
   "cell_type": "code",
   "execution_count": 87,
   "metadata": {},
   "outputs": [],
   "source": [
    "data = list(db.companies.find({\"founded_year\":2004},{\"name\":1,\"funding_rounds.raised_amount\":1}))"
   ]
  },
  {
   "cell_type": "code",
   "execution_count": 88,
   "metadata": {},
   "outputs": [],
   "source": [
    "import pandas as pd\n",
    "df = pd.DataFrame(data).explode(\"funding_rounds\")"
   ]
  },
  {
   "cell_type": "code",
   "execution_count": 94,
   "metadata": {},
   "outputs": [
    {
     "data": {
      "text/plain": [
       "0       {'raised_amount': 8500000}\n",
       "0       {'raised_amount': 2800000}\n",
       "0      {'raised_amount': 28700000}\n",
       "0       {'raised_amount': 5000000}\n",
       "1        {'raised_amount': 500000}\n",
       "                  ...             \n",
       "747                            NaN\n",
       "748                            NaN\n",
       "749                            NaN\n",
       "750     {'raised_amount': 2000000}\n",
       "751                            NaN\n",
       "Name: funding_rounds, Length: 1363, dtype: object"
      ]
     },
     "execution_count": 94,
     "metadata": {},
     "output_type": "execute_result"
    }
   ],
   "source": [
    "df.funding_rounds"
   ]
  },
  {
   "cell_type": "code",
   "execution_count": 96,
   "metadata": {},
   "outputs": [],
   "source": [
    "df.funding_rounds = df.funding_rounds.apply(lambda doc: doc.get(\"raised_amount\") if type(doc)==dict else 0)"
   ]
  },
  {
   "cell_type": "code",
   "execution_count": 100,
   "metadata": {},
   "outputs": [
    {
     "data": {
      "text/html": [
       "<div>\n",
       "<style scoped>\n",
       "    .dataframe tbody tr th:only-of-type {\n",
       "        vertical-align: middle;\n",
       "    }\n",
       "\n",
       "    .dataframe tbody tr th {\n",
       "        vertical-align: top;\n",
       "    }\n",
       "\n",
       "    .dataframe thead th {\n",
       "        text-align: right;\n",
       "    }\n",
       "</style>\n",
       "<table border=\"1\" class=\"dataframe\">\n",
       "  <thead>\n",
       "    <tr style=\"text-align: right;\">\n",
       "      <th></th>\n",
       "      <th>funding_rounds</th>\n",
       "    </tr>\n",
       "  </thead>\n",
       "  <tbody>\n",
       "    <tr>\n",
       "      <th>count</th>\n",
       "      <td>1.309000e+03</td>\n",
       "    </tr>\n",
       "    <tr>\n",
       "      <th>mean</th>\n",
       "      <td>1.093028e+07</td>\n",
       "    </tr>\n",
       "    <tr>\n",
       "      <th>std</th>\n",
       "      <td>4.792119e+07</td>\n",
       "    </tr>\n",
       "    <tr>\n",
       "      <th>min</th>\n",
       "      <td>0.000000e+00</td>\n",
       "    </tr>\n",
       "    <tr>\n",
       "      <th>25%</th>\n",
       "      <td>0.000000e+00</td>\n",
       "    </tr>\n",
       "    <tr>\n",
       "      <th>50%</th>\n",
       "      <td>3.900000e+06</td>\n",
       "    </tr>\n",
       "    <tr>\n",
       "      <th>75%</th>\n",
       "      <td>1.100000e+07</td>\n",
       "    </tr>\n",
       "    <tr>\n",
       "      <th>max</th>\n",
       "      <td>1.500000e+09</td>\n",
       "    </tr>\n",
       "  </tbody>\n",
       "</table>\n",
       "</div>"
      ],
      "text/plain": [
       "       funding_rounds\n",
       "count    1.309000e+03\n",
       "mean     1.093028e+07\n",
       "std      4.792119e+07\n",
       "min      0.000000e+00\n",
       "25%      0.000000e+00\n",
       "50%      3.900000e+06\n",
       "75%      1.100000e+07\n",
       "max      1.500000e+09"
      ]
     },
     "execution_count": 100,
     "metadata": {},
     "output_type": "execute_result"
    }
   ],
   "source": [
    "df.describe()"
   ]
  },
  {
   "cell_type": "code",
   "execution_count": 103,
   "metadata": {},
   "outputs": [],
   "source": [
    "rests = list(db.restaurantes.find())"
   ]
  },
  {
   "cell_type": "code",
   "execution_count": 107,
   "metadata": {},
   "outputs": [
    {
     "name": "stderr",
     "output_type": "stream",
     "text": [
      "/usr/local/lib/python3.7/site-packages/ipykernel_launcher.py:2: FutureWarning: pandas.io.json.json_normalize is deprecated, use pandas.json_normalize instead\n",
      "  \n"
     ]
    },
    {
     "data": {
      "text/html": [
       "<div>\n",
       "<style scoped>\n",
       "    .dataframe tbody tr th:only-of-type {\n",
       "        vertical-align: middle;\n",
       "    }\n",
       "\n",
       "    .dataframe tbody tr th {\n",
       "        vertical-align: top;\n",
       "    }\n",
       "\n",
       "    .dataframe thead th {\n",
       "        text-align: right;\n",
       "    }\n",
       "</style>\n",
       "<table border=\"1\" class=\"dataframe\">\n",
       "  <thead>\n",
       "    <tr style=\"text-align: right;\">\n",
       "      <th></th>\n",
       "      <th>_id</th>\n",
       "      <th>borough</th>\n",
       "      <th>cuisine</th>\n",
       "      <th>grades</th>\n",
       "      <th>name</th>\n",
       "      <th>restaurant_id</th>\n",
       "      <th>address.building</th>\n",
       "      <th>address.coord</th>\n",
       "      <th>address.street</th>\n",
       "      <th>address.zipcode</th>\n",
       "      <th>visitado</th>\n",
       "      <th>stars</th>\n",
       "    </tr>\n",
       "  </thead>\n",
       "  <tbody>\n",
       "    <tr>\n",
       "      <th>0</th>\n",
       "      <td>5e983c0b4b5624849fa69583</td>\n",
       "      <td>Manhattan</td>\n",
       "      <td>Irish</td>\n",
       "      <td>[{'date': 2014-09-06 00:00:00, 'grade': 'A', '...</td>\n",
       "      <td>Dj Reynolds Pub And Restaurant</td>\n",
       "      <td>30191841</td>\n",
       "      <td>351</td>\n",
       "      <td>[-73.98513559999999, 40.7676919]</td>\n",
       "      <td>West   57 Street</td>\n",
       "      <td>10019</td>\n",
       "      <td>NaN</td>\n",
       "      <td>NaN</td>\n",
       "    </tr>\n",
       "    <tr>\n",
       "      <th>1</th>\n",
       "      <td>5e983c0b4b5624849fa69584</td>\n",
       "      <td>Queens</td>\n",
       "      <td>Jewish/Kosher</td>\n",
       "      <td>[{'date': 2014-11-24 00:00:00, 'grade': 'Z', '...</td>\n",
       "      <td>Tov Kosher Kitchen</td>\n",
       "      <td>40356068</td>\n",
       "      <td>97-22</td>\n",
       "      <td>[-73.8601152, 40.7311739]</td>\n",
       "      <td>63 Road</td>\n",
       "      <td>11374</td>\n",
       "      <td>NaN</td>\n",
       "      <td>NaN</td>\n",
       "    </tr>\n",
       "    <tr>\n",
       "      <th>2</th>\n",
       "      <td>5e983c0b4b5624849fa69585</td>\n",
       "      <td>Brooklyn</td>\n",
       "      <td>Hamburgers</td>\n",
       "      <td>[{'date': 2014-12-30 00:00:00, 'grade': 'A', '...</td>\n",
       "      <td>Wendy'S</td>\n",
       "      <td>30112340</td>\n",
       "      <td>469</td>\n",
       "      <td>[-73.961704, 40.662942]</td>\n",
       "      <td>Flatbush Avenue</td>\n",
       "      <td>11225</td>\n",
       "      <td>NaN</td>\n",
       "      <td>NaN</td>\n",
       "    </tr>\n",
       "    <tr>\n",
       "      <th>3</th>\n",
       "      <td>5e983c0b4b5624849fa69586</td>\n",
       "      <td>Brooklyn</td>\n",
       "      <td>American</td>\n",
       "      <td>[{'date': 2014-06-10 00:00:00, 'grade': 'A', '...</td>\n",
       "      <td>Riviera Caterer</td>\n",
       "      <td>40356018</td>\n",
       "      <td>2780</td>\n",
       "      <td>[-73.98241999999999, 40.579505]</td>\n",
       "      <td>Stillwell Avenue</td>\n",
       "      <td>11224</td>\n",
       "      <td>NaN</td>\n",
       "      <td>NaN</td>\n",
       "    </tr>\n",
       "    <tr>\n",
       "      <th>4</th>\n",
       "      <td>5e983c0b4b5624849fa69587</td>\n",
       "      <td>Staten Island</td>\n",
       "      <td>Jewish/Kosher</td>\n",
       "      <td>[{'date': 2014-10-06 00:00:00, 'grade': 'A', '...</td>\n",
       "      <td>Kosher Island</td>\n",
       "      <td>40356442</td>\n",
       "      <td>2206</td>\n",
       "      <td>[-74.1377286, 40.6119572]</td>\n",
       "      <td>Victory Boulevard</td>\n",
       "      <td>10314</td>\n",
       "      <td>NaN</td>\n",
       "      <td>NaN</td>\n",
       "    </tr>\n",
       "    <tr>\n",
       "      <th>...</th>\n",
       "      <td>...</td>\n",
       "      <td>...</td>\n",
       "      <td>...</td>\n",
       "      <td>...</td>\n",
       "      <td>...</td>\n",
       "      <td>...</td>\n",
       "      <td>...</td>\n",
       "      <td>...</td>\n",
       "      <td>...</td>\n",
       "      <td>...</td>\n",
       "      <td>...</td>\n",
       "      <td>...</td>\n",
       "    </tr>\n",
       "    <tr>\n",
       "      <th>25356</th>\n",
       "      <td>5e983c0d4b5624849fa6f88f</td>\n",
       "      <td>Brooklyn</td>\n",
       "      <td>Other</td>\n",
       "      <td>[]</td>\n",
       "      <td>Cold Press'D</td>\n",
       "      <td>50018995</td>\n",
       "      <td>921</td>\n",
       "      <td>[-73.9691347, 40.6389857]</td>\n",
       "      <td>Cortelyou Rd</td>\n",
       "      <td>11218</td>\n",
       "      <td>NaN</td>\n",
       "      <td>NaN</td>\n",
       "    </tr>\n",
       "    <tr>\n",
       "      <th>25357</th>\n",
       "      <td>5e983c0d4b5624849fa6f890</td>\n",
       "      <td>NaN</td>\n",
       "      <td>NaN</td>\n",
       "      <td>NaN</td>\n",
       "      <td>pepe rest</td>\n",
       "      <td>NaN</td>\n",
       "      <td>NaN</td>\n",
       "      <td>NaN</td>\n",
       "      <td>NaN</td>\n",
       "      <td>NaN</td>\n",
       "      <td>NaN</td>\n",
       "      <td>NaN</td>\n",
       "    </tr>\n",
       "    <tr>\n",
       "      <th>25358</th>\n",
       "      <td>5e983c0d4b5624849fa6f891</td>\n",
       "      <td>NaN</td>\n",
       "      <td>NaN</td>\n",
       "      <td>NaN</td>\n",
       "      <td>NaN</td>\n",
       "      <td>NaN</td>\n",
       "      <td>NaN</td>\n",
       "      <td>NaN</td>\n",
       "      <td>NaN</td>\n",
       "      <td>NaN</td>\n",
       "      <td>False</td>\n",
       "      <td>NaN</td>\n",
       "    </tr>\n",
       "    <tr>\n",
       "      <th>25359</th>\n",
       "      <td>5e983c0d4b5624849fa6f892</td>\n",
       "      <td>NaN</td>\n",
       "      <td>NaN</td>\n",
       "      <td>NaN</td>\n",
       "      <td>La tratoria de Giorgio</td>\n",
       "      <td>NaN</td>\n",
       "      <td>NaN</td>\n",
       "      <td>NaN</td>\n",
       "      <td>NaN</td>\n",
       "      <td>NaN</td>\n",
       "      <td>NaN</td>\n",
       "      <td>5.0</td>\n",
       "    </tr>\n",
       "    <tr>\n",
       "      <th>25360</th>\n",
       "      <td>5e983c0d4b5624849fa6f893</td>\n",
       "      <td>Queens</td>\n",
       "      <td>Other</td>\n",
       "      <td>[]</td>\n",
       "      <td></td>\n",
       "      <td>50018956</td>\n",
       "      <td>6635</td>\n",
       "      <td>[-73.897717, 40.72487599999999]</td>\n",
       "      <td>Grand Ave</td>\n",
       "      <td>11378</td>\n",
       "      <td>NaN</td>\n",
       "      <td>NaN</td>\n",
       "    </tr>\n",
       "  </tbody>\n",
       "</table>\n",
       "<p>25361 rows × 12 columns</p>\n",
       "</div>"
      ],
      "text/plain": [
       "                            _id        borough        cuisine  \\\n",
       "0      5e983c0b4b5624849fa69583      Manhattan          Irish   \n",
       "1      5e983c0b4b5624849fa69584         Queens  Jewish/Kosher   \n",
       "2      5e983c0b4b5624849fa69585       Brooklyn     Hamburgers   \n",
       "3      5e983c0b4b5624849fa69586       Brooklyn       American   \n",
       "4      5e983c0b4b5624849fa69587  Staten Island  Jewish/Kosher   \n",
       "...                         ...            ...            ...   \n",
       "25356  5e983c0d4b5624849fa6f88f       Brooklyn          Other   \n",
       "25357  5e983c0d4b5624849fa6f890            NaN            NaN   \n",
       "25358  5e983c0d4b5624849fa6f891            NaN            NaN   \n",
       "25359  5e983c0d4b5624849fa6f892            NaN            NaN   \n",
       "25360  5e983c0d4b5624849fa6f893         Queens          Other   \n",
       "\n",
       "                                                  grades  \\\n",
       "0      [{'date': 2014-09-06 00:00:00, 'grade': 'A', '...   \n",
       "1      [{'date': 2014-11-24 00:00:00, 'grade': 'Z', '...   \n",
       "2      [{'date': 2014-12-30 00:00:00, 'grade': 'A', '...   \n",
       "3      [{'date': 2014-06-10 00:00:00, 'grade': 'A', '...   \n",
       "4      [{'date': 2014-10-06 00:00:00, 'grade': 'A', '...   \n",
       "...                                                  ...   \n",
       "25356                                                 []   \n",
       "25357                                                NaN   \n",
       "25358                                                NaN   \n",
       "25359                                                NaN   \n",
       "25360                                                 []   \n",
       "\n",
       "                                 name restaurant_id address.building  \\\n",
       "0      Dj Reynolds Pub And Restaurant      30191841              351   \n",
       "1                  Tov Kosher Kitchen      40356068            97-22   \n",
       "2                             Wendy'S      30112340              469   \n",
       "3                     Riviera Caterer      40356018             2780   \n",
       "4                       Kosher Island      40356442             2206   \n",
       "...                               ...           ...              ...   \n",
       "25356                    Cold Press'D      50018995              921   \n",
       "25357                       pepe rest           NaN              NaN   \n",
       "25358                             NaN           NaN              NaN   \n",
       "25359          La tratoria de Giorgio           NaN              NaN   \n",
       "25360                                      50018956             6635   \n",
       "\n",
       "                          address.coord     address.street address.zipcode  \\\n",
       "0      [-73.98513559999999, 40.7676919]   West   57 Street           10019   \n",
       "1             [-73.8601152, 40.7311739]            63 Road           11374   \n",
       "2               [-73.961704, 40.662942]    Flatbush Avenue           11225   \n",
       "3       [-73.98241999999999, 40.579505]   Stillwell Avenue           11224   \n",
       "4             [-74.1377286, 40.6119572]  Victory Boulevard           10314   \n",
       "...                                 ...                ...             ...   \n",
       "25356         [-73.9691347, 40.6389857]       Cortelyou Rd           11218   \n",
       "25357                               NaN                NaN             NaN   \n",
       "25358                               NaN                NaN             NaN   \n",
       "25359                               NaN                NaN             NaN   \n",
       "25360   [-73.897717, 40.72487599999999]          Grand Ave           11378   \n",
       "\n",
       "      visitado  stars  \n",
       "0          NaN    NaN  \n",
       "1          NaN    NaN  \n",
       "2          NaN    NaN  \n",
       "3          NaN    NaN  \n",
       "4          NaN    NaN  \n",
       "...        ...    ...  \n",
       "25356      NaN    NaN  \n",
       "25357      NaN    NaN  \n",
       "25358    False    NaN  \n",
       "25359      NaN    5.0  \n",
       "25360      NaN    NaN  \n",
       "\n",
       "[25361 rows x 12 columns]"
      ]
     },
     "execution_count": 107,
     "metadata": {},
     "output_type": "execute_result"
    }
   ],
   "source": [
    "from pandas.io.json import json_normalize\n",
    "pd.DataFrame(json_normalize(rests))"
   ]
  },
  {
   "cell_type": "code",
   "execution_count": null,
   "metadata": {},
   "outputs": [],
   "source": []
  },
  {
   "cell_type": "code",
   "execution_count": null,
   "metadata": {},
   "outputs": [],
   "source": []
  }
 ],
 "metadata": {
  "kernelspec": {
   "display_name": "Python 3",
   "language": "python",
   "name": "python3"
  },
  "language_info": {
   "codemirror_mode": {
    "name": "ipython",
    "version": 3
   },
   "file_extension": ".py",
   "mimetype": "text/x-python",
   "name": "python",
   "nbconvert_exporter": "python",
   "pygments_lexer": "ipython3",
   "version": "3.7.5"
  }
 },
 "nbformat": 4,
 "nbformat_minor": 2
}
