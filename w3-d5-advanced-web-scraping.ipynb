{
 "cells": [
  {
   "cell_type": "code",
   "execution_count": 8,
   "metadata": {},
   "outputs": [],
   "source": [
    "import requests\n",
    "from bs4 import BeautifulSoup\n",
    "\n",
    "data = requests.get(\"https://twitter.com/ironhack\").text\n",
    "soup = BeautifulSoup(data)"
   ]
  },
  {
   "cell_type": "code",
   "execution_count": 12,
   "metadata": {},
   "outputs": [
    {
     "data": {
      "text/plain": [
       "'js-nonNavigable u-textUserColor\" title=\"689 Siguiendo\" data-nav=\"following\"\\n    '"
      ]
     },
     "execution_count": 12,
     "metadata": {},
     "output_type": "execute_result"
    }
   ],
   "source": [
    "idx = data.find(\"689\")\n",
    "data[idx-40:idx+40]"
   ]
  },
  {
   "cell_type": "code",
   "execution_count": 16,
   "metadata": {},
   "outputs": [],
   "source": [
    "soup.find(\"article\")"
   ]
  },
  {
   "cell_type": "code",
   "execution_count": 33,
   "metadata": {},
   "outputs": [],
   "source": [
    "from selenium import webdriver\n",
    "from selenium.webdriver.common.by import By\n",
    "from selenium.webdriver.support.ui import WebDriverWait\n",
    "from selenium.webdriver.support import expected_conditions as EC\n",
    "\n",
    "def getPage(url):\n",
    "    driver = webdriver.Firefox()\n",
    "    driver.implicitly_wait(10) # seconds\n",
    "    driver.get(url)\n",
    "  \n",
    "    \n",
    "    element = WebDriverWait(driver, 10).until(\n",
    "        EC.presence_of_element_located((By.TAG_NAME, \"article\"))\n",
    "    )\n",
    "    \n",
    "    html = driver.page_source\n",
    "    soup = BeautifulSoup(html, 'html.parser')\n",
    "    \n",
    "    driver.quit()\n",
    "    return soup\n"
   ]
  },
  {
   "cell_type": "code",
   "execution_count": 34,
   "metadata": {},
   "outputs": [],
   "source": [
    "soup = getPage(\"https://twitter.com/ironhack\")"
   ]
  },
  {
   "cell_type": "code",
   "execution_count": 69,
   "metadata": {},
   "outputs": [],
   "source": [
    "import re\n",
    "\n",
    "normalize_whitespace = lambda a: re.sub(r'\\s+', ' ', a.strip())\n",
    "\n",
    "def extractTweet(article):\n",
    "    article.select(\"css-901oao.r-hkyrab.r-1qd0xha.r-a023e6.r-16dba41.r-ad9z0x.r-bcqeeo.r-bnwqim.r-qvutc0 span\")\n",
    "    line = list(map(lambda t: t.text.replace(\"\\n\",' ').strip(), texts))\n",
    "    line = list(filter(lambda x: x,line))\n",
    "    return normalize_whitespace(' '.join(line))"
   ]
  },
  {
   "cell_type": "code",
   "execution_count": 70,
   "metadata": {},
   "outputs": [
    {
     "data": {
      "text/plain": [
       "['We have officially launched #IronhackRemote our first live online coding bootcamp! Benefit from a blended learning methodology Learn from anywhere you want Join a global tech community, but now online Discover our Remote #WebDevelopmentBootcamp',\n",
       " 'We have officially launched #IronhackRemote our first live online coding bootcamp! Benefit from a blended learning methodology Learn from anywhere you want Join a global tech community, but now online Discover our Remote #WebDevelopmentBootcamp',\n",
       " 'We have officially launched #IronhackRemote our first live online coding bootcamp! Benefit from a blended learning methodology Learn from anywhere you want Join a global tech community, but now online Discover our Remote #WebDevelopmentBootcamp',\n",
       " 'We have officially launched #IronhackRemote our first live online coding bootcamp! Benefit from a blended learning methodology Learn from anywhere you want Join a global tech community, but now online Discover our Remote #WebDevelopmentBootcamp']"
      ]
     },
     "execution_count": 70,
     "metadata": {},
     "output_type": "execute_result"
    }
   ],
   "source": [
    "articles = soup.select(\"article\")\n",
    "[extractTweet(art) for art in articles]"
   ]
  },
  {
   "cell_type": "code",
   "execution_count": null,
   "metadata": {},
   "outputs": [],
   "source": []
  },
  {
   "cell_type": "code",
   "execution_count": 71,
   "metadata": {},
   "outputs": [],
   "source": [
    "class PageGetter:\n",
    "    driver = False\n",
    "    def __init__(self, defaultBrowser='firefox'):\n",
    "        if defaultBrowser == 'firefox':\n",
    "            self.driver = webdriver.Firefox()\n",
    "        elif defaultBrowser == 'chrome':\n",
    "            self.driver = webdriver.Chrome()\n",
    "        else:\n",
    "            raise Exception('Not a browser')\n",
    "\n",
    "    def getPage(self, url):\n",
    "        if not self.driver:\n",
    "            raise Exception(\"You should start a browser connection\")\n",
    "        self.driver.get(url)\n",
    "        html = self.driver.page_source\n",
    "        soup = BeautifulSoup(html, 'html.parser')\n",
    "        return soup\n",
    "\n",
    "    def close(self):\n",
    "        self.driver.quit()"
   ]
  },
  {
   "cell_type": "code",
   "execution_count": 72,
   "metadata": {},
   "outputs": [],
   "source": [
    "pg = PageGetter()\n",
    "\n",
    "soup1 = pg.getPage(\"https://twitter.com/ironhack\")\n",
    "soup2 = pg.getPage(\"https://www.ironhack.com\")\n",
    "\n",
    "pg.close()"
   ]
  },
  {
   "cell_type": "code",
   "execution_count": null,
   "metadata": {},
   "outputs": [],
   "source": []
  }
 ],
 "metadata": {
  "kernelspec": {
   "display_name": "Python 3",
   "language": "python",
   "name": "python3"
  },
  "language_info": {
   "codemirror_mode": {
    "name": "ipython",
    "version": 3
   },
   "file_extension": ".py",
   "mimetype": "text/x-python",
   "name": "python",
   "nbconvert_exporter": "python",
   "pygments_lexer": "ipython3",
   "version": "3.7.5"
  }
 },
 "nbformat": 4,
 "nbformat_minor": 2
}
