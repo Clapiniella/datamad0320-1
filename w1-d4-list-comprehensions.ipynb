{
 "cells": [
  {
   "cell_type": "code",
   "execution_count": 45,
   "metadata": {},
   "outputs": [
    {
     "name": "stdout",
     "output_type": "stream",
     "text": [
      "['⛱Marc', '⛱Clara', '⛱Felipe', '⛱Blanca', '⛱Fran', '⛱Bego', '⛱Noelia', '⛱Ovi'] 8\n"
     ]
    }
   ],
   "source": [
    "staff = [\"⛱Marc\",\"⛱Clara\",\"⛱Felipe\",\"⛱Blanca\",\"⛱Fran\",\"⛱Bego\",\"⛱Noelia\",\"⛱Ovi\"]\n",
    "print(staff, len(staff))"
   ]
  },
  {
   "cell_type": "code",
   "execution_count": 46,
   "metadata": {},
   "outputs": [
    {
     "name": "stdout",
     "output_type": "stream",
     "text": [
      "['🧴⛱Marc', '🧴⛱Clara', '🧴⛱Felipe', '🧴⛱Blanca', '🧴⛱Fran', '🧴⛱Bego', '🧴⛱Noelia', '🧴⛱Ovi']\n"
     ]
    }
   ],
   "source": [
    "staff_con_crema = [\"🧴\"+e for e in staff]\n",
    "print(staff_con_crema)"
   ]
  },
  {
   "cell_type": "code",
   "execution_count": 47,
   "metadata": {},
   "outputs": [
    {
     "data": {
      "text/plain": [
       "['🧴', '🧴', '🧴', '🧴', '🧴', '🧴', '🧴', '🧴']"
      ]
     },
     "execution_count": 47,
     "metadata": {},
     "output_type": "execute_result"
    }
   ],
   "source": [
    "[\"🧴\" for e in staff]"
   ]
  },
  {
   "cell_type": "code",
   "execution_count": 48,
   "metadata": {},
   "outputs": [
    {
     "data": {
      "text/plain": [
       "['⛱Marc', '⛱Clara', '⛱Felipe', '⛱Blanca', '⛱Fran', '⛱Bego', '⛱Noelia', '⛱Ovi']"
      ]
     },
     "execution_count": 48,
     "metadata": {},
     "output_type": "execute_result"
    }
   ],
   "source": [
    "staff"
   ]
  },
  {
   "cell_type": "code",
   "execution_count": 49,
   "metadata": {},
   "outputs": [
    {
     "data": {
      "text/plain": [
       "['⛱Marc',\n",
       " '🚴⛱Clara',\n",
       " '⛱Felipe',\n",
       " '🚴⛱Blanca',\n",
       " '⛱Fran',\n",
       " '⛱Bego',\n",
       " '🚴⛱Noelia',\n",
       " '⛱Ovi']"
      ]
     },
     "execution_count": 49,
     "metadata": {},
     "output_type": "execute_result"
    }
   ],
   "source": [
    "def daleBici(ta):\n",
    "    if ta[-1] == \"a\":\n",
    "        return f\"🚴{ta}\"\n",
    "    else:\n",
    "        return ta\n",
    "\n",
    "bicis = [daleBici(ta) for ta in staff]\n",
    "bicis"
   ]
  },
  {
   "cell_type": "code",
   "execution_count": 50,
   "metadata": {},
   "outputs": [
    {
     "name": "stdout",
     "output_type": "stream",
     "text": [
      "⛱Marc 🚴⛱Clara ⛱Felipe 🚴⛱Blanca ⛱Fran ⛱Bego 🚴⛱Noelia ⛱Ovi\n"
     ]
    }
   ],
   "source": [
    "a = print(*bicis)"
   ]
  },
  {
   "cell_type": "code",
   "execution_count": 51,
   "metadata": {},
   "outputs": [
    {
     "data": {
      "text/plain": [
       "'⛱Marc->🚴⛱Clara->⛱Felipe->🚴⛱Blanca->⛱Fran->⛱Bego->🚴⛱Noelia->⛱Ovi'"
      ]
     },
     "execution_count": 51,
     "metadata": {},
     "output_type": "execute_result"
    }
   ],
   "source": [
    "'->'.join(bicis)"
   ]
  },
  {
   "cell_type": "markdown",
   "metadata": {},
   "source": [
    "# List flatten (for loop vs comprehension list)"
   ]
  },
  {
   "cell_type": "code",
   "execution_count": 52,
   "metadata": {},
   "outputs": [
    {
     "name": "stdout",
     "output_type": "stream",
     "text": [
      "9\n"
     ]
    },
    {
     "data": {
      "text/plain": [
       "[[1, 2, 3], [4, 5, 6], [7, 8, 9]]"
      ]
     },
     "execution_count": 52,
     "metadata": {},
     "output_type": "execute_result"
    }
   ],
   "source": [
    "m = [[1,2,3],[4,5,6],[7,8,9]]\n",
    "print(m[2][2])\n",
    "m"
   ]
  },
  {
   "cell_type": "code",
   "execution_count": 53,
   "metadata": {},
   "outputs": [
    {
     "name": "stdout",
     "output_type": "stream",
     "text": [
      "[1, 2, 3, 4, 5, 6, 7, 8, 9]\n"
     ]
    }
   ],
   "source": [
    "q = []\n",
    "for e in m:\n",
    "    for x in e:\n",
    "        q.append(x)\n",
    "print(q)"
   ]
  },
  {
   "cell_type": "code",
   "execution_count": 54,
   "metadata": {},
   "outputs": [
    {
     "data": {
      "text/plain": [
       "[1, 2, 3, 4, 5, 6, 7, 8, 9]"
      ]
     },
     "execution_count": 54,
     "metadata": {},
     "output_type": "execute_result"
    }
   ],
   "source": [
    "[x for e in m for x in e]"
   ]
  },
  {
   "cell_type": "markdown",
   "metadata": {},
   "source": [
    "# List comprehensions (filtering)"
   ]
  },
  {
   "cell_type": "code",
   "execution_count": 55,
   "metadata": {},
   "outputs": [
    {
     "data": {
      "text/plain": [
       "['⛱Marc',\n",
       " '🚴⛱Clara',\n",
       " '⛱Felipe',\n",
       " '🚴⛱Blanca',\n",
       " '⛱Fran',\n",
       " '⛱Bego',\n",
       " '🚴⛱Noelia',\n",
       " '⛱Ovi']"
      ]
     },
     "execution_count": 55,
     "metadata": {},
     "output_type": "execute_result"
    }
   ],
   "source": [
    "bicis"
   ]
  },
  {
   "cell_type": "code",
   "execution_count": 56,
   "metadata": {},
   "outputs": [
    {
     "name": "stdout",
     "output_type": "stream",
     "text": [
      "['⛱Marc', '🚴⛱Clara', '⛱Felipe', '🚴⛱Blanca', '⛱Fran', '⛱Bego', '🚴⛱Noelia', '⛱Ovi']\n",
      "['🚴⛱Clara', '🚴⛱Blanca', '🚴⛱Noelia']\n"
     ]
    }
   ],
   "source": [
    "solo_bicis = [ ta for ta in bicis if ta[0]==\"🚴\"]\n",
    "print(bicis)\n",
    "print(solo_bicis)"
   ]
  },
  {
   "cell_type": "code",
   "execution_count": 30,
   "metadata": {},
   "outputs": [
    {
     "data": {
      "text/plain": [
       "'⛱'"
      ]
     },
     "execution_count": 30,
     "metadata": {},
     "output_type": "execute_result"
    }
   ],
   "source": [
    "ta = '⛱Marc'\n",
    "ta[0]"
   ]
  },
  {
   "cell_type": "code",
   "execution_count": 34,
   "metadata": {},
   "outputs": [
    {
     "data": {
      "text/plain": [
       "['⛱', 'M', 'a', 'r', 'c']"
      ]
     },
     "execution_count": 34,
     "metadata": {},
     "output_type": "execute_result"
    }
   ],
   "source": [
    "list(ta)"
   ]
  },
  {
   "cell_type": "code",
   "execution_count": 59,
   "metadata": {},
   "outputs": [
    {
     "data": {
      "text/plain": [
       "['⛱Marc',\n",
       " '🚴⛱Clara',\n",
       " '🚀⛱Felipe',\n",
       " '🚴🚀⛱Blanca',\n",
       " '⛱Fran',\n",
       " '⛱Bego',\n",
       " '🚴⛱Noelia',\n",
       " '⛱Ovi']"
      ]
     },
     "execution_count": 59,
     "metadata": {},
     "output_type": "execute_result"
    }
   ],
   "source": [
    "staff_pro = [\"⛱Marc\",\"⛱Clara\",\"🚀⛱Felipe\",\"🚀⛱Blanca\",\"⛱Fran\",\"⛱Bego\",\"⛱Noelia\",\"⛱Ovi\"]\n",
    "solo_bicis_pro = [daleBici(ta) for ta in staff_pro]\n",
    "solo_bicis_pro"
   ]
  },
  {
   "cell_type": "code",
   "execution_count": 76,
   "metadata": {},
   "outputs": [
    {
     "data": {
      "text/plain": [
       "True"
      ]
     },
     "execution_count": 76,
     "metadata": {},
     "output_type": "execute_result"
    }
   ],
   "source": [
    "len([e for e in '⛱🚴Clara' if e in [\"🚀\",\"🚴\"]]) > 0"
   ]
  },
  {
   "cell_type": "code",
   "execution_count": 86,
   "metadata": {},
   "outputs": [
    {
     "data": {
      "text/plain": [
       "['🚴⛱Clara', '🚀⛱Felipe', '🚴🚀⛱Blanca', '🚴⛱Noelia']"
      ]
     },
     "execution_count": 86,
     "metadata": {},
     "output_type": "execute_result"
    }
   ],
   "source": [
    "[ta for ta in solo_bicis_pro if len([e for e in ta if e in [\"🚀\",\"🚴\"]]) > 0]"
   ]
  },
  {
   "cell_type": "code",
   "execution_count": null,
   "metadata": {},
   "outputs": [],
   "source": [
    "# With nested comprehension lists\n",
    "[ta for ta in solo_bicis_pro if len([ta[i] for \n",
    "                                     i in range(len(ta)) if ta[i] in [\"🚀\",\"🚴\"]]) > 0]"
   ]
  },
  {
   "cell_type": "code",
   "execution_count": 89,
   "metadata": {},
   "outputs": [
    {
     "data": {
      "text/plain": [
       "['🚴🚀⛱Blanca']"
      ]
     },
     "execution_count": 89,
     "metadata": {},
     "output_type": "execute_result"
    }
   ],
   "source": [
    "# With sets\n",
    "[ta for ta in solo_bicis_pro if set([\"🚀\",\"🚴\"]).issubset(ta)]"
   ]
  },
  {
   "cell_type": "code",
   "execution_count": 105,
   "metadata": {},
   "outputs": [
    {
     "data": {
      "text/plain": [
       "['⛱Marc',\n",
       " '🚴⛱Clara',\n",
       " '🚀⛱Felipe',\n",
       " '🚴🚀⛱Blanca',\n",
       " '⛱Fran',\n",
       " '⛱Bego',\n",
       " '🚴⛱Noelia',\n",
       " '⛱Ovi']"
      ]
     },
     "execution_count": 105,
     "metadata": {},
     "output_type": "execute_result"
    }
   ],
   "source": [
    "[ta for ta in solo_bicis_pro if \"🚀\" or \"🚴\" in ta] # Esta mal por LTR evaluation"
   ]
  },
  {
   "cell_type": "code",
   "execution_count": 96,
   "metadata": {},
   "outputs": [
    {
     "data": {
      "text/plain": [
       "['🚴⛱Clara', '🚀⛱Felipe', '🚴🚀⛱Blanca', '🚴⛱Noelia']"
      ]
     },
     "execution_count": 96,
     "metadata": {},
     "output_type": "execute_result"
    }
   ],
   "source": [
    "# With sets\n",
    "[ta for ta in solo_bicis_pro if set(ta).intersection([\"🚀\",\"🚴\"])]"
   ]
  },
  {
   "cell_type": "code",
   "execution_count": 151,
   "metadata": {},
   "outputs": [
    {
     "data": {
      "text/plain": [
       "['as🤔😍']"
      ]
     },
     "execution_count": 151,
     "metadata": {},
     "output_type": "execute_result"
    }
   ],
   "source": [
    "h=[\"ho😍la\",\"go😍la\",\"as🤔😍\",\"asdfa\"]\n",
    "[e for e in h if (\"😍\" in e) and (\"🤔\" in e) ]"
   ]
  },
  {
   "cell_type": "markdown",
   "metadata": {},
   "source": [
    "# Truthy, Falsy and LTR evaluation"
   ]
  },
  {
   "cell_type": "code",
   "execution_count": 107,
   "metadata": {},
   "outputs": [
    {
     "name": "stdout",
     "output_type": "stream",
     "text": [
      "Bien\n"
     ]
    },
    {
     "data": {
      "text/plain": [
       "True"
      ]
     },
     "execution_count": 107,
     "metadata": {},
     "output_type": "execute_result"
    }
   ],
   "source": [
    "# LTR evaluation\n",
    "\n",
    "def bien():\n",
    "    print(\"Bien\")\n",
    "    return True\n",
    "    \n",
    "def mal():\n",
    "    print(\"Mal\")\n",
    "    return False\n",
    "\n",
    "bien() or mal()"
   ]
  },
  {
   "cell_type": "code",
   "execution_count": 162,
   "metadata": {},
   "outputs": [
    {
     "name": "stdout",
     "output_type": "stream",
     "text": [
      "True\n",
      "False\n",
      "True\n",
      "False\n",
      "False\n",
      "False\n",
      "False\n",
      "False\n",
      "True\n",
      "True\n"
     ]
    }
   ],
   "source": [
    "# Falsy & Truthy values\n",
    "print(True == True)\n",
    "print(False == True)\n",
    "print(1 == True)\n",
    "print(-1 == True)\n",
    "print(True == -1)\n",
    "print(0 == True)\n",
    "print(True == 0)\n",
    "print(2 == True)\n",
    "print(2 == True+True)\n",
    "print(2 == True or True)"
   ]
  },
  {
   "cell_type": "code",
   "execution_count": 155,
   "metadata": {},
   "outputs": [
    {
     "data": {
      "text/plain": [
       "True"
      ]
     },
     "execution_count": 155,
     "metadata": {},
     "output_type": "execute_result"
    }
   ],
   "source": [
    "True"
   ]
  },
  {
   "cell_type": "code",
   "execution_count": 149,
   "metadata": {},
   "outputs": [
    {
     "data": {
      "text/plain": [
       "1"
      ]
     },
     "execution_count": 149,
     "metadata": {},
     "output_type": "execute_result"
    }
   ],
   "source": [
    "int(True)"
   ]
  },
  {
   "cell_type": "code",
   "execution_count": 134,
   "metadata": {},
   "outputs": [
    {
     "name": "stdout",
     "output_type": "stream",
     "text": [
      "Hola\n"
     ]
    }
   ],
   "source": [
    "if 12341:\n",
    "    print(\"Hola\")"
   ]
  },
  {
   "cell_type": "code",
   "execution_count": 135,
   "metadata": {},
   "outputs": [
    {
     "name": "stdout",
     "output_type": "stream",
     "text": [
      "hola\n"
     ]
    }
   ],
   "source": [
    "if \"hola\":\n",
    "    print(\"hola\")"
   ]
  },
  {
   "cell_type": "code",
   "execution_count": 136,
   "metadata": {},
   "outputs": [],
   "source": [
    "if \"\":\n",
    "    print(\"hola\")"
   ]
  },
  {
   "cell_type": "code",
   "execution_count": 140,
   "metadata": {},
   "outputs": [
    {
     "name": "stdout",
     "output_type": "stream",
     "text": [
      "hola\n"
     ]
    }
   ],
   "source": [
    "if {\"key\":4}:\n",
    "    print(\"hola\")"
   ]
  },
  {
   "cell_type": "code",
   "execution_count": 142,
   "metadata": {},
   "outputs": [
    {
     "data": {
      "text/plain": [
       "False"
      ]
     },
     "execution_count": 142,
     "metadata": {},
     "output_type": "execute_result"
    }
   ],
   "source": [
    "bool({})"
   ]
  },
  {
   "cell_type": "code",
   "execution_count": null,
   "metadata": {
    "collapsed": true
   },
   "outputs": [],
   "source": []
  },
  {
   "cell_type": "markdown",
   "metadata": {},
   "source": [
    "# Comprehension lists and dicts"
   ]
  },
  {
   "cell_type": "code",
   "execution_count": 178,
   "metadata": {},
   "outputs": [
    {
     "data": {
      "text/plain": [
       "[{'name': 'Ritz', 'total': 9},\n",
       " {'name': 'Pension Loli', 'total': 15},\n",
       " {'name': 'NH Legazpi', 'total': 9}]"
      ]
     },
     "execution_count": 178,
     "metadata": {},
     "output_type": "execute_result"
    }
   ],
   "source": [
    "hoteles = [\n",
    "    {\"name\":\"Ritz\",\"stars\":5,\"tripadvisor\":[3,5,1]},\n",
    "    {\"name\":\"Pension Loli\",\"stars\":2,\"tripadvisor\":[5,5,5]},\n",
    "    {\"name\":\"NH Legazpi\",\"stars\":4,\"tripadvisor\":[4,4,1]}\n",
    "]\n",
    "\n",
    "# Comprehension list que devuelve un diccionario\n",
    "[{\"name\":h[\"name\"], \"total\":sum(h[\"tripadvisor\"])} for h in hoteles]"
   ]
  },
  {
   "cell_type": "code",
   "execution_count": 180,
   "metadata": {},
   "outputs": [
    {
     "data": {
      "text/plain": [
       "[{'name': 'Ritz', 'stars': 5, 'tripadvisor': [3, 5, 1]},\n",
       " {'name': 'NH Legazpi', 'stars': 4, 'tripadvisor': [4, 4, 1]}]"
      ]
     },
     "execution_count": 180,
     "metadata": {},
     "output_type": "execute_result"
    }
   ],
   "source": [
    "# Comprehension list qeue filtra hoteles de > 3 estrellas\n",
    "[h for h in hoteles if h[\"stars\"] > 3]"
   ]
  },
  {
   "cell_type": "markdown",
   "metadata": {},
   "source": [
    "# Dict Comprehensions"
   ]
  },
  {
   "cell_type": "code",
   "execution_count": 174,
   "metadata": {},
   "outputs": [
    {
     "data": {
      "text/plain": [
       "{'Ritz': 5, 'Pension Loli': 2, 'NH Legazpi': 10}"
      ]
     },
     "execution_count": 174,
     "metadata": {},
     "output_type": "execute_result"
    }
   ],
   "source": [
    "hoteles = [\n",
    "    {\"name\":\"Ritz\",\"stars\":5,\"tripadvisor\":[3,5,1]},\n",
    "    {\"name\":\"Pension Loli\",\"stars\":2,\"tripadvisor\":[5,5,5]},\n",
    "    {\"name\":\"NH Legazpi\",\"stars\":4},\n",
    "    {\"name\":\"NH Legazpi\",\"stars\":10,\"tripadvisor\":[4,4,1]}\n",
    "]\n",
    "\n",
    "{ h[\"name\"]:h[\"stars\"] for h in hoteles }"
   ]
  },
  {
   "cell_type": "code",
   "execution_count": 176,
   "metadata": {},
   "outputs": [
    {
     "data": {
      "text/plain": [
       "{'Ritz': 5, 'Pension Loli': 2, 'NH Legazpi': 4}"
      ]
     },
     "execution_count": 176,
     "metadata": {},
     "output_type": "execute_result"
    }
   ],
   "source": [
    "{ h[\"name\"]:h[\"stars\"] for h in [h for h in hoteles if h[\"stars\"] != 10] }"
   ]
  },
  {
   "cell_type": "markdown",
   "metadata": {},
   "source": [
    "# Error handling"
   ]
  },
  {
   "cell_type": "code",
   "execution_count": 184,
   "metadata": {},
   "outputs": [
    {
     "ename": "IndexError",
     "evalue": "list index out of range",
     "output_type": "error",
     "traceback": [
      "\u001b[0;31m---------------------------------------------------------------------------\u001b[0m",
      "\u001b[0;31mIndexError\u001b[0m                                Traceback (most recent call last)",
      "\u001b[0;32m<ipython-input-184-05a042b028b0>\u001b[0m in \u001b[0;36m<module>\u001b[0;34m\u001b[0m\n\u001b[1;32m      1\u001b[0m \u001b[0ma\u001b[0m \u001b[0;34m=\u001b[0m \u001b[0;34m[\u001b[0m\u001b[0;36m1\u001b[0m\u001b[0;34m,\u001b[0m\u001b[0;36m2\u001b[0m\u001b[0;34m,\u001b[0m\u001b[0;36m3\u001b[0m\u001b[0;34m,\u001b[0m\u001b[0;36m4\u001b[0m\u001b[0;34m]\u001b[0m\u001b[0;34m\u001b[0m\u001b[0;34m\u001b[0m\u001b[0m\n\u001b[0;32m----> 2\u001b[0;31m \u001b[0ma\u001b[0m\u001b[0;34m[\u001b[0m\u001b[0;36m10\u001b[0m\u001b[0;34m]\u001b[0m\u001b[0;34m\u001b[0m\u001b[0;34m\u001b[0m\u001b[0m\n\u001b[0m\u001b[1;32m      3\u001b[0m \u001b[0mprint\u001b[0m\u001b[0;34m(\u001b[0m\u001b[0;34m\"Hola\"\u001b[0m\u001b[0;34m)\u001b[0m \u001b[0;31m# este hola no sale nunca\u001b[0m\u001b[0;34m\u001b[0m\u001b[0;34m\u001b[0m\u001b[0m\n",
      "\u001b[0;31mIndexError\u001b[0m: list index out of range"
     ]
    }
   ],
   "source": [
    "a = [1,2,3,4]\n",
    "a[10]\n",
    "print(\"Hola\") # este hola no sale nunca"
   ]
  },
  {
   "cell_type": "code",
   "execution_count": 191,
   "metadata": {},
   "outputs": [
    {
     "name": "stdout",
     "output_type": "stream",
     "text": [
      "list index out of range <class 'IndexError'>\n",
      "hola\n"
     ]
    }
   ],
   "source": [
    "try:\n",
    "    a = [1,2,3,4]\n",
    "    a[10] ## esta linea produce un error\n",
    "    print(\"Hola\")\n",
    "    print(\"Hola\")\n",
    "    print(\"Hola\")\n",
    "except Exception as err:\n",
    "    print(err, type(err))\n",
    "    print(\"hola\")"
   ]
  },
  {
   "cell_type": "code",
   "execution_count": 202,
   "metadata": {},
   "outputs": [
    {
     "data": {
      "text/plain": [
       "'Hola Pepe'"
      ]
     },
     "execution_count": 202,
     "metadata": {},
     "output_type": "execute_result"
    }
   ],
   "source": [
    "def saluda(nombre):\n",
    "    return f\"Hola {nombre}\"\n",
    "\n",
    "saluda(\"Pepe\")"
   ]
  },
  {
   "cell_type": "code",
   "execution_count": 200,
   "metadata": {},
   "outputs": [
    {
     "data": {
      "text/plain": [
       "'Hola 33'"
      ]
     },
     "execution_count": 200,
     "metadata": {},
     "output_type": "execute_result"
    }
   ],
   "source": [
    "saluda(33)"
   ]
  },
  {
   "cell_type": "code",
   "execution_count": 203,
   "metadata": {},
   "outputs": [
    {
     "ename": "TypeError",
     "evalue": "can only concatenate str (not \"int\") to str",
     "output_type": "error",
     "traceback": [
      "\u001b[0;31m---------------------------------------------------------------------------\u001b[0m",
      "\u001b[0;31mTypeError\u001b[0m                                 Traceback (most recent call last)",
      "\u001b[0;32m<ipython-input-203-438ae567635e>\u001b[0m in \u001b[0;36m<module>\u001b[0;34m\u001b[0m\n\u001b[1;32m      2\u001b[0m     \u001b[0;32mreturn\u001b[0m \u001b[0;34m\"Hola \"\u001b[0m\u001b[0;34m+\u001b[0m \u001b[0mnombre\u001b[0m\u001b[0;34m\u001b[0m\u001b[0;34m\u001b[0m\u001b[0m\n\u001b[1;32m      3\u001b[0m \u001b[0;34m\u001b[0m\u001b[0m\n\u001b[0;32m----> 4\u001b[0;31m \u001b[0msaluda\u001b[0m\u001b[0;34m(\u001b[0m\u001b[0;36m33\u001b[0m\u001b[0;34m)\u001b[0m\u001b[0;34m\u001b[0m\u001b[0;34m\u001b[0m\u001b[0m\n\u001b[0m",
      "\u001b[0;32m<ipython-input-203-438ae567635e>\u001b[0m in \u001b[0;36msaluda\u001b[0;34m(nombre)\u001b[0m\n\u001b[1;32m      1\u001b[0m \u001b[0;32mdef\u001b[0m \u001b[0msaluda\u001b[0m\u001b[0;34m(\u001b[0m\u001b[0mnombre\u001b[0m\u001b[0;34m)\u001b[0m\u001b[0;34m:\u001b[0m\u001b[0;34m\u001b[0m\u001b[0;34m\u001b[0m\u001b[0m\n\u001b[0;32m----> 2\u001b[0;31m     \u001b[0;32mreturn\u001b[0m \u001b[0;34m\"Hola \"\u001b[0m\u001b[0;34m+\u001b[0m \u001b[0mnombre\u001b[0m\u001b[0;34m\u001b[0m\u001b[0;34m\u001b[0m\u001b[0m\n\u001b[0m\u001b[1;32m      3\u001b[0m \u001b[0;34m\u001b[0m\u001b[0m\n\u001b[1;32m      4\u001b[0m \u001b[0msaluda\u001b[0m\u001b[0;34m(\u001b[0m\u001b[0;36m33\u001b[0m\u001b[0;34m)\u001b[0m\u001b[0;34m\u001b[0m\u001b[0;34m\u001b[0m\u001b[0m\n",
      "\u001b[0;31mTypeError\u001b[0m: can only concatenate str (not \"int\") to str"
     ]
    }
   ],
   "source": [
    "def saluda(nombre):\n",
    "    return \"Hola \"+ nombre\n",
    "\n",
    "saluda(33)"
   ]
  },
  {
   "cell_type": "code",
   "execution_count": 212,
   "metadata": {},
   "outputs": [
    {
     "ename": "ValueError",
     "evalue": "You should pass a string as a name",
     "output_type": "error",
     "traceback": [
      "\u001b[0;31m---------------------------------------------------------------------------\u001b[0m",
      "\u001b[0;31mValueError\u001b[0m                                Traceback (most recent call last)",
      "\u001b[0;32m<ipython-input-212-ba04f3dc6139>\u001b[0m in \u001b[0;36m<module>\u001b[0;34m\u001b[0m\n\u001b[1;32m      4\u001b[0m     \u001b[0;32mreturn\u001b[0m \u001b[0;34m\"Hola \"\u001b[0m\u001b[0;34m+\u001b[0m \u001b[0mnombre\u001b[0m\u001b[0;34m\u001b[0m\u001b[0;34m\u001b[0m\u001b[0m\n\u001b[1;32m      5\u001b[0m \u001b[0;34m\u001b[0m\u001b[0m\n\u001b[0;32m----> 6\u001b[0;31m \u001b[0msaluda\u001b[0m\u001b[0;34m(\u001b[0m\u001b[0;36m33\u001b[0m\u001b[0;34m)\u001b[0m\u001b[0;34m\u001b[0m\u001b[0;34m\u001b[0m\u001b[0m\n\u001b[0m",
      "\u001b[0;32m<ipython-input-212-ba04f3dc6139>\u001b[0m in \u001b[0;36msaluda\u001b[0;34m(nombre)\u001b[0m\n\u001b[1;32m      1\u001b[0m \u001b[0;32mdef\u001b[0m \u001b[0msaluda\u001b[0m\u001b[0;34m(\u001b[0m\u001b[0mnombre\u001b[0m\u001b[0;34m)\u001b[0m\u001b[0;34m:\u001b[0m\u001b[0;34m\u001b[0m\u001b[0;34m\u001b[0m\u001b[0m\n\u001b[1;32m      2\u001b[0m     \u001b[0;32mif\u001b[0m \u001b[0mtype\u001b[0m\u001b[0;34m(\u001b[0m\u001b[0mnombre\u001b[0m\u001b[0;34m)\u001b[0m \u001b[0;34m!=\u001b[0m \u001b[0mstr\u001b[0m\u001b[0;34m:\u001b[0m\u001b[0;34m\u001b[0m\u001b[0;34m\u001b[0m\u001b[0m\n\u001b[0;32m----> 3\u001b[0;31m         \u001b[0;32mraise\u001b[0m \u001b[0mValueError\u001b[0m\u001b[0;34m(\u001b[0m\u001b[0;34m\"You should pass a string as a name\"\u001b[0m\u001b[0;34m)\u001b[0m\u001b[0;34m\u001b[0m\u001b[0;34m\u001b[0m\u001b[0m\n\u001b[0m\u001b[1;32m      4\u001b[0m     \u001b[0;32mreturn\u001b[0m \u001b[0;34m\"Hola \"\u001b[0m\u001b[0;34m+\u001b[0m \u001b[0mnombre\u001b[0m\u001b[0;34m\u001b[0m\u001b[0;34m\u001b[0m\u001b[0m\n\u001b[1;32m      5\u001b[0m \u001b[0;34m\u001b[0m\u001b[0m\n",
      "\u001b[0;31mValueError\u001b[0m: You should pass a string as a name"
     ]
    }
   ],
   "source": [
    "def saluda(nombre):\n",
    "    if type(nombre) != str:\n",
    "        raise ValueError(\"You should pass a string as a name\")\n",
    "    return \"Hola \"+ nombre\n",
    "\n",
    "saluda(33)"
   ]
  },
  {
   "cell_type": "code",
   "execution_count": 213,
   "metadata": {},
   "outputs": [
    {
     "data": {
      "text/plain": [
       "'Hola Pepe'"
      ]
     },
     "execution_count": 213,
     "metadata": {},
     "output_type": "execute_result"
    }
   ],
   "source": [
    "saluda(\"Pepe\")"
   ]
  },
  {
   "cell_type": "code",
   "execution_count": null,
   "metadata": {},
   "outputs": [],
   "source": []
  },
  {
   "cell_type": "code",
   "execution_count": 223,
   "metadata": {},
   "outputs": [
    {
     "name": "stdout",
     "output_type": "stream",
     "text": [
      "Dime tu nombrelaksjdhf\n",
      "Dime tu edadlaksjdhf\n",
      "Perdona, has metido un dato mal, vuelve a intentarlo\n",
      "Dime tu nombrelkajshfd\n",
      "Dime tu edadasdkfjh\n",
      "Perdona, has metido un dato mal, vuelve a intentarlo\n",
      "Dime tu nombreasdf\n",
      "Dime tu edadas\n",
      "Perdona, has metido un dato mal, vuelve a intentarlo\n",
      "Dime tu nombredf\n",
      "Dime tu edad\n",
      "Perdona, has metido un dato mal, vuelve a intentarlo\n",
      "Dime tu nombrea\n",
      "Dime tu edad\n",
      "Perdona, has metido un dato mal, vuelve a intentarlo\n",
      "Dime tu nombreasdfa\n",
      "Dime tu edaddf\n",
      "Perdona, has metido un dato mal, vuelve a intentarlo\n",
      "Dime tu nombreasdf\n",
      "Dime tu edad1\n",
      "Hola asdf dentro de 10 años tendras11\n"
     ]
    }
   ],
   "source": [
    "def saluda(nombre, edad):\n",
    "    if type(edad) != int:\n",
    "        raise ValueError(\"You should pass age as an int\")\n",
    "    if type(nombre) != str:\n",
    "        raise ValueError(\"You should pass a string as a name\")\n",
    "    return \"Hola \"+ nombre + \" dentro de 10 años tendras\" + str(edad+10)\n",
    "\n",
    "while True:\n",
    "    try:\n",
    "        name = input(\"Dime tu nombre\")\n",
    "        age = input(\"Dime tu edad\")\n",
    "        print(saluda(name,int(age)))\n",
    "        break\n",
    "    except:\n",
    "        print(\"Perdona, has metido un dato mal, vuelve a intentarlo\")\n",
    "\n",
    "        "
   ]
  },
  {
   "cell_type": "code",
   "execution_count": 10,
   "metadata": {},
   "outputs": [
    {
     "name": "stdout",
     "output_type": "stream",
     "text": [
      "ERRORR\n"
     ]
    }
   ],
   "source": [
    "try:\n",
    "    try:\n",
    "        int(\"asdf\")\n",
    "    except TypeError:\n",
    "        print(\"No es un numero\")\n",
    "        raise e\n",
    "except:\n",
    "    print(\"ERRORR\")"
   ]
  },
  {
   "cell_type": "code",
   "execution_count": null,
   "metadata": {},
   "outputs": [],
   "source": []
  },
  {
   "cell_type": "code",
   "execution_count": null,
   "metadata": {},
   "outputs": [],
   "source": []
  },
  {
   "cell_type": "code",
   "execution_count": null,
   "metadata": {},
   "outputs": [],
   "source": []
  }
 ],
 "metadata": {
  "kernelspec": {
   "display_name": "Python 3",
   "language": "python",
   "name": "python3"
  },
  "language_info": {
   "codemirror_mode": {
    "name": "ipython",
    "version": 3
   },
   "file_extension": ".py",
   "mimetype": "text/x-python",
   "name": "python",
   "nbconvert_exporter": "python",
   "pygments_lexer": "ipython3",
   "version": "3.7.5"
  }
 },
 "nbformat": 4,
 "nbformat_minor": 2
}
