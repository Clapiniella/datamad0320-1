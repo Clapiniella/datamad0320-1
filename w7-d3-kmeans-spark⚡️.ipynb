{
 "cells": [
  {
   "cell_type": "code",
   "execution_count": 15,
   "metadata": {},
   "outputs": [
    {
     "name": "stdout",
     "output_type": "stream",
     "text": [
      "(9531, 13)\n"
     ]
    },
    {
     "data": {
      "text/html": [
       "<div>\n",
       "<style scoped>\n",
       "    .dataframe tbody tr th:only-of-type {\n",
       "        vertical-align: middle;\n",
       "    }\n",
       "\n",
       "    .dataframe tbody tr th {\n",
       "        vertical-align: top;\n",
       "    }\n",
       "\n",
       "    .dataframe thead th {\n",
       "        text-align: right;\n",
       "    }\n",
       "</style>\n",
       "<table border=\"1\" class=\"dataframe\">\n",
       "  <thead>\n",
       "    <tr style=\"text-align: right;\">\n",
       "      <th></th>\n",
       "      <th>Transaction</th>\n",
       "      <th>OTHERS</th>\n",
       "      <th>beverage</th>\n",
       "      <th>bread</th>\n",
       "      <th>breakfast</th>\n",
       "      <th>breakfast_pastry</th>\n",
       "      <th>condiments</th>\n",
       "      <th>dessert</th>\n",
       "      <th>kids</th>\n",
       "      <th>lunch</th>\n",
       "      <th>snacks</th>\n",
       "      <th>hour</th>\n",
       "      <th>day</th>\n",
       "    </tr>\n",
       "  </thead>\n",
       "  <tbody>\n",
       "    <tr>\n",
       "      <th>0</th>\n",
       "      <td>1</td>\n",
       "      <td>0</td>\n",
       "      <td>0</td>\n",
       "      <td>1</td>\n",
       "      <td>0</td>\n",
       "      <td>0</td>\n",
       "      <td>0</td>\n",
       "      <td>0</td>\n",
       "      <td>0</td>\n",
       "      <td>0</td>\n",
       "      <td>0</td>\n",
       "      <td>9</td>\n",
       "      <td>6</td>\n",
       "    </tr>\n",
       "    <tr>\n",
       "      <th>1</th>\n",
       "      <td>2</td>\n",
       "      <td>0</td>\n",
       "      <td>0</td>\n",
       "      <td>2</td>\n",
       "      <td>0</td>\n",
       "      <td>0</td>\n",
       "      <td>0</td>\n",
       "      <td>0</td>\n",
       "      <td>0</td>\n",
       "      <td>0</td>\n",
       "      <td>0</td>\n",
       "      <td>10</td>\n",
       "      <td>6</td>\n",
       "    </tr>\n",
       "    <tr>\n",
       "      <th>2</th>\n",
       "      <td>3</td>\n",
       "      <td>0</td>\n",
       "      <td>1</td>\n",
       "      <td>0</td>\n",
       "      <td>0</td>\n",
       "      <td>0</td>\n",
       "      <td>1</td>\n",
       "      <td>1</td>\n",
       "      <td>0</td>\n",
       "      <td>0</td>\n",
       "      <td>0</td>\n",
       "      <td>10</td>\n",
       "      <td>6</td>\n",
       "    </tr>\n",
       "    <tr>\n",
       "      <th>3</th>\n",
       "      <td>4</td>\n",
       "      <td>0</td>\n",
       "      <td>0</td>\n",
       "      <td>0</td>\n",
       "      <td>0</td>\n",
       "      <td>1</td>\n",
       "      <td>0</td>\n",
       "      <td>0</td>\n",
       "      <td>0</td>\n",
       "      <td>0</td>\n",
       "      <td>0</td>\n",
       "      <td>10</td>\n",
       "      <td>6</td>\n",
       "    </tr>\n",
       "    <tr>\n",
       "      <th>4</th>\n",
       "      <td>5</td>\n",
       "      <td>0</td>\n",
       "      <td>1</td>\n",
       "      <td>1</td>\n",
       "      <td>0</td>\n",
       "      <td>1</td>\n",
       "      <td>0</td>\n",
       "      <td>0</td>\n",
       "      <td>0</td>\n",
       "      <td>0</td>\n",
       "      <td>0</td>\n",
       "      <td>10</td>\n",
       "      <td>6</td>\n",
       "    </tr>\n",
       "  </tbody>\n",
       "</table>\n",
       "</div>"
      ],
      "text/plain": [
       "   Transaction  OTHERS  beverage  bread  breakfast  breakfast_pastry  \\\n",
       "0            1       0         0      1          0                 0   \n",
       "1            2       0         0      2          0                 0   \n",
       "2            3       0         1      0          0                 0   \n",
       "3            4       0         0      0          0                 1   \n",
       "4            5       0         1      1          0                 1   \n",
       "\n",
       "   condiments  dessert  kids  lunch  snacks  hour  day  \n",
       "0           0        0     0      0       0     9    6  \n",
       "1           0        0     0      0       0    10    6  \n",
       "2           1        1     0      0       0    10    6  \n",
       "3           0        0     0      0       0    10    6  \n",
       "4           0        0     0      0       0    10    6  "
      ]
     },
     "execution_count": 15,
     "metadata": {},
     "output_type": "execute_result"
    }
   ],
   "source": [
    "import pandas as pd\n",
    "\n",
    "X = pd.read_csv('data/breadbasket_features.csv')\n",
    "print(X.shape)\n",
    "X.head()"
   ]
  },
  {
   "cell_type": "code",
   "execution_count": 2,
   "metadata": {},
   "outputs": [],
   "source": [
    "# Prepare a SparkContext\n",
    "from pyspark import SparkContext\n",
    "sc = SparkContext.getOrCreate()"
   ]
  },
  {
   "cell_type": "code",
   "execution_count": 3,
   "metadata": {},
   "outputs": [],
   "source": [
    "from pyspark.ml.feature import VectorAssembler\n",
    "from pyspark.sql.types import IntegerType\n",
    "from pyspark.sql import SparkSession\n",
    "\n",
    "spark = SparkSession(sc)\n",
    "XX = spark.createDataFrame(X)"
   ]
  },
  {
   "cell_type": "code",
   "execution_count": 6,
   "metadata": {},
   "outputs": [
    {
     "name": "stdout",
     "output_type": "stream",
     "text": [
      "+-----------+------+--------+-----+---------+----------------+----------+-------+----+-----+------+----+---+\n",
      "|Transaction|OTHERS|beverage|bread|breakfast|breakfast_pastry|condiments|dessert|kids|lunch|snacks|hour|day|\n",
      "+-----------+------+--------+-----+---------+----------------+----------+-------+----+-----+------+----+---+\n",
      "|          1|     0|       0|    1|        0|               0|         0|      0|   0|    0|     0|   9|  6|\n",
      "|          2|     0|       0|    2|        0|               0|         0|      0|   0|    0|     0|  10|  6|\n",
      "|          3|     0|       1|    0|        0|               0|         1|      1|   0|    0|     0|  10|  6|\n",
      "+-----------+------+--------+-----+---------+----------------+----------+-------+----+-----+------+----+---+\n",
      "only showing top 3 rows\n",
      "\n"
     ]
    }
   ],
   "source": [
    "XX.show(3)"
   ]
  },
  {
   "cell_type": "code",
   "execution_count": 9,
   "metadata": {},
   "outputs": [],
   "source": [
    "XX_df = VectorAssembler(inputCols=XX.columns, outputCol=\"Features\").transform(XX)"
   ]
  },
  {
   "cell_type": "code",
   "execution_count": 11,
   "metadata": {},
   "outputs": [
    {
     "name": "stdout",
     "output_type": "stream",
     "text": [
      "+-----------+------+--------+-----+---------+----------------+----------+-------+----+-----+------+----+---+--------------------+\n",
      "|Transaction|OTHERS|beverage|bread|breakfast|breakfast_pastry|condiments|dessert|kids|lunch|snacks|hour|day|            Features|\n",
      "+-----------+------+--------+-----+---------+----------------+----------+-------+----+-----+------+----+---+--------------------+\n",
      "|          1|     0|       0|    1|        0|               0|         0|      0|   0|    0|     0|   9|  6|(13,[0,3,11,12],[...|\n",
      "|          2|     0|       0|    2|        0|               0|         0|      0|   0|    0|     0|  10|  6|(13,[0,3,11,12],[...|\n",
      "|          3|     0|       1|    0|        0|               0|         1|      1|   0|    0|     0|  10|  6|(13,[0,2,6,7,11,1...|\n",
      "+-----------+------+--------+-----+---------+----------------+----------+-------+----+-----+------+----+---+--------------------+\n",
      "only showing top 3 rows\n",
      "\n"
     ]
    }
   ],
   "source": [
    "XX_df.show(3)"
   ]
  },
  {
   "cell_type": "code",
   "execution_count": 12,
   "metadata": {},
   "outputs": [],
   "source": [
    "X_data = XX_df.select('Features')\n"
   ]
  },
  {
   "cell_type": "code",
   "execution_count": 14,
   "metadata": {},
   "outputs": [
    {
     "data": {
      "text/plain": [
       "[Row(Features=SparseVector(13, {0: 1.0, 3: 1.0, 11: 9.0, 12: 6.0})),\n",
       " Row(Features=SparseVector(13, {0: 2.0, 3: 2.0, 11: 10.0, 12: 6.0})),\n",
       " Row(Features=SparseVector(13, {0: 3.0, 2: 1.0, 6: 1.0, 7: 1.0, 11: 10.0, 12: 6.0}))]"
      ]
     },
     "execution_count": 14,
     "metadata": {},
     "output_type": "execute_result"
    }
   ],
   "source": [
    "X_data.head(3)"
   ]
  },
  {
   "cell_type": "code",
   "execution_count": 17,
   "metadata": {},
   "outputs": [],
   "source": [
    "from pyspark.mllib.clustering import KMeans\n",
    "\n",
    "# Prepare data\n",
    "data = X_data.rdd.map(lambda x: x[0].toArray()) \n",
    "\n",
    "# Train the clusters\n",
    "num_clusters = 7\n",
    "clusters = KMeans.train(data, num_clusters, maxIterations=15, initializationMode=\"random\")\n"
   ]
  },
  {
   "cell_type": "code",
   "execution_count": 21,
   "metadata": {},
   "outputs": [
    {
     "data": {
      "text/html": [
       "<div>\n",
       "<style scoped>\n",
       "    .dataframe tbody tr th:only-of-type {\n",
       "        vertical-align: middle;\n",
       "    }\n",
       "\n",
       "    .dataframe tbody tr th {\n",
       "        vertical-align: top;\n",
       "    }\n",
       "\n",
       "    .dataframe thead th {\n",
       "        text-align: right;\n",
       "    }\n",
       "</style>\n",
       "<table border=\"1\" class=\"dataframe\">\n",
       "  <thead>\n",
       "    <tr style=\"text-align: right;\">\n",
       "      <th></th>\n",
       "      <th>index</th>\n",
       "      <th>Transaction</th>\n",
       "      <th>OTHERS</th>\n",
       "      <th>beverage</th>\n",
       "      <th>bread</th>\n",
       "      <th>breakfast</th>\n",
       "      <th>breakfast_pastry</th>\n",
       "      <th>condiments</th>\n",
       "      <th>dessert</th>\n",
       "      <th>kids</th>\n",
       "      <th>lunch</th>\n",
       "      <th>snacks</th>\n",
       "      <th>hour</th>\n",
       "      <th>day</th>\n",
       "      <th>label_spark</th>\n",
       "    </tr>\n",
       "  </thead>\n",
       "  <tbody>\n",
       "    <tr>\n",
       "      <th>0</th>\n",
       "      <td>0</td>\n",
       "      <td>1</td>\n",
       "      <td>0</td>\n",
       "      <td>0</td>\n",
       "      <td>1</td>\n",
       "      <td>0</td>\n",
       "      <td>0</td>\n",
       "      <td>0</td>\n",
       "      <td>0</td>\n",
       "      <td>0</td>\n",
       "      <td>0</td>\n",
       "      <td>0</td>\n",
       "      <td>9</td>\n",
       "      <td>6</td>\n",
       "      <td>1</td>\n",
       "    </tr>\n",
       "    <tr>\n",
       "      <th>1</th>\n",
       "      <td>1</td>\n",
       "      <td>2</td>\n",
       "      <td>0</td>\n",
       "      <td>0</td>\n",
       "      <td>2</td>\n",
       "      <td>0</td>\n",
       "      <td>0</td>\n",
       "      <td>0</td>\n",
       "      <td>0</td>\n",
       "      <td>0</td>\n",
       "      <td>0</td>\n",
       "      <td>0</td>\n",
       "      <td>10</td>\n",
       "      <td>6</td>\n",
       "      <td>1</td>\n",
       "    </tr>\n",
       "    <tr>\n",
       "      <th>2</th>\n",
       "      <td>2</td>\n",
       "      <td>3</td>\n",
       "      <td>0</td>\n",
       "      <td>1</td>\n",
       "      <td>0</td>\n",
       "      <td>0</td>\n",
       "      <td>0</td>\n",
       "      <td>1</td>\n",
       "      <td>1</td>\n",
       "      <td>0</td>\n",
       "      <td>0</td>\n",
       "      <td>0</td>\n",
       "      <td>10</td>\n",
       "      <td>6</td>\n",
       "      <td>1</td>\n",
       "    </tr>\n",
       "    <tr>\n",
       "      <th>3</th>\n",
       "      <td>3</td>\n",
       "      <td>4</td>\n",
       "      <td>0</td>\n",
       "      <td>0</td>\n",
       "      <td>0</td>\n",
       "      <td>0</td>\n",
       "      <td>1</td>\n",
       "      <td>0</td>\n",
       "      <td>0</td>\n",
       "      <td>0</td>\n",
       "      <td>0</td>\n",
       "      <td>0</td>\n",
       "      <td>10</td>\n",
       "      <td>6</td>\n",
       "      <td>1</td>\n",
       "    </tr>\n",
       "    <tr>\n",
       "      <th>4</th>\n",
       "      <td>4</td>\n",
       "      <td>5</td>\n",
       "      <td>0</td>\n",
       "      <td>1</td>\n",
       "      <td>1</td>\n",
       "      <td>0</td>\n",
       "      <td>1</td>\n",
       "      <td>0</td>\n",
       "      <td>0</td>\n",
       "      <td>0</td>\n",
       "      <td>0</td>\n",
       "      <td>0</td>\n",
       "      <td>10</td>\n",
       "      <td>6</td>\n",
       "      <td>1</td>\n",
       "    </tr>\n",
       "  </tbody>\n",
       "</table>\n",
       "</div>"
      ],
      "text/plain": [
       "   index  Transaction  OTHERS  beverage  bread  breakfast  breakfast_pastry  \\\n",
       "0      0            1       0         0      1          0                 0   \n",
       "1      1            2       0         0      2          0                 0   \n",
       "2      2            3       0         1      0          0                 0   \n",
       "3      3            4       0         0      0          0                 1   \n",
       "4      4            5       0         1      1          0                 1   \n",
       "\n",
       "   condiments  dessert  kids  lunch  snacks  hour  day  label_spark  \n",
       "0           0        0     0      0       0     9    6            1  \n",
       "1           0        0     0      0       0    10    6            1  \n",
       "2           1        1     0      0       0    10    6            1  \n",
       "3           0        0     0      0       0    10    6            1  \n",
       "4           0        0     0      0       0    10    6            1  "
      ]
     },
     "execution_count": 21,
     "metadata": {},
     "output_type": "execute_result"
    }
   ],
   "source": [
    "labeled_spark = X.reset_index()\n",
    "labeled_spark[\"label_spark\"] = clusters.predict(data).collect()\n",
    "\n",
    "labeled_spark.head()"
   ]
  },
  {
   "cell_type": "code",
   "execution_count": 22,
   "metadata": {},
   "outputs": [
    {
     "data": {
      "text/plain": [
       "5    1576\n",
       "4    1526\n",
       "6    1413\n",
       "0    1319\n",
       "3    1255\n",
       "2    1224\n",
       "1    1218\n",
       "Name: label_spark, dtype: int64"
      ]
     },
     "execution_count": 22,
     "metadata": {},
     "output_type": "execute_result"
    }
   ],
   "source": [
    "labeled_spark[\"label_spark\"].value_counts()"
   ]
  },
  {
   "cell_type": "code",
   "execution_count": null,
   "metadata": {},
   "outputs": [],
   "source": []
  }
 ],
 "metadata": {
  "kernelspec": {
   "display_name": "Python 3",
   "language": "python",
   "name": "python3"
  },
  "language_info": {
   "codemirror_mode": {
    "name": "ipython",
    "version": 3
   },
   "file_extension": ".py",
   "mimetype": "text/x-python",
   "name": "python",
   "nbconvert_exporter": "python",
   "pygments_lexer": "ipython3",
   "version": "3.7.5"
  }
 },
 "nbformat": 4,
 "nbformat_minor": 2
}
