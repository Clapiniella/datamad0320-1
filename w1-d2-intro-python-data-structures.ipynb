{
 "cells": [
  {
   "cell_type": "code",
   "execution_count": 6,
   "metadata": {},
   "outputs": [],
   "source": [
    "a = \"Pepe\""
   ]
  },
  {
   "cell_type": "code",
   "execution_count": 12,
   "metadata": {},
   "outputs": [
    {
     "name": "stdout",
     "output_type": "stream",
     "text": [
      "Pepe3\n"
     ]
    }
   ],
   "source": [
    "# type casting\n",
    "print(a+str(3))"
   ]
  },
  {
   "cell_type": "code",
   "execution_count": 15,
   "metadata": {},
   "outputs": [
    {
     "data": {
      "text/plain": [
       "223"
      ]
     },
     "execution_count": 15,
     "metadata": {},
     "output_type": "execute_result"
    }
   ],
   "source": [
    "int(\"222\")+1"
   ]
  },
  {
   "cell_type": "code",
   "execution_count": 17,
   "metadata": {},
   "outputs": [
    {
     "ename": "ValueError",
     "evalue": "invalid literal for int() with base 10: 'Hola'",
     "output_type": "error",
     "traceback": [
      "\u001b[0;31m---------------------------------------------------------------------------\u001b[0m",
      "\u001b[0;31mValueError\u001b[0m                                Traceback (most recent call last)",
      "\u001b[0;32m<ipython-input-17-515abadcd0df>\u001b[0m in \u001b[0;36m<module>\u001b[0;34m\u001b[0m\n\u001b[1;32m      1\u001b[0m \u001b[0mx\u001b[0m \u001b[0;34m=\u001b[0m \u001b[0;34m\"Hola\"\u001b[0m\u001b[0;34m\u001b[0m\u001b[0;34m\u001b[0m\u001b[0m\n\u001b[0;32m----> 2\u001b[0;31m \u001b[0mint\u001b[0m\u001b[0;34m(\u001b[0m\u001b[0mx\u001b[0m\u001b[0;34m)\u001b[0m\u001b[0;34m\u001b[0m\u001b[0;34m\u001b[0m\u001b[0m\n\u001b[0m",
      "\u001b[0;31mValueError\u001b[0m: invalid literal for int() with base 10: 'Hola'"
     ]
    }
   ],
   "source": [
    "x = \"Hola\"\n",
    "int(x)"
   ]
  },
  {
   "cell_type": "code",
   "execution_count": 18,
   "metadata": {},
   "outputs": [
    {
     "data": {
      "text/plain": [
       "str"
      ]
     },
     "execution_count": 18,
     "metadata": {},
     "output_type": "execute_result"
    }
   ],
   "source": [
    "type(x)"
   ]
  },
  {
   "cell_type": "code",
   "execution_count": 27,
   "metadata": {},
   "outputs": [
    {
     "name": "stdout",
     "output_type": "stream",
     "text": [
      "<class 'float'>\n",
      "<class 'bool'>\n",
      "<class 'int'>\n",
      "<class 'str'>\n"
     ]
    }
   ],
   "source": [
    "# Floats\n",
    "x = 2.44\n",
    "print(type(x))\n",
    "\n",
    "# Boolean\n",
    "x = False\n",
    "print(type(x))\n",
    "\n",
    "# Int\n",
    "x = 5\n",
    "print(type(x))\n",
    "\n",
    "# String\n",
    "x = \"Hola\"\n",
    "print(type(x))\n",
    "\n"
   ]
  },
  {
   "cell_type": "markdown",
   "metadata": {},
   "source": [
    "# Tuple"
   ]
  },
  {
   "cell_type": "code",
   "execution_count": 37,
   "metadata": {},
   "outputs": [
    {
     "name": "stdout",
     "output_type": "stream",
     "text": [
      "<class 'tuple'>\n",
      "1\n",
      "3\n",
      "('Pepe', 54, True)\n"
     ]
    },
    {
     "ename": "AttributeError",
     "evalue": "'tuple' object has no attribute 'append'",
     "output_type": "error",
     "traceback": [
      "\u001b[0;31m---------------------------------------------------------------------------\u001b[0m",
      "\u001b[0;31mAttributeError\u001b[0m                            Traceback (most recent call last)",
      "\u001b[0;32m<ipython-input-37-e9566ca431d5>\u001b[0m in \u001b[0;36m<module>\u001b[0;34m\u001b[0m\n\u001b[1;32m      7\u001b[0m \u001b[0mx\u001b[0m \u001b[0;34m=\u001b[0m \u001b[0;34m(\u001b[0m\u001b[0;34m\"Pepe\"\u001b[0m\u001b[0;34m,\u001b[0m\u001b[0;36m54\u001b[0m\u001b[0;34m,\u001b[0m\u001b[0;32mTrue\u001b[0m\u001b[0;34m)\u001b[0m\u001b[0;34m\u001b[0m\u001b[0;34m\u001b[0m\u001b[0m\n\u001b[1;32m      8\u001b[0m \u001b[0mprint\u001b[0m\u001b[0;34m(\u001b[0m\u001b[0mx\u001b[0m\u001b[0;34m)\u001b[0m\u001b[0;34m\u001b[0m\u001b[0;34m\u001b[0m\u001b[0m\n\u001b[0;32m----> 9\u001b[0;31m \u001b[0mx\u001b[0m\u001b[0;34m.\u001b[0m\u001b[0mappend\u001b[0m\u001b[0;34m(\u001b[0m\u001b[0;34m\"JUAN\"\u001b[0m\u001b[0;34m)\u001b[0m\u001b[0;34m\u001b[0m\u001b[0;34m\u001b[0m\u001b[0m\n\u001b[0m",
      "\u001b[0;31mAttributeError\u001b[0m: 'tuple' object has no attribute 'append'"
     ]
    }
   ],
   "source": [
    "x = (1,2,3)\n",
    "print(type(x))\n",
    "print(x[0]) # Index 0\n",
    "print(len(x))\n",
    "\n",
    "x = (\"Pepe\",54,True)\n",
    "print(x)\n",
    "\n",
    "# x.append(\"JUAN\") # En las tuplas no se puede hacer un append"
   ]
  },
  {
   "cell_type": "markdown",
   "metadata": {},
   "source": [
    "# Lists"
   ]
  },
  {
   "cell_type": "code",
   "execution_count": 36,
   "metadata": {},
   "outputs": [
    {
     "name": "stdout",
     "output_type": "stream",
     "text": [
      "<class 'list'>\n",
      "1\n",
      "3\n",
      "['Pepe', 54, False]\n",
      "['Pepe', 54, False, 'Juan']\n"
     ]
    },
    {
     "data": {
      "text/plain": [
       "4"
      ]
     },
     "execution_count": 36,
     "metadata": {},
     "output_type": "execute_result"
    }
   ],
   "source": [
    "x = [1,2,3]\n",
    "print(type(x))\n",
    "print(x[0])\n",
    "print(len(x))\n",
    "\n",
    "x = [\"Pepe\",54,False]\n",
    "print(x)\n",
    "x.append(\"Juan\")\n",
    "print(x)\n",
    "len(x)"
   ]
  },
  {
   "cell_type": "code",
   "execution_count": 38,
   "metadata": {},
   "outputs": [
    {
     "name": "stdout",
     "output_type": "stream",
     "text": [
      "[1, 2, 3]\n"
     ]
    }
   ],
   "source": [
    "z = []\n",
    "z.append(1)\n",
    "z.append(2)\n",
    "z.append(3)\n",
    "\n",
    "print(z)\n",
    "\n"
   ]
  },
  {
   "cell_type": "code",
   "execution_count": 54,
   "metadata": {},
   "outputs": [
    {
     "name": "stdout",
     "output_type": "stream",
     "text": [
      "\"Hola\"\n",
      "\"Hola\"\n"
     ]
    }
   ],
   "source": [
    "print(\"\\\"Hola\\\"\")\n",
    "print('\"Hola\"')"
   ]
  },
  {
   "cell_type": "code",
   "execution_count": 46,
   "metadata": {},
   "outputs": [
    {
     "name": "stdout",
     "output_type": "stream",
     "text": [
      "[1, 2, 3, 4, 5, 6]\n",
      "['Hola', 'Hola', 'Hola', 'Hola', 'Hola']\n",
      "Hola-Hola-Hola-Hola-Hola <class 'str'>\n"
     ]
    },
    {
     "ename": "TypeError",
     "evalue": "sequence item 0: expected str instance, int found",
     "output_type": "error",
     "traceback": [
      "\u001b[0;31m---------------------------------------------------------------------------\u001b[0m",
      "\u001b[0;31mTypeError\u001b[0m                                 Traceback (most recent call last)",
      "\u001b[0;32m<ipython-input-46-5f272956ca0e>\u001b[0m in \u001b[0;36m<module>\u001b[0;34m\u001b[0m\n\u001b[1;32m     10\u001b[0m \u001b[0;34m\u001b[0m\u001b[0m\n\u001b[1;32m     11\u001b[0m \u001b[0ma\u001b[0m \u001b[0;34m=\u001b[0m \u001b[0;34m[\u001b[0m\u001b[0;36m1\u001b[0m\u001b[0;34m,\u001b[0m\u001b[0;36m2\u001b[0m\u001b[0;34m,\u001b[0m\u001b[0;36m3\u001b[0m\u001b[0;34m,\u001b[0m\u001b[0;36m4\u001b[0m\u001b[0;34m]\u001b[0m\u001b[0;34m\u001b[0m\u001b[0;34m\u001b[0m\u001b[0m\n\u001b[0;32m---> 12\u001b[0;31m \u001b[0;34m\"-\"\u001b[0m\u001b[0;34m.\u001b[0m\u001b[0mjoin\u001b[0m\u001b[0;34m(\u001b[0m\u001b[0ma\u001b[0m\u001b[0;34m)\u001b[0m\u001b[0;34m\u001b[0m\u001b[0;34m\u001b[0m\u001b[0m\n\u001b[0m",
      "\u001b[0;31mTypeError\u001b[0m: sequence item 0: expected str instance, int found"
     ]
    }
   ],
   "source": [
    "a = [1,2,3]\n",
    "b = [4,5,6]\n",
    "print(a+b)\n",
    "\n",
    "m = [\"Hola\"]\n",
    "print(m*5)\n",
    "\n",
    "s = \"-\".join([\"Hola\"]*5) # JOIN convierte una lista en un string\n",
    "print(s, type(s))\n",
    "\n",
    "a = [1,2,3,4]\n",
    "\"-\".join(a)"
   ]
  },
  {
   "cell_type": "code",
   "execution_count": 68,
   "metadata": {},
   "outputs": [
    {
     "name": "stdout",
     "output_type": "stream",
     "text": [
      "Hola 1\n",
      "Hola 2\n",
      "Hola 3\n",
      "Hola 4\n",
      "[1, 2, 3, 4] ['1', '2', '3', '4']\n"
     ]
    },
    {
     "data": {
      "text/plain": [
       "'1-2-3-4'"
      ]
     },
     "execution_count": 68,
     "metadata": {},
     "output_type": "execute_result"
    }
   ],
   "source": [
    "a = [1,2,3,4]\n",
    "b = []\n",
    "\n",
    "for e in a:\n",
    "    print(\"Hola \"+ str(e))\n",
    "    b.append(str(e))\n",
    "\n",
    "print(a,b)\n",
    "\"-\".join(b)\n",
    "\n",
    "# \"-\".join(str(a)) <- QUIZ: Que esta pasando????"
   ]
  },
  {
   "cell_type": "code",
   "execution_count": 75,
   "metadata": {},
   "outputs": [
    {
     "name": "stdout",
     "output_type": "stream",
     "text": [
      "Pepe Garcia\n",
      "Juan Carlos\n"
     ]
    }
   ],
   "source": [
    "nombres = [\"Pepe\",\"Juan\"]\n",
    "apellidos = [\"Garcia\",\"Carlos\"]\n",
    "\n",
    "for i in range(len(nombres)):\n",
    "    print(nombres[i] + \" \" + apellidos[i])"
   ]
  },
  {
   "cell_type": "code",
   "execution_count": 131,
   "metadata": {},
   "outputs": [
    {
     "name": "stdout",
     "output_type": "stream",
     "text": [
      "[[0, 'Luis'], [1, 'Marta'], [2, 'Paco'], [3, 'Ana'], [4, 'David']]\n"
     ]
    },
    {
     "data": {
      "text/plain": [
       "'Paco'"
      ]
     },
     "execution_count": 131,
     "metadata": {},
     "output_type": "execute_result"
    }
   ],
   "source": [
    "a = list(range(5))\n",
    "b = [\"Luis\",\"Marta\",\"Paco\",\"Ana\",\"David\"]\n",
    "c = []\n",
    "\n",
    "for e in a:\n",
    "    c.append([e,b[e]])\n",
    "\n",
    "print(c)\n",
    "c[2][1]"
   ]
  },
  {
   "cell_type": "code",
   "execution_count": 140,
   "metadata": {},
   "outputs": [
    {
     "name": "stdout",
     "output_type": "stream",
     "text": [
      "[['Juan', 30], ['Pepe', 40], ['Ana', 30], ['Marta', 30]]\n",
      "Juan 30\n",
      "Pepe 40\n",
      "Ana 30\n",
      "Marta 30\n"
     ]
    }
   ],
   "source": [
    "a = [\n",
    "    [\"Juan\",30],\n",
    "    [\"Pepe\",40],\n",
    "    [\"Ana\",30],\n",
    "    [\"Marta\",30]\n",
    "]\n",
    "\n",
    "print(a)\n",
    "for nombre,edad in a: #unpack\n",
    "    print(nombre, edad)"
   ]
  },
  {
   "cell_type": "code",
   "execution_count": 196,
   "metadata": {},
   "outputs": [
    {
     "name": "stdout",
     "output_type": "stream",
     "text": [
      "[0, 1, 2, 3, 4, 5, 6, 7, 8, 9, 10, 11, 12, 13, 14, 15, 16, 17, 18, 19]\n",
      "19 18\n"
     ]
    }
   ],
   "source": [
    "a = list(range(20))\n",
    "print(a)\n",
    "print(a[-1],a[-2])"
   ]
  },
  {
   "cell_type": "code",
   "execution_count": 198,
   "metadata": {},
   "outputs": [
    {
     "name": "stdout",
     "output_type": "stream",
     "text": [
      "0 Pepe\n",
      "1 Ana\n",
      "2 Carlos\n"
     ]
    }
   ],
   "source": [
    "nombres = [\"Pepe\",\"Ana\",\"Carlos\"]\n",
    "for i in range(len(nombres)):\n",
    "    print(i, nombres[i])"
   ]
  },
  {
   "cell_type": "code",
   "execution_count": 202,
   "metadata": {},
   "outputs": [
    {
     "name": "stdout",
     "output_type": "stream",
     "text": [
      "0 Pepe\n",
      "1 Ana\n",
      "2 Carlos\n",
      "3 Juan\n"
     ]
    }
   ],
   "source": [
    "nombres = [\"Pepe\",\"Ana\",\"Carlos\",\"Juan\"]\n",
    "for i,e in enumerate(nombres):\n",
    "    print(i,e)"
   ]
  },
  {
   "cell_type": "code",
   "execution_count": 203,
   "metadata": {},
   "outputs": [
    {
     "name": "stdout",
     "output_type": "stream",
     "text": [
      "Pepe Garcia\n",
      "Ana Perez\n",
      "Carlos Vives\n",
      "Juan Cuesta\n"
     ]
    }
   ],
   "source": [
    "nombres = [\"Pepe\",\"Ana\",\"Carlos\",\"Juan\"]\n",
    "apellidos = [\"Garcia\",\"Perez\",\"Vives\",\"Cuesta\"]\n",
    "\n",
    "for i,e in enumerate(nombres):\n",
    "    print(e, apellidos[i])"
   ]
  },
  {
   "cell_type": "code",
   "execution_count": 205,
   "metadata": {},
   "outputs": [
    {
     "data": {
      "text/plain": [
       "[(0, 'Garcia'), (1, 'Perez'), (2, 'Vives'), (3, 'Cuesta')]"
      ]
     },
     "execution_count": 205,
     "metadata": {},
     "output_type": "execute_result"
    }
   ],
   "source": [
    "apellidos = [\"Garcia\",\"Perez\",\"Vives\",\"Cuesta\"]\n",
    "list(enumerate(apellidos))"
   ]
  },
  {
   "cell_type": "code",
   "execution_count": 215,
   "metadata": {},
   "outputs": [
    {
     "name": "stdout",
     "output_type": "stream",
     "text": [
      "Pepe Garcia\n",
      "Ana Perez\n",
      "Carlos Vives\n",
      "Juan Cuesta\n"
     ]
    }
   ],
   "source": [
    "nombres = [\"Pepe\",\"Ana\",\"Carlos\",\"Juan\",\"Marta\",\"Maria\"]\n",
    "apellidos = [\"Garcia\",\"Perez\",\"Vives\",\"Cuesta\"]\n",
    "#print(list(zip(nombres, apellidos)))\n",
    "\n",
    "for nombre, apellido in zip(nombres,apellidos):\n",
    "    print(nombre, apellido)"
   ]
  },
  {
   "cell_type": "code",
   "execution_count": 217,
   "metadata": {},
   "outputs": [
    {
     "name": "stdout",
     "output_type": "stream",
     "text": [
      "Pepe Garcia Garcia\n",
      "Ana Perez Perez\n",
      "Carlos Vives Cuesta\n"
     ]
    }
   ],
   "source": [
    "nombres = [\"Pepe\",\"Ana\",\"Carlos\",\"Juan\",\"Marta\",\"Maria\"]\n",
    "apellidos = [\"Garcia\",\"Perez\",\"Vives\",\"Cuesta\"]\n",
    "apellidos2 = [\"Garcia\",\"Perez\",\"Cuesta\"]\n",
    "#print(list(zip(nombres, apellidos)))\n",
    "\n",
    "for nombre, apellido, apellido2 in zip(nombres,apellidos, apellidos2):\n",
    "    print(nombre, apellido, apellido2)\n"
   ]
  },
  {
   "cell_type": "markdown",
   "metadata": {},
   "source": [
    "# SETS"
   ]
  },
  {
   "cell_type": "code",
   "execution_count": 79,
   "metadata": {},
   "outputs": [
    {
     "name": "stdout",
     "output_type": "stream",
     "text": [
      "{1, 2, 3} <class 'set'>\n",
      "1\n",
      "2\n",
      "3\n"
     ]
    }
   ],
   "source": [
    "# Set\n",
    "a = set([1,2,3])\n",
    "print(a, type(a))\n",
    "\n",
    "for e in a:\n",
    "    print(e)"
   ]
  },
  {
   "cell_type": "code",
   "execution_count": 93,
   "metadata": {},
   "outputs": [
    {
     "name": "stdout",
     "output_type": "stream",
     "text": [
      "{1, 2, 3}\n",
      "{'Carlos', 'Luis', 'Juan', 'Pepe'}\n",
      "{'c', 'a', 'o', 'q', '?', 's', 'h', 'l', '¿', 't', ' ', 'u', 'm', 'e', ','}\n",
      "15 41\n",
      "PRIMER ELEMENTO: c\n",
      "c\n",
      "a\n",
      "o\n",
      "q\n",
      "?\n",
      "s\n",
      "h\n",
      "l\n",
      "¿\n",
      "t\n",
      " \n",
      "u\n",
      "m\n",
      "e\n",
      ",\n"
     ]
    }
   ],
   "source": [
    "a = set([1,2,3,3,2,1])\n",
    "print(a)\n",
    "\n",
    "b = [\"Juan\",\"Pepe\",\"Luis\",\"Pepe\",\"Carlos\"]\n",
    "print(set(b))\n",
    "\n",
    "c = \"Hola que tal estas, ¿Como te llamas? hola\"\n",
    "c = c.lower() # Convertir en minusculas\n",
    "\n",
    "m = set(c)\n",
    "print(m)\n",
    "print(len(m), len(c))\n",
    "#print(m[0]) <- Es un error\n",
    "\n",
    "print(\"PRIMER ELEMENTO:\",list(m)[0])\n",
    "\n",
    "for e in m:\n",
    "    print(e)"
   ]
  },
  {
   "cell_type": "code",
   "execution_count": 102,
   "metadata": {},
   "outputs": [
    {
     "name": "stdout",
     "output_type": "stream",
     "text": [
      "{1, 2, 3, 4, 5, 6}\n",
      "{3} {3}\n",
      "{1, 2} {4, 5, 6}\n"
     ]
    }
   ],
   "source": [
    "# https://docs.python.org/3.7/library/stdtypes.html#set\n",
    "a = set([1,2,3])\n",
    "b = set([4,5,6,3])\n",
    "print(a.union(b))\n",
    "print(a.intersection(b),b.intersection(a))\n",
    "print(a.difference(b),b.difference(a))"
   ]
  },
  {
   "cell_type": "code",
   "execution_count": 105,
   "metadata": {},
   "outputs": [
    {
     "data": {
      "text/plain": [
       "False"
      ]
     },
     "execution_count": 105,
     "metadata": {},
     "output_type": "execute_result"
    }
   ],
   "source": [
    "a = set([1,2,3])\n",
    "b = set([2,3,4])\n",
    "\n",
    "b.issubset(a)"
   ]
  },
  {
   "cell_type": "code",
   "execution_count": 108,
   "metadata": {},
   "outputs": [
    {
     "name": "stdout",
     "output_type": "stream",
     "text": [
      "Adios\n"
     ]
    }
   ],
   "source": [
    "z = set([1,2,3])\n",
    "if \"Pepe\" in z:\n",
    "    print(\"Hola\")\n",
    "else:\n",
    "    print(\"Adios\")"
   ]
  },
  {
   "cell_type": "code",
   "execution_count": 114,
   "metadata": {},
   "outputs": [
    {
     "name": "stdout",
     "output_type": "stream",
     "text": [
      "{1, 2, 3, 5}\n"
     ]
    }
   ],
   "source": [
    "a = set([1,2,3])\n",
    "a.add(5)\n",
    "a.add(3)\n",
    "print(a)"
   ]
  },
  {
   "cell_type": "code",
   "execution_count": 112,
   "metadata": {},
   "outputs": [
    {
     "name": "stdout",
     "output_type": "stream",
     "text": [
      "Hola\n"
     ]
    }
   ],
   "source": [
    "a = 3\n",
    "b = 8\n",
    "if a == 3:\n",
    "    print(\"Hola\")\n",
    "    if b==9:\n",
    "        print(\"Bien\")\n",
    "elif a==4:\n",
    "    print(\"adios\")\n",
    "else:\n",
    "    print(\"Nada\")"
   ]
  },
  {
   "cell_type": "markdown",
   "metadata": {},
   "source": [
    "# Dicts\n"
   ]
  },
  {
   "cell_type": "code",
   "execution_count": 148,
   "metadata": {},
   "outputs": [
    {
     "name": "stdout",
     "output_type": "stream",
     "text": [
      "{'nombre': 'Luis', 'edad': 25, 'notas': [5, 4, 10]} <class 'dict'>\n",
      "las notas de: Luis\n",
      "5\n",
      "4\n",
      "10\n"
     ]
    }
   ],
   "source": [
    "alumno = {\n",
    "    \"nombre\":\"Luis\",\n",
    "    \"edad\": 25,\n",
    "    \"notas\": [5,4,10]\n",
    "}\n",
    "print(alumno, type(alumno))\n",
    "\n",
    "print(\"las notas de:\",alumno[\"nombre\"])\n",
    "for e in alumno[\"notas\"]:\n",
    "    print(e)"
   ]
  },
  {
   "cell_type": "code",
   "execution_count": 160,
   "metadata": {},
   "outputs": [
    {
     "name": "stdout",
     "output_type": "stream",
     "text": [
      "nombre\n",
      "edad\n",
      "apellidos\n",
      "notas\n"
     ]
    }
   ],
   "source": [
    "alumno = {\n",
    "    \"nombre\":\"Luis\",\n",
    "    \"edad\": 25,\n",
    "    \"apellidos\":{\n",
    "        \"primero\":\"Garcia\",\n",
    "        \"segundo\":\"Garcia\"\n",
    "    },\n",
    "    \"notas\": [5,4,10]\n",
    "}\n",
    "\n",
    "for e in alumno:\n",
    "    print(e)"
   ]
  },
  {
   "cell_type": "code",
   "execution_count": 161,
   "metadata": {},
   "outputs": [
    {
     "data": {
      "text/plain": [
       "dict_keys(['nombre', 'edad', 'apellidos', 'notas'])"
      ]
     },
     "execution_count": 161,
     "metadata": {},
     "output_type": "execute_result"
    }
   ],
   "source": [
    "alumno.keys()"
   ]
  },
  {
   "cell_type": "code",
   "execution_count": 162,
   "metadata": {},
   "outputs": [
    {
     "data": {
      "text/plain": [
       "dict_values(['Luis', 25, {'primero': 'Garcia', 'segundo': 'Garcia'}, [5, 4, 10]])"
      ]
     },
     "execution_count": 162,
     "metadata": {},
     "output_type": "execute_result"
    }
   ],
   "source": [
    "alumno.values()"
   ]
  },
  {
   "cell_type": "code",
   "execution_count": 163,
   "metadata": {},
   "outputs": [
    {
     "data": {
      "text/plain": [
       "dict_items([('nombre', 'Luis'), ('edad', 25), ('apellidos', {'primero': 'Garcia', 'segundo': 'Garcia'}), ('notas', [5, 4, 10])])"
      ]
     },
     "execution_count": 163,
     "metadata": {},
     "output_type": "execute_result"
    }
   ],
   "source": [
    "alumno.items()"
   ]
  },
  {
   "cell_type": "code",
   "execution_count": 164,
   "metadata": {},
   "outputs": [
    {
     "name": "stdout",
     "output_type": "stream",
     "text": [
      "('nombre', 'Luis')\n",
      "('edad', 25)\n",
      "('apellidos', {'primero': 'Garcia', 'segundo': 'Garcia'})\n",
      "('notas', [5, 4, 10])\n",
      "nombre Luis\n",
      "edad 25\n",
      "apellidos {'primero': 'Garcia', 'segundo': 'Garcia'}\n",
      "notas [5, 4, 10]\n"
     ]
    }
   ],
   "source": [
    "for e in alumno.items():\n",
    "    print(e)\n",
    "for key, value in alumno.items():\n",
    "    print(key,value)"
   ]
  },
  {
   "cell_type": "code",
   "execution_count": 165,
   "metadata": {},
   "outputs": [
    {
     "name": "stdout",
     "output_type": "stream",
     "text": [
      "Luis Garcia Garcia\n"
     ]
    }
   ],
   "source": [
    "print(alumno[\"nombre\"],alumno[\"apellidos\"][\"primero\"],alumno[\"apellidos\"][\"segundo\"])"
   ]
  },
  {
   "cell_type": "code",
   "execution_count": 177,
   "metadata": {},
   "outputs": [
    {
     "name": "stdout",
     "output_type": "stream",
     "text": [
      "[{'nombre': 'Luis', 'edad': 25, 'apellidos': {'primero': 'Garcia', 'segundo': 'Garcia'}, 'notas': [5, 4, 10]}, {'nombre': 'Carlos', 'edad': 25, 'apellidos': {'primero': 'Garcia', 'segundo': 'Garcia'}, 'notas': [5, 4, 10]}]\n"
     ]
    }
   ],
   "source": [
    "alumnos = [{\n",
    "    \"nombre\":\"Luis\",\n",
    "    \"edad\": 25,\n",
    "    \"apellidos\":{\n",
    "        \"primero\":\"Garcia\",\n",
    "        \"segundo\":\"Garcia\"\n",
    "    },\n",
    "    \"notas\": [5,4,10]\n",
    "},{\n",
    "    \"nombre\":\"Carlos\",\n",
    "    \"edad\": 25,\n",
    "    \"apellidos\":{\n",
    "        \"primero\":\"Garcia\",\n",
    "        \"segundo\":\"Garcia\"\n",
    "    },\n",
    "    \"notas\": [5,4,10]\n",
    "    }\n",
    "]\n",
    "\n",
    "print(alumnos)\n",
    "\n"
   ]
  },
  {
   "cell_type": "code",
   "execution_count": 180,
   "metadata": {},
   "outputs": [],
   "source": [
    "schoolSystem = {\n",
    "  'schools': [{\n",
    "      'name': 'Fake School 1',\n",
    "      'classRooms': [{\n",
    "        'teacher': {\n",
    "          'firstName': 'Marcelino',\n",
    "          'lastName': 'Padberg',\n",
    "          'age': 25\n",
    "        },\n",
    "        'students': [{\n",
    "            'firstName': 'Aliyah',\n",
    "            'lastName': 'Schulist',\n",
    "            'age': 18\n",
    "          },\n",
    "          {\n",
    "            'firstName': 'Cleveland',\n",
    "            'lastName': 'Towne',\n",
    "            'age': 28\n",
    "          }, {\n",
    "            'firstName': 'Jan',\n",
    "            'lastName': 'Quitzon',\n",
    "            'age': 18\n",
    "          }, {\n",
    "            'firstName': 'Alaina',\n",
    "            'lastName': 'Runolfsdottir',\n",
    "            'age': 18\n",
    "          },{\n",
    "            'firstName': 'Saul',\n",
    "            'lastName': 'Heathcote',\n",
    "            'age': 20\n",
    "          },\n",
    "          {\n",
    "            'firstName': 'Gerhard',\n",
    "            'lastName': 'Bergstrom',\n",
    "            'age': 23\n",
    "          }\n",
    "        ]\n",
    "      }, {\n",
    "        'teacher': {\n",
    "          'firstName': 'Edwardo',\n",
    "          'lastName': 'Schowalter',\n",
    "          'age': 28\n",
    "        },\n",
    "        'students': [{\n",
    "            'firstName': 'Manley',\n",
    "            'lastName': 'Doyle',\n",
    "            'age': 18\n",
    "          }, {\n",
    "            'firstName': 'Maximilian',\n",
    "            'lastName': 'Gleichner',\n",
    "            'age': 19\n",
    "          }, {\n",
    "            'firstName': 'Sid',\n",
    "            'lastName': 'Rohan',\n",
    "            'age': 30\n",
    "          },\n",
    "          {\n",
    "            'firstName': 'Catalina',\n",
    "            'lastName': 'Hilpert',\n",
    "            'age': 27\n",
    "          }, {\n",
    "            'firstName': 'Gerald',\n",
    "            'lastName': \"O'Keefe\",\n",
    "            'age': 26\n",
    "          }\n",
    "        ]\n",
    "      }]\n",
    "    },\n",
    "    {\n",
    "      'name': 'Fake School 2',\n",
    "      'classRooms': [{\n",
    "          'teacher': {\n",
    "            'firstName': 'Lucas',\n",
    "            'lastName': 'Schroeder',\n",
    "            'age': 29\n",
    "          },\n",
    "          'students': [{\n",
    "              'firstName': 'Giuseppe',\n",
    "              'lastName': 'Hegmann',\n",
    "              'age': 24\n",
    "            },\n",
    "            {\n",
    "              'firstName': 'Jennyfer',\n",
    "              'lastName': 'Hane',\n",
    "              'age': 19\n",
    "            }, {\n",
    "              'firstName': 'Mikayla',\n",
    "              'lastName': 'Braun',\n",
    "              'age': 23\n",
    "            }, {\n",
    "              'firstName': 'Rickie',\n",
    "              'lastName': 'White',\n",
    "              'age': 22\n",
    "            }, {\n",
    "              'firstName': 'Rose',\n",
    "              'lastName': 'Collins',\n",
    "              'age': 30\n",
    "            }\n",
    "          ]\n",
    "        },\n",
    "        {\n",
    "          'teacher': {\n",
    "            'firstName': 'Green',\n",
    "            'lastName': 'Sauer',\n",
    "            'age': 25\n",
    "          },\n",
    "          'students': [{\n",
    "              'firstName': 'Melany',\n",
    "              'lastName': 'Welch',\n",
    "              'age': 25\n",
    "            }, {\n",
    "              'firstName': 'Paxton',\n",
    "              'lastName': 'Corkery',\n",
    "              'age': 22\n",
    "            },\n",
    "            {\n",
    "              'firstName': 'Nellie',\n",
    "              'lastName': 'Hauck',\n",
    "              'age': 26\n",
    "            }, {\n",
    "              'firstName': 'Eunice',\n",
    "              'lastName': 'Hirthe',\n",
    "              'age': 26\n",
    "            }, {\n",
    "              'firstName': 'Aylin',\n",
    "              'lastName': 'Barrows',\n",
    "              'age': 26\n",
    "            }\n",
    "          ]\n",
    "        }\n",
    "      ]\n",
    "    },\n",
    "    {\n",
    "      'name': 'Fake School 3',\n",
    "      'classRooms': [{\n",
    "        'teacher': {\n",
    "          'firstName': 'Nikko',\n",
    "          'lastName': 'Crist',\n",
    "          'age': 42\n",
    "        },\n",
    "        'students': [{\n",
    "            'firstName': 'Christop',\n",
    "            'lastName': 'Hahn',\n",
    "            'age': 26\n",
    "          }, {\n",
    "            'firstName': 'Newell',\n",
    "            'lastName': 'Kemmer',\n",
    "            'age': 27\n",
    "          },\n",
    "          {\n",
    "            'firstName': 'Katheryn',\n",
    "            'lastName': 'Heller',\n",
    "            'age': 26\n",
    "          }, {\n",
    "            'firstName': 'Saul',\n",
    "            'lastName': 'Heathcote',\n",
    "            'age': 20\n",
    "          },\n",
    "          {\n",
    "            'firstName': 'Maudie',\n",
    "            'lastName': 'Haley',\n",
    "            'age': 30\n",
    "          }\n",
    "        ]\n",
    "      }, {\n",
    "        'teacher': {\n",
    "          'firstName': 'Nathanael',\n",
    "          'lastName': 'Hansson',\n",
    "          'age': 50\n",
    "        },\n",
    "        'students': [{\n",
    "            'firstName': 'Jensen',\n",
    "            'lastName': 'Reichel',\n",
    "            'age': 21\n",
    "          }, {\n",
    "            'firstName': 'Lois',\n",
    "            'lastName': 'Kulas',\n",
    "            'age': 28\n",
    "          },\n",
    "          {\n",
    "            'firstName': 'Caterina',\n",
    "            'lastName': 'Wolff',\n",
    "            'age': 28\n",
    "          }, {\n",
    "            'firstName': 'Dahlia',\n",
    "            'lastName': 'Collier',\n",
    "            'age': 24\n",
    "          },\n",
    "          {\n",
    "            'firstName': 'Linwood',\n",
    "            'lastName': 'Langosh',\n",
    "            'age': 26\n",
    "          }\n",
    "        ]\n",
    "      }]\n",
    "    }\n",
    "  ]\n",
    "}"
   ]
  },
  {
   "cell_type": "code",
   "execution_count": 231,
   "metadata": {},
   "outputs": [
    {
     "name": "stdout",
     "output_type": "stream",
     "text": [
      "{'name': 'Fake School 3', 'classRooms': [{'teacher': {'firstName': 'Nikko', 'lastName': 'Crist', 'age': 42}, 'students': [{'firstName': 'Christop', 'lastName': 'Hahn', 'age': 26}, {'firstName': 'Newell', 'lastName': 'Kemmer', 'age': 27}, {'firstName': 'Katheryn', 'lastName': 'Heller', 'age': 26}, {'firstName': 'Saul', 'lastName': 'Heathcote', 'age': 20}, {'firstName': 'Maudie', 'lastName': 'Haley', 'age': 30}]}, {'teacher': {'firstName': 'Nathanael', 'lastName': 'Hansson', 'age': 50}, 'students': [{'firstName': 'Jensen', 'lastName': 'Reichel', 'age': 21}, {'firstName': 'Lois', 'lastName': 'Kulas', 'age': 28}, {'firstName': 'Caterina', 'lastName': 'Wolff', 'age': 28}, {'firstName': 'Dahlia', 'lastName': 'Collier', 'age': 24}, {'firstName': 'Linwood', 'lastName': 'Langosh', 'age': 26}]}]}\n",
      "{'firstName': 'Nathanael', 'lastName': 'Hansson', 'age': 50}\n"
     ]
    }
   ],
   "source": [
    "# 1 - Add a student with the name of Lucille D. Lozano to Fake School 2, \n",
    "#     in the first classroom.\n",
    "newstudent = {\n",
    "    \"firstName\": \"Lucille D.\",\n",
    "    \"lastName\": \"Lozano\",\n",
    "    \"age\": \"NA\"\n",
    "}\n",
    "schoolSystem['schools'][1]['classRooms'][0]['students'].append(newstudent)\n",
    "\n",
    "\n",
    "# 2 - Retrieve the “Fake School 3” object\n",
    "for e in schoolSystem['schools']:\n",
    "    if e['name']=='Fake School 3':\n",
    "        print(e)\n",
    "\n",
    "# 3 - Retrieve the teacher with the first name of “Nathanael”\n",
    "for school in schoolSystem[\"schools\"]:\n",
    "    for classRooms in school[\"classRooms\"]:\n",
    "        name = classRooms[\"teacher\"][\"firstName\"]\n",
    "        if name ==\"Nathanael\":\n",
    "            print(classRooms[\"teacher\"])\n"
   ]
  },
  {
   "cell_type": "code",
   "execution_count": 190,
   "metadata": {},
   "outputs": [
    {
     "name": "stdout",
     "output_type": "stream",
     "text": [
      "Fake School 1 - Saul\n",
      "Fake School 3 - Saul\n"
     ]
    }
   ],
   "source": [
    "# 4 - Retrieve the student with the first name of “Saul”\n",
    "for school in schoolSystem[\"schools\"]:\n",
    "    for classRooms in school[\"classRooms\"]:\n",
    "        for student in classRooms[\"students\"]:\n",
    "            if student[\"firstName\"]==\"Saul\":\n",
    "                print(school[\"name\"],\"-\", student[\"firstName\"])\n",
    "                break"
   ]
  },
  {
   "cell_type": "code",
   "execution_count": 192,
   "metadata": {},
   "outputs": [
    {
     "name": "stdout",
     "output_type": "stream",
     "text": [
      "0\n",
      "1\n",
      "2\n",
      "3\n"
     ]
    }
   ],
   "source": [
    "for i in range(10):\n",
    "    print(i)\n",
    "    if i == 3:\n",
    "        break"
   ]
  },
  {
   "cell_type": "code",
   "execution_count": 220,
   "metadata": {},
   "outputs": [
    {
     "name": "stdout",
     "output_type": "stream",
     "text": [
      "[{'nombre': 'Juan', 'edad': 30}, {'nombre': 'Juan', 'edad': 30}]\n",
      "[{'nombre': 'David', 'edad': 30}, {'nombre': 'David', 'edad': 30}]\n"
     ]
    }
   ],
   "source": [
    "alumno ={\n",
    "    \"nombre\":\"Juan\",\n",
    "    \"edad\":30\n",
    "}\n",
    "\n",
    "a = [alumno, alumno]\n",
    "print(a)\n",
    "alumno[\"nombre\"] = \"David\"\n",
    "print(a)"
   ]
  },
  {
   "cell_type": "code",
   "execution_count": 232,
   "metadata": {},
   "outputs": [
    {
     "name": "stdout",
     "output_type": "stream",
     "text": [
      "[{'nombre': 'Juan', 'edad': 30}, {'nombre': 'Juan', 'edad': 30}]\n",
      "[{'nombre': 'David', 'edad': 30}, {'nombre': 'David', 'edad': 30}]\n"
     ]
    }
   ],
   "source": [
    "# QUIZ!! Que esta pasando???\n",
    "alumno = {\n",
    "    \"nombre\":\"Juan\",\n",
    "    \"edad\":30\n",
    "}\n",
    "\n",
    "a = [alumno, alumno]\n",
    "print(a)\n",
    "a[0][\"nombre\"] = \"David\"\n",
    "print(a)"
   ]
  },
  {
   "cell_type": "code",
   "execution_count": 230,
   "metadata": {},
   "outputs": [
    {
     "name": "stdout",
     "output_type": "stream",
     "text": [
      "{'nombre': 'pepe'} <class 'dict'>\n",
      "{'edad': 33} <class 'dict'>\n",
      "True <class 'bool'>\n",
      "Hola que tal <class 'str'>\n"
     ]
    }
   ],
   "source": [
    "alumnos = [\n",
    "    {\"nombre\":\"pepe\"},\n",
    "    {\"edad\":33},\n",
    "    True\n",
    "]\n",
    "\n",
    "alumnos.append(\"Hola que tal\")\n",
    "\n",
    "for e in alumnos:\n",
    "    #print(e[\"nombre\"])\n",
    "    print(e, type(e))"
   ]
  },
  {
   "cell_type": "code",
   "execution_count": 227,
   "metadata": {},
   "outputs": [
    {
     "name": "stdout",
     "output_type": "stream",
     "text": [
      "{'nombre': 33}\n"
     ]
    }
   ],
   "source": [
    "hola = {}\n",
    "hola[\"nombre\"] = 33\n",
    "print(hola)"
   ]
  },
  {
   "cell_type": "markdown",
   "metadata": {},
   "source": [
    "# Refs\n",
    "- https://docs.python.org/3/library/functions.html"
   ]
  },
  {
   "cell_type": "code",
   "execution_count": null,
   "metadata": {},
   "outputs": [],
   "source": [
    "# Ver otro dia\n",
    "# \"byte\"\n",
    "# \"Datetime\"\n",
    "# \"range\""
   ]
  }
 ],
 "metadata": {
  "kernelspec": {
   "display_name": "Python 3",
   "language": "python",
   "name": "python3"
  },
  "language_info": {
   "codemirror_mode": {
    "name": "ipython",
    "version": 3
   },
   "file_extension": ".py",
   "mimetype": "text/x-python",
   "name": "python",
   "nbconvert_exporter": "python",
   "pygments_lexer": "ipython3",
   "version": "3.7.5"
  }
 },
 "nbformat": 4,
 "nbformat_minor": 2
}
